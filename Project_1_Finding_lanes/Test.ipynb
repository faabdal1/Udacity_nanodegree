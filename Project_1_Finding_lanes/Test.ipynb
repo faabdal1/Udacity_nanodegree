{
 "cells": [
  {
   "cell_type": "code",
   "execution_count": 141,
   "metadata": {},
   "outputs": [
    {
     "name": "stdout",
     "output_type": "stream",
     "text": [
      "-0.726890756302521\n",
      "-0.7004405286343612\n",
      "-0.7251461988304093\n",
      "-0.7073170731707317\n",
      "-0.7073170731707317\n",
      "-0.68\n",
      "-0.6818181818181818\n",
      "10.254367888657725\n"
     ]
    },
    {
     "data": {
      "text/plain": [
       "<matplotlib.image.AxesImage at 0x1332b4a20>"
      ]
     },
     "execution_count": 141,
     "metadata": {},
     "output_type": "execute_result"
    },
    {
     "data": {
      "image/png": "[encoded data removed]",
      "text/plain": [
       "<matplotlib.figure.Figure at 0x131b06da0>"
      ]
     },
     "metadata": {},
     "output_type": "display_data"
    },
    {
     "data": {
      "image/png": "[encoded data removed]",
      "text/plain": [
       "<matplotlib.figure.Figure at 0x133175390>"
      ]
     },
     "metadata": {},
     "output_type": "display_data"
    }
   ],
   "source": [
    "import matplotlib.pyplot as plt\n",
    "import matplotlib.image as mpimg\n",
    "import numpy as np\n",
    "import cv2\n",
    "import time\n",
    "%matplotlib inline\n",
    "\n",
    "# Read in and grayscale the image\n",
    "image = mpimg.imread('test_images/solidYellowLeft.jpg')\n",
    "gray = cv2.cvtColor(image,cv2.COLOR_RGB2GRAY)\n",
    "\n",
    "# Define a kernel size and apply Gaussian smoothing\n",
    "kernel_size = 5\n",
    "blur_gray = cv2.GaussianBlur(gray,(kernel_size, kernel_size),0)\n",
    "\n",
    "# Define our parameters for Canny and apply\n",
    "low_threshold = 50\n",
    "high_threshold = 150\n",
    "edges = cv2.Canny(blur_gray, low_threshold, high_threshold)\n",
    "\n",
    "# Next we'll create a masked edges image using cv2.fillPoly()\n",
    "mask = np.zeros_like(edges)   \n",
    "ignore_mask_color = 255   \n",
    "\n",
    "# This time we are defining a four sided polygon to mask\n",
    "imshape = image.shape\n",
    "vertices = np.array([[(0,imshape[0]),(460, 320), (490, 320), (imshape[1],imshape[0])]], dtype=np.int32)\n",
    "#print(vertices)\n",
    "cv2.fillPoly(mask, vertices, ignore_mask_color)\n",
    "\n",
    "masked_edges = cv2.bitwise_and(edges, mask)\n",
    "plt.imshow(masked_edges)\n",
    "\n",
    "# Define the Hough transform parameters\n",
    "# Make a blank the same size as our image to draw on\n",
    "rho = 2 # distance resolution in pixels of the Hough grid\n",
    "theta = np.pi/180 # angular resolution in radians of the Hough grid\n",
    "threshold = 20   # minimum number of votes (intersections in Hough grid cell)\n",
    "min_line_length = 40 #minimum number of pixels making up a line\n",
    "max_line_gap = 20 # maximum gap in pixels between connectable line segments\n",
    "line_image = np.copy(image)*0 # creating a blank to draw lines on\n",
    "\n",
    "# Run Hough on edge detected image\n",
    "# Output \"lines\" is an array containing endpoints of detected line segments\n",
    "lines = cv2.HoughLinesP(masked_edges, rho, theta, threshold, np.array([]),\n",
    "                            min_line_length, max_line_gap)\n",
    "\n",
    "# Iterate over the output \"lines\" and draw lines on a blank image\n",
    "\n",
    "left_lines = []\n",
    "right_lines = []\n",
    "b_l = []\n",
    "b_r = []\n",
    "\n",
    "for line in lines:\n",
    "    for x1,y1,x2,y2 in line:\n",
    "        slope = (y2-y1)/(x2-x1)\n",
    "        if (slope > 0):\n",
    "            left_lines.append([x1,y1,x2,y2])\n",
    "            b_l.append([y1 - slope*x1])\n",
    "        else:\n",
    "            right_lines.append([x1,y1,x2,y2]) \n",
    "            print(slope)\n",
    "\n",
    "\n",
    "\n",
    "b_l = np.mean(b_l)\n",
    "print(b_l)\n",
    "        \n",
    "#Right side\n",
    "x1,y1,x2,y2 = np.mean(right_lines, axis=0)\n",
    "slope = (y2-y1)/(x2-x1)\n",
    "b = y1 - slope*x1\n",
    "\n",
    "y1_n = 550\n",
    "x1_n = (y1_n - b)/slope\n",
    "y2_n = 320\n",
    "x2_n = (y2_n - b)/slope\n",
    "cv2.line(line_image,(int(x1_n),y1_n),(int(x2_n),y2_n),(255,0,0),10)\n",
    "\n",
    "#Left side\n",
    "x1,y1,x2,y2 = np.mean(left_lines, axis=0)\n",
    "slope = (y2-y1)/(x2-x1)\n",
    "b = y1 - slope*x1\n",
    "\n",
    "y1_n = 550\n",
    "x1_n = (y1_n - b_l)/slope\n",
    "y2_n = 320\n",
    "x2_n = (y2_n - b_l)/slope\n",
    "cv2.line(line_image,(int(x1_n),y1_n),(int(x2_n),y2_n),(255,0,0),10)\n",
    "\n",
    "plt.imshow(line_image)        \n",
    "        \n",
    "# Create a \"color\" binary image to combine with line image\n",
    "color_edges = np.dstack((edges, edges, edges)) \n",
    "\n",
    "# Draw the lines on the edge image\n",
    "lines_edges = cv2.addWeighted(color_edges, 0.8, line_image, 1, 0) \n",
    "plt.figure()\n",
    "plt.imshow(lines_edges)\n",
    "\n",
    "#plt.imshow(image)\n",
    "\n"
   ]
  },
  {
   "cell_type": "code",
   "execution_count": 97,
   "metadata": {},
   "outputs": [
    {
     "name": "stdout",
     "output_type": "stream",
     "text": [
      "[[7, 8, 9], [10, 2, 9]]\n",
      "[8.5 5.  9. ]\n"
     ]
    }
   ],
   "source": [
    "import numpy as np\n",
    "\n",
    "a = np.array([[1, 2, 3, 4], [3, 4, 5, 6]])\n",
    "np.mean(a)\n",
    "\n",
    "#print(np.mean(a, axis=0))\n",
    "\n",
    "b = []\n",
    "b.append([7, 8, 9])\n",
    "b.append([10, 2, 9])\n",
    "print(b)\n",
    "\n",
    "print(np.mean(b, axis=0))\n",
    "\n",
    "\n",
    "\n"
   ]
  },
  {
   "cell_type": "code",
   "execution_count": 147,
   "metadata": {},
   "outputs": [
    {
     "name": "stdout",
     "output_type": "stream",
     "text": [
      "3\n",
      "hi\n"
     ]
    }
   ],
   "source": [
    "a = [1.1,2,3]\n",
    "print(len(a))\n",
    "\n",
    "if a:\n",
    "    print('hi')"
   ]
  },
  {
   "cell_type": "code",
   "execution_count": null,
   "metadata": {
    "collapsed": true
   },
   "outputs": [],
   "source": []
  }
 ],
 "metadata": {
  "kernelspec": {
   "display_name": "Python 3",
   "language": "python",
   "name": "python3"
  },
  "language_info": {
   "codemirror_mode": {
    "name": "ipython",
    "version": 3
   },
   "file_extension": ".py",
   "mimetype": "text/x-python",
   "name": "python",
   "nbconvert_exporter": "python",
   "pygments_lexer": "ipython3",
   "version": "3.6.2"
  }
 },
 "nbformat": 4,
 "nbformat_minor": 2
}
