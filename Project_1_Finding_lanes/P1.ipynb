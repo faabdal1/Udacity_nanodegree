{
 "cells": [
  {
   "cell_type": "markdown",
   "metadata": {},
   "source": [
    "# Self-Driving Car Engineer Nanodegree\n",
    "\n",
    "\n",
    "## Project: **Finding Lane Lines on the Road** \n",
    "***\n",
    "In this project, you will use the tools you learned about in the lesson to identify lane lines on the road.  You can develop your pipeline on a series of individual images, and later apply the result to a video stream (really just a series of images). Check out the video clip \"raw-lines-example.mp4\" (also contained in this repository) to see what the output should look like after using the helper functions below. \n",
    "\n",
    "Once you have a result that looks roughly like \"raw-lines-example.mp4\", you'll need to get creative and try to average and/or extrapolate the line segments you've detected to map out the full extent of the lane lines.  You can see an example of the result you're going for in the video \"P1_example.mp4\".  Ultimately, you would like to draw just one line for the left side of the lane, and one for the right.\n",
    "\n",
    "In addition to implementing code, there is a brief writeup to complete. The writeup should be completed in a separate file, which can be either a markdown file or a pdf document. There is a [write up template](https://github.com/udacity/CarND-LaneLines-P1/blob/master/writeup_template.md) that can be used to guide the writing process. Completing both the code in the Ipython notebook and the writeup template will cover all of the [rubric points](https://review.udacity.com/#!/rubrics/322/view) for this project.\n",
    "\n",
    "---\n",
    "Let's have a look at our first image called 'test_images/solidWhiteRight.jpg'.  Run the 2 cells below (hit Shift-Enter or the \"play\" button above) to display the image.\n",
    "\n",
    "**Note: If, at any point, you encounter frozen display windows or other confounding issues, you can always start again with a clean slate by going to the \"Kernel\" menu above and selecting \"Restart & Clear Output\".**\n",
    "\n",
    "---"
   ]
  },
  {
   "cell_type": "markdown",
   "metadata": {},
   "source": [
    "**The tools you have are color selection, region of interest selection, grayscaling, Gaussian smoothing, Canny Edge Detection and Hough Tranform line detection.  You  are also free to explore and try other techniques that were not presented in the lesson.  Your goal is piece together a pipeline to detect the line segments in the image, then average/extrapolate them and draw them onto the image for display (as below).  Once you have a working pipeline, try it out on the video stream below.**\n",
    "\n",
    "---\n",
    "\n",
    "<figure>\n",
    " <img src=\"examples/line-segments-example.jpg\" width=\"380\" alt=\"Combined Image\" />\n",
    " <figcaption>\n",
    " <p></p> \n",
    " <p style=\"text-align: center;\"> Your output should look something like this (above) after detecting line segments using the helper functions below </p> \n",
    " </figcaption>\n",
    "</figure>\n",
    " <p></p> \n",
    "<figure>\n",
    " <img src=\"examples/laneLines_thirdPass.jpg\" width=\"380\" alt=\"Combined Image\" />\n",
    " <figcaption>\n",
    " <p></p> \n",
    " <p style=\"text-align: center;\"> Your goal is to connect/average/extrapolate line segments to get output like this</p> \n",
    " </figcaption>\n",
    "</figure>"
   ]
  },
  {
   "cell_type": "markdown",
   "metadata": {},
   "source": [
    "**Run the cell below to import some packages.  If you get an `import error` for a package you've already installed, try changing your kernel (select the Kernel menu above --> Change Kernel).  Still have problems?  Try relaunching Jupyter Notebook from the terminal prompt.  Also, consult the forums for more troubleshooting tips.**  "
   ]
  },
  {
   "cell_type": "markdown",
   "metadata": {},
   "source": [
    "## Import Packages"
   ]
  },
  {
   "cell_type": "code",
   "execution_count": 1,
   "metadata": {
    "collapsed": true
   },
   "outputs": [],
   "source": [
    "#importing some useful packages\n",
    "import matplotlib.pyplot as plt\n",
    "import matplotlib.image as mpimg\n",
    "import numpy as np\n",
    "import cv2\n",
    "%matplotlib inline"
   ]
  },
  {
   "cell_type": "markdown",
   "metadata": {},
   "source": [
    "## Read in an Image"
   ]
  },
  {
   "cell_type": "code",
   "execution_count": null,
   "metadata": {
    "collapsed": true
   },
   "outputs": [],
   "source": [
    "#reading in an image\n",
    "image = mpimg.imread('test_images/solidWhiteRight.jpg')\n",
    "\n",
    "#printing out some stats and plotting\n",
    "print('This image is:', type(image), 'with dimensions:', image.shape)\n",
    "plt.imshow(image)  # if you wanted to show a single color channel image called 'gray', for example, call as plt.imshow(gray, cmap='gray')"
   ]
  },
  {
   "cell_type": "markdown",
   "metadata": {},
   "source": [
    "## Ideas for Lane Detection Pipeline"
   ]
  },
  {
   "cell_type": "markdown",
   "metadata": {},
   "source": [
    "**Some OpenCV functions (beyond those introduced in the lesson) that might be useful for this project are:**\n",
    "\n",
    "`cv2.inRange()` for color selection  \n",
    "`cv2.fillPoly()` for regions selection  \n",
    "`cv2.line()` to draw lines on an image given endpoints  \n",
    "`cv2.addWeighted()` to coadd / overlay two images  \n",
    "`cv2.cvtColor()` to grayscale or change color  \n",
    "`cv2.imwrite()` to output images to file  \n",
    "`cv2.bitwise_and()` to apply a mask to an image\n",
    "\n",
    "**Check out the OpenCV documentation to learn about these and discover even more awesome functionality!**"
   ]
  },
  {
   "cell_type": "markdown",
   "metadata": {},
   "source": [
    "## Helper Functions"
   ]
  },
  {
   "cell_type": "markdown",
   "metadata": {},
   "source": [
    "Below are some helper functions to help get you started. They should look familiar from the lesson!"
   ]
  },
  {
   "cell_type": "code",
   "execution_count": 78,
   "metadata": {},
   "outputs": [],
   "source": [
    "import math\n",
    "\n",
    "def grayscale(img):\n",
    "    \"\"\"Applies the Grayscale transform\n",
    "    This will return an image with only one color channel\n",
    "    but NOTE: to see the returned image as grayscale\n",
    "    (assuming your grayscaled image is called 'gray')\n",
    "    you should call plt.imshow(gray, cmap='gray')\"\"\"\n",
    "    return cv2.cvtColor(img, cv2.COLOR_RGB2GRAY)\n",
    "    # Or use BGR2GRAY if you read an image with cv2.imread()\n",
    "    # return cv2.cvtColor(img, cv2.COLOR_BGR2GRAY)\n",
    "    \n",
    "def canny(img, low_threshold, high_threshold):\n",
    "    \"\"\"Applies the Canny transform\"\"\"\n",
    "    return cv2.Canny(img, low_threshold, high_threshold)\n",
    "\n",
    "def gaussian_blur(img, kernel_size):\n",
    "    \"\"\"Applies a Gaussian Noise kernel\"\"\"\n",
    "    return cv2.GaussianBlur(img, (kernel_size, kernel_size), 0)\n",
    "\n",
    "def region_of_interest(img, vertices):\n",
    "    \"\"\"\n",
    "    Applies an image mask.\n",
    "    \n",
    "    Only keeps the region of the image defined by the polygon\n",
    "    formed from `vertices`. The rest of the image is set to black.\n",
    "    `vertices` should be a numpy array of integer points.\n",
    "    \"\"\"\n",
    "    #defining a blank mask to start with\n",
    "    mask = np.zeros_like(img)   \n",
    "    \n",
    "    #defining a 3 channel or 1 channel color to fill the mask with depending on the input image\n",
    "    if len(img.shape) > 2:\n",
    "        channel_count = img.shape[2]  # i.e. 3 or 4 depending on your image\n",
    "        ignore_mask_color = (255,) * channel_count\n",
    "    else:\n",
    "        ignore_mask_color = 255\n",
    "        \n",
    "    #filling pixels inside the polygon defined by \"vertices\" with the fill color    \n",
    "    cv2.fillPoly(mask, vertices, ignore_mask_color)\n",
    "    \n",
    "    #returning the image only where mask pixels are nonzero\n",
    "    masked_image = cv2.bitwise_and(img, mask)\n",
    "    return masked_image\n",
    "\n",
    "\n",
    "def draw_lines(img, lines, color=[255, 0, 0], thickness=2):\n",
    "    \"\"\"\n",
    "    NOTE: this is the function you might want to use as a starting point once you want to \n",
    "    average/extrapolate the line segments you detect to map out the full\n",
    "    extent of the lane (going from the result shown in raw-lines-example.mp4\n",
    "    to that shown in P1_example.mp4).  \n",
    "    \n",
    "    Think about things like separating line segments by their \n",
    "    slope ((y2-y1)/(x2-x1)) to decide which segments are part of the left\n",
    "    line vs. the right line.  Then, you can average the position of each of \n",
    "    the lines and extrapolate to the top and bottom of the lane.\n",
    "    \n",
    "    This function draws `lines` with `color` and `thickness`.    \n",
    "    Lines are drawn on the image inplace (mutates the image).\n",
    "    If you want to make the lines semi-transparent, think about combining\n",
    "    this function with the weighted_img() function below\n",
    "    \"\"\"\n",
    "    #for line in lines:\n",
    "    #    for x1,y1,x2,y2 in line:\n",
    "    #        cv2.line(img, (x1, y1), (x2, y2), color, thickness)\n",
    "            \n",
    "    left_lines = []\n",
    "    right_lines = []\n",
    "\n",
    "    for line in lines:\n",
    "        for x1,y1,x2,y2 in line:\n",
    "            slope = (y2-y1)/(x2-x1)\n",
    "            if (slope > 0.2 and slope <0.95):\n",
    "                left_lines.append([x1,y1,x2,y2,slope])\n",
    "            elif (slope < -0.2 and slope > -0.95):\n",
    "                right_lines.append([x1,y1,x2,y2,slope])\n",
    "    \n",
    "    imshape = img.shape\n",
    "\n",
    "    #Right line\n",
    "    right_cor = []\n",
    "    right_cor = np.mean(right_lines, axis=0)\n",
    "    if right_cor.size>1:\n",
    "        x1,y1,x2,y2,slope = right_cor\n",
    "        b = y1 - slope*x1\n",
    "        y1_n = imshape[1]\n",
    "        x1_n = (y1_n - b)/slope\n",
    "        y2_n = (imshape[0])*3/5\n",
    "        x2_n = (y2_n - b)/slope\n",
    "        cv2.line(img,(int(x1_n),int(y1_n)),(int(x2_n),int(y2_n)),(255,0,0),10)\n",
    "\n",
    "    #Left line\n",
    "    left_cor = np.mean(left_lines, axis=0)\n",
    "    if left_cor.size>1:\n",
    "        x1,y1,x2,y2,slope = np.mean(left_lines, axis=0)\n",
    "        b = y1 - slope*x1\n",
    "        y1_n = imshape[1]\n",
    "        x1_n = (y1_n - b)/slope\n",
    "        y2_n = (imshape[0])*3/5\n",
    "        x2_n = (y2_n - b)/slope\n",
    "        cv2.line(img,(int(x1_n),int(y1_n)),(int(x2_n),int(y2_n)),(255,0,0),10)       \n",
    "    \n",
    "    return img\n",
    "\n",
    "def hough_lines(img, rho, theta, threshold, min_line_len, max_line_gap):\n",
    "    \"\"\"\n",
    "    `img` should be the output of a Canny transform.\n",
    "        \n",
    "    Returns an image with hough lines drawn.\n",
    "    \"\"\"\n",
    "    lines = cv2.HoughLinesP(img, rho, theta, threshold, np.array([]), minLineLength=min_line_len, maxLineGap=max_line_gap)\n",
    "    line_img = np.zeros((img.shape[0], img.shape[1], 3), dtype=np.uint8)\n",
    "    draw_lines(line_img, lines)\n",
    "    return line_img\n",
    "\n",
    "# Python 3 has support for cool math symbols.\n",
    "\n",
    "def weighted_img(img, initial_img, α=0.8, β=1., γ=0.):\n",
    "    \"\"\"\n",
    "    `img` is the output of the hough_lines(), An image with lines drawn on it.\n",
    "    Should be a blank image (all black) with lines drawn on it.\n",
    "    \n",
    "    `initial_img` should be the image before any processing.\n",
    "    \n",
    "    The result image is computed as follows:\n",
    "    \n",
    "    initial_img * α + img * β + γ\n",
    "    NOTE: initial_img and img must be the same shape!\n",
    "    \"\"\"\n",
    "    return cv2.addWeighted(initial_img, α, img, β, γ)"
   ]
  },
  {
   "cell_type": "markdown",
   "metadata": {},
   "source": [
    "## Test Images\n",
    "\n",
    "Build your pipeline to work on the images in the directory \"test_images\"  \n",
    "**You should make sure your pipeline works well on these images before you try the videos.**"
   ]
  },
  {
   "cell_type": "code",
   "execution_count": 58,
   "metadata": {},
   "outputs": [],
   "source": [
    "import os\n",
    "list = os.listdir(\"test_images/\")\n"
   ]
  },
  {
   "cell_type": "markdown",
   "metadata": {},
   "source": [
    "## Build a Lane Finding Pipeline\n",
    "\n"
   ]
  },
  {
   "cell_type": "markdown",
   "metadata": {},
   "source": [
    "Build the pipeline and run your solution on all test_images. Make copies into the `test_images_output` directory, and you can use the images in your writeup report.\n",
    "\n",
    "Try tuning the various parameters, especially the low and high Canny thresholds as well as the Hough lines parameters."
   ]
  },
  {
   "cell_type": "code",
   "execution_count": 69,
   "metadata": {},
   "outputs": [],
   "source": [
    "# TODO: Build your pipeline that will draw lane lines on the test_images\n",
    "# then save them to the test_images_output directory.\n",
    "\n",
    "for i in range(len(list)):\n",
    "    if list[i]==\".DS_Store\":\n",
    "        continue\n",
    "    else:\n",
    "        #Read image from list\n",
    "        image = mpimg.imread('test_images/{}'.format(list[i]))\n",
    "\n",
    "        #Convert the image to grayscale\n",
    "        gray = grayscale(image)\n",
    "\n",
    "        #Define a kernel size and apply Gaussian smoothing\n",
    "        kernel_size = 5\n",
    "        blur_gray = gaussian_blur(gray, kernel_size)\n",
    "\n",
    "        #Define parameter for Canny edge and apply\n",
    "        low_threshold = 50\n",
    "        high_threshold = 150\n",
    "        edges = canny(blur_gray, low_threshold, high_threshold)\n",
    "\n",
    "        #Define region of interest and apply to edges\n",
    "        imshape = image.shape\n",
    "        #vertices = np.array([[(0,imshape[0]),(450, 325), (510, 325), (imshape[1],imshape[0])]], dtype=np.int32)\n",
    "        vertices = np.array([[(imshape[1]*0.05,imshape[0]),(imshape[1]*0.46, (imshape[0])*3/5), (imshape[1]*0.54, (imshape[0])*3/5), (imshape[1]*0.95,imshape[0])]], dtype=np.int32)\n",
    "\n",
    "        masked_image = region_of_interest(edges,vertices)\n",
    "\n",
    "        #Define the Hough transform parameters\n",
    "\n",
    "        rho = 1 # distance resolution in pixels of the Hough grid\n",
    "        theta = np.pi/180 # angular resolution in radians of the Hough grid\n",
    "        threshold = 35   # minimum number of votes (intersections in Hough grid cell)\n",
    "        min_line_length = 40 #minimum number of pixels making up a line\n",
    "        max_line_gap = 50 # maximum gap in pixels between connectable line segments\n",
    "\n",
    "        line_img = hough_lines(masked_image, rho, theta, threshold, min_line_length, max_line_gap)\n",
    "\n",
    "        new_img = weighted_img(line_img,image)\n",
    "        #plt.figure()\n",
    "        #plt.imshow(masked_image)\n",
    "\n",
    "        cv2.imwrite('test_images_output/{}'.format(list[i]), cv2.cvtColor(new_img, cv2.COLOR_RGB2BGR))\n"
   ]
  },
  {
   "cell_type": "markdown",
   "metadata": {},
   "source": [
    "## Test on Videos\n",
    "\n",
    "You know what's cooler than drawing lanes over images? Drawing lanes over video!\n",
    "\n",
    "We can test our solution on two provided videos:\n",
    "\n",
    "`solidWhiteRight.mp4`\n",
    "\n",
    "`solidYellowLeft.mp4`\n",
    "\n",
    "**Note: if you get an import error when you run the next cell, try changing your kernel (select the Kernel menu above --> Change Kernel). Still have problems? Try relaunching Jupyter Notebook from the terminal prompt. Also, consult the forums for more troubleshooting tips.**\n",
    "\n",
    "**If you get an error that looks like this:**\n",
    "```\n",
    "NeedDownloadError: Need ffmpeg exe. \n",
    "You can download it by calling: \n",
    "imageio.plugins.ffmpeg.download()\n",
    "```\n",
    "**Follow the instructions in the error message and check out [this forum post](https://discussions.udacity.com/t/project-error-of-test-on-videos/274082) for more troubleshooting tips across operating systems.**"
   ]
  },
  {
   "cell_type": "code",
   "execution_count": 6,
   "metadata": {
    "collapsed": true
   },
   "outputs": [],
   "source": [
    "# Import everything needed to edit/save/watch video clips\n",
    "from moviepy.editor import VideoFileClip\n",
    "from IPython.display import HTML"
   ]
  },
  {
   "cell_type": "code",
   "execution_count": 48,
   "metadata": {},
   "outputs": [],
   "source": [
    "def process_image(image):\n",
    "    # NOTE: The output you return should be a color image (3 channel) for processing video below\n",
    "    # TODO: put your pipeline here,\n",
    "    # you should return the final output (image where lines are drawn on lanes)\n",
    "\n",
    "    #Convert the image to grayscale\n",
    "    gray = grayscale(image)\n",
    "\n",
    "    #Define a kernel size and apply Gaussian smoothing\n",
    "    kernel_size = 5\n",
    "    blur_gray = gaussian_blur(gray, kernel_size)\n",
    "\n",
    "    #Define parameter for Canny edge and apply\n",
    "    low_threshold = 50\n",
    "    high_threshold = 150\n",
    "    edges = canny(blur_gray, low_threshold, high_threshold)\n",
    "\n",
    "    #Define region of interest and apply to edges\n",
    "    imshape = image.shape\n",
    "    #vertices = np.array([[(0,imshape[0]),(450, 325), (510, 325), (imshape[1],imshape[0])]], dtype=np.int32)\n",
    "    vertices = np.array([[(imshape[1]*0.05,imshape[0]),(imshape[1]*0.46, (imshape[0])*3/5), (imshape[1]*0.54, (imshape[0])*3/5), (imshape[1]*0.95,imshape[0])]], dtype=np.int32)\n",
    "\n",
    "\n",
    "\n",
    "\n",
    "    masked_image = region_of_interest(edges,vertices)\n",
    "\n",
    "    #Define the Hough transform parameters\n",
    "    rho = 1 # distance resolution in pixels of the Hough grid\n",
    "    theta = np.pi/180 # angular resolution in radians of the Hough grid\n",
    "    threshold = 35   # minimum number of votes (intersections in Hough grid cell)\n",
    "    min_line_length = 40 #minimum number of pixels making up a line\n",
    "    max_line_gap = 50 # maximum gap in pixels between connectable line segments\n",
    "\n",
    "    line_img = hough_lines(masked_image, rho, theta, threshold, min_line_length, max_line_gap)\n",
    "\n",
    "    return weighted_img(line_img,image)"
   ]
  },
  {
   "cell_type": "markdown",
   "metadata": {},
   "source": [
    "Let's try the one with the solid white lane on the right first ..."
   ]
  },
  {
   "cell_type": "code",
   "execution_count": 49,
   "metadata": {},
   "outputs": [
    {
     "name": "stderr",
     "output_type": "stream",
     "text": [
      "t:   4%|▍         | 9/221 [00:00<00:02, 88.70it/s, now=None]"
     ]
    },
    {
     "name": "stdout",
     "output_type": "stream",
     "text": [
      "0.6152625444233155\n",
      "Moviepy - Building video test_videos_output/solidWhiteRight.mp4.\n",
      "Moviepy - Writing video test_videos_output/solidWhiteRight.mp4\n",
      "\n",
      "0.6152625444233155\n",
      "0.6198488623221192\n",
      "0.6237403174587539\n",
      "0.6206731361980031\n",
      "0.6158525978138037\n",
      "0.6133296100981176\n",
      "0.6132629907395027\n",
      "0.613398023307436\n",
      "0.6154774442268894\n",
      "0.6166178463579391\n",
      "0.625811405838135\n",
      "0.62591457595243\n",
      "0.6361330607249825\n",
      "0.6379479339964206\n",
      "0.6404829257056556\n"
     ]
    },
    {
     "name": "stderr",
     "output_type": "stream",
     "text": [
      "t:  12%|█▏        | 27/221 [00:00<00:02, 86.90it/s, now=None]"
     ]
    },
    {
     "name": "stdout",
     "output_type": "stream",
     "text": [
      "0.6440631936160005\n",
      "0.6559733599950734\n",
      "0.6442044078108672\n",
      "0.6430438386465557\n",
      "0.6406640529128976\n",
      "0.6405773464129698\n",
      "0.6402021720363817\n",
      "0.6371488737877803\n",
      "0.6436355633028118\n",
      "0.6430123307635421\n",
      "0.6392296604261498\n",
      "0.6405133825019272\n",
      "0.6456300663908036\n",
      "0.6515881996684942\n",
      "0.6387840389186139\n",
      "0.6377360186340966\n",
      "0.6363569379070151\n",
      "0.635403194170765\n"
     ]
    },
    {
     "name": "stderr",
     "output_type": "stream",
     "text": [
      "t:  20%|██        | 45/221 [00:00<00:02, 85.82it/s, now=None]"
     ]
    },
    {
     "name": "stdout",
     "output_type": "stream",
     "text": [
      "0.6401538256148727\n",
      "0.6385332493926158\n",
      "0.6373569108144084\n",
      "0.6358433829218338\n",
      "0.6342356820011708\n",
      "0.6421564938517031\n",
      "0.640984087658227\n",
      "0.6404051463105408\n",
      "0.6541188262623032\n",
      "0.6468744360272133\n",
      "0.6521363080759816\n",
      "0.6520508667193\n",
      "0.6528772099003535\n",
      "0.6458042107003321\n"
     ]
    },
    {
     "name": "stderr",
     "output_type": "stream",
     "text": [
      "\r",
      "t:  24%|██▍       | 54/221 [00:00<00:03, 52.43it/s, now=None]"
     ]
    },
    {
     "name": "stdout",
     "output_type": "stream",
     "text": [
      "0.6487121160732472\n",
      "0.6463226669123863\n",
      "0.6522885523784437\n",
      "0.6491938826822202\n",
      "0.6429644816801393\n",
      "0.6361358246278369\n",
      "0.644447393502524\n",
      "0.6494016047648801\n"
     ]
    },
    {
     "name": "stderr",
     "output_type": "stream",
     "text": [
      "\r",
      "t:  28%|██▊       | 61/221 [00:01<00:03, 45.46it/s, now=None]"
     ]
    },
    {
     "name": "stdout",
     "output_type": "stream",
     "text": [
      "0.6503213322234149\n",
      "0.6411155507301193\n",
      "0.6497099434248899\n",
      "0.6491493209210345\n",
      "0.6540247665462656\n",
      "0.6563252612824118\n",
      "0.6581231340466169\n",
      "0.6508580415274421\n"
     ]
    },
    {
     "name": "stderr",
     "output_type": "stream",
     "text": [
      "\r",
      "t:  30%|███       | 67/221 [00:01<00:03, 42.92it/s, now=None]"
     ]
    },
    {
     "name": "stdout",
     "output_type": "stream",
     "text": [
      "0.6574538392985356\n",
      "0.6611656837522983\n",
      "0.6411462512958714\n",
      "0.6550178792527168\n",
      "0.6525350839835198\n",
      "0.6583505526519595\n",
      "0.6584645511831145\n"
     ]
    },
    {
     "name": "stderr",
     "output_type": "stream",
     "text": [
      "t:  35%|███▍      | 77/221 [00:01<00:03, 38.47it/s, now=None]"
     ]
    },
    {
     "name": "stdout",
     "output_type": "stream",
     "text": [
      "0.6591430972246048\n",
      "0.6612818092899709\n",
      "0.659840567395291\n",
      "0.6602445710928941\n",
      "0.6555311246159794\n",
      "0.6668940844035148\n",
      "0.6608286019330535\n"
     ]
    },
    {
     "name": "stderr",
     "output_type": "stream",
     "text": [
      "\r",
      "t:  37%|███▋      | 82/221 [00:01<00:03, 37.81it/s, now=None]"
     ]
    },
    {
     "name": "stdout",
     "output_type": "stream",
     "text": [
      "0.6665048765491314\n",
      "0.6828122005066481\n",
      "0.674411232857482\n",
      "0.6752645841725565\n",
      "0.6704983950649726\n",
      "0.6707461694048199\n",
      "0.6716580990556134\n"
     ]
    },
    {
     "name": "stderr",
     "output_type": "stream",
     "text": [
      "t:  41%|████      | 90/221 [00:01<00:03, 36.26it/s, now=None]"
     ]
    },
    {
     "name": "stdout",
     "output_type": "stream",
     "text": [
      "0.6727638307866481\n",
      "0.6806879541986328\n",
      "0.6757660438861958\n",
      "0.6706091266752263\n",
      "0.6877166815253674\n",
      "0.6871990153550324\n",
      "0.6929616461765096\n"
     ]
    },
    {
     "name": "stderr",
     "output_type": "stream",
     "text": [
      "t:  44%|████▍     | 98/221 [00:02<00:03, 31.73it/s, now=None]"
     ]
    },
    {
     "name": "stdout",
     "output_type": "stream",
     "text": [
      "0.6866939093145482\n",
      "0.6868928196403125\n",
      "0.7001064985463281\n",
      "0.7058480629635765\n",
      "0.7054891806958014\n",
      "0.6923542976537815\n",
      "0.6973167175764805\n"
     ]
    },
    {
     "name": "stderr",
     "output_type": "stream",
     "text": [
      "t:  48%|████▊     | 106/221 [00:02<00:03, 33.26it/s, now=None]"
     ]
    },
    {
     "name": "stdout",
     "output_type": "stream",
     "text": [
      "0.7065974406705464\n",
      "0.7035613806985914\n",
      "0.7014142575730098\n",
      "0.6893264618318327\n",
      "0.6878640664691188\n",
      "0.6876784307187865\n",
      "0.6867475275063142\n"
     ]
    },
    {
     "name": "stderr",
     "output_type": "stream",
     "text": [
      "\r",
      "t:  50%|████▉     | 110/221 [00:02<00:03, 32.18it/s, now=None]"
     ]
    },
    {
     "name": "stdout",
     "output_type": "stream",
     "text": [
      "0.6928087948249035\n",
      "0.6864110793862164\n",
      "0.6821167718874116\n",
      "0.692280041840691\n",
      "0.6804831570705265\n",
      "0.682654761784768\n",
      "0.6871139270877448\n",
      "0.6751076315482709\n"
     ]
    },
    {
     "name": "stderr",
     "output_type": "stream",
     "text": [
      "t:  53%|█████▎    | 118/221 [00:02<00:03, 33.90it/s, now=None]"
     ]
    },
    {
     "name": "stdout",
     "output_type": "stream",
     "text": [
      "0.6763355277239647\n",
      "0.6695742672661522\n",
      "0.6713251673865679\n",
      "0.6644638881571259\n",
      "0.6614402912679144\n",
      "0.6647339940464742\n",
      "0.661320149136574\n",
      "0.6319379518967955\n"
     ]
    },
    {
     "name": "stderr",
     "output_type": "stream",
     "text": [
      "t:  57%|█████▋    | 127/221 [00:02<00:02, 36.73it/s, now=None]"
     ]
    },
    {
     "name": "stdout",
     "output_type": "stream",
     "text": [
      "0.6431983126910917\n",
      "0.6495104685075056\n",
      "0.6496881234968759\n",
      "0.6419161813210292\n",
      "0.6584362904057941\n",
      "0.6399137504450054\n",
      "0.6393254676852659\n",
      "0.6371710843818313\n"
     ]
    },
    {
     "name": "stderr",
     "output_type": "stream",
     "text": [
      "t:  61%|██████    | 135/221 [00:03<00:02, 33.23it/s, now=None]"
     ]
    },
    {
     "name": "stdout",
     "output_type": "stream",
     "text": [
      "0.6365368200400372\n",
      "0.6356473838063439\n",
      "0.6357800875419073\n",
      "0.6360980637082086\n",
      "0.6390617310447947\n",
      "0.6370097308459612\n",
      "0.6338110444442381\n"
     ]
    },
    {
     "name": "stderr",
     "output_type": "stream",
     "text": [
      "t:  65%|██████▍   | 143/221 [00:03<00:02, 33.30it/s, now=None]"
     ]
    },
    {
     "name": "stdout",
     "output_type": "stream",
     "text": [
      "0.6372239601615759\n",
      "0.6377830208791865\n",
      "0.6341481852762528\n",
      "0.6373684402663902\n",
      "0.6335184184433909\n",
      "0.6367598699362883\n",
      "0.6391044200402376\n"
     ]
    },
    {
     "name": "stderr",
     "output_type": "stream",
     "text": [
      "t:  68%|██████▊   | 151/221 [00:03<00:02, 31.61it/s, now=None]"
     ]
    },
    {
     "name": "stdout",
     "output_type": "stream",
     "text": [
      "0.6392006449692174\n",
      "0.6364284856587049\n",
      "0.6324258702208481\n",
      "0.631280531309781\n",
      "0.6344251280010602\n",
      "0.6343532594175714\n",
      "0.6125197796467879\n"
     ]
    },
    {
     "name": "stderr",
     "output_type": "stream",
     "text": [
      "\r",
      "t:  70%|███████   | 155/221 [00:03<00:02, 30.44it/s, now=None]"
     ]
    },
    {
     "name": "stdout",
     "output_type": "stream",
     "text": [
      "0.6219831496741663\n",
      "0.6230298160386591\n",
      "0.6318422313152479\n",
      "0.6312567244630737\n",
      "0.6314443107202533\n",
      "0.6294407065420424\n"
     ]
    },
    {
     "name": "stderr",
     "output_type": "stream",
     "text": [
      "t:  74%|███████▍  | 163/221 [00:04<00:01, 31.28it/s, now=None]"
     ]
    },
    {
     "name": "stdout",
     "output_type": "stream",
     "text": [
      "0.6177667785811083\n",
      "0.6234488362687514\n",
      "0.6218183576262241\n",
      "0.6023652070266481\n",
      "0.607068980650088\n",
      "0.6060362746762669\n",
      "0.5872166605250349\n"
     ]
    },
    {
     "name": "stderr",
     "output_type": "stream",
     "text": [
      "\r",
      "t:  76%|███████▌  | 167/221 [00:04<00:01, 32.01it/s, now=None]"
     ]
    },
    {
     "name": "stdout",
     "output_type": "stream",
     "text": [
      "0.5910311271557935\n",
      "0.5919111587089557\n",
      "0.5887810526418489\n",
      "0.588945085671743\n",
      "0.5885070388771046\n",
      "0.5911725848081394\n",
      "0.582902335749693\n"
     ]
    },
    {
     "name": "stderr",
     "output_type": "stream",
     "text": [
      "t:  81%|████████  | 179/221 [00:04<00:01, 34.61it/s, now=None]"
     ]
    },
    {
     "name": "stdout",
     "output_type": "stream",
     "text": [
      "0.5900490933209924\n",
      "0.5865512516139375\n",
      "0.5927802417558001\n",
      "0.5872085180061336\n",
      "0.5848753782235523\n",
      "0.5905952256141408\n",
      "0.5848339953463629\n",
      "0.5876702905327178\n"
     ]
    },
    {
     "name": "stderr",
     "output_type": "stream",
     "text": [
      "\r",
      "t:  83%|████████▎ | 183/221 [00:04<00:01, 35.58it/s, now=None]"
     ]
    },
    {
     "name": "stdout",
     "output_type": "stream",
     "text": [
      "0.5883684768396201\n",
      "0.588281124739458\n",
      "0.5891330034499483\n",
      "0.5900205930466788\n",
      "0.588806986031359\n",
      "0.5998739190744191\n",
      "0.5913233529000753\n"
     ]
    },
    {
     "name": "stderr",
     "output_type": "stream",
     "text": [
      "t:  87%|████████▋ | 192/221 [00:04<00:00, 35.75it/s, now=None]"
     ]
    },
    {
     "name": "stdout",
     "output_type": "stream",
     "text": [
      "0.5960912997725727\n",
      "0.5892034421260505\n",
      "0.5877119403651717\n",
      "0.5892799342195035\n",
      "0.5803900150456953\n",
      "0.571240933363352\n",
      "0.5751343485196033\n"
     ]
    },
    {
     "name": "stderr",
     "output_type": "stream",
     "text": [
      "\r",
      "t:  89%|████████▊ | 196/221 [00:05<00:00, 30.94it/s, now=None]"
     ]
    },
    {
     "name": "stdout",
     "output_type": "stream",
     "text": [
      "0.5718794983680023\n",
      "0.577453202486781\n",
      "0.5838996106314542\n",
      "0.5829608952644649\n",
      "0.5846042488597212\n",
      "0.5856748005383677\n",
      "0.5858115064735742\n",
      "0.5887446670253828\n"
     ]
    },
    {
     "name": "stderr",
     "output_type": "stream",
     "text": [
      "t:  93%|█████████▎| 205/221 [00:05<00:00, 33.15it/s, now=None]"
     ]
    },
    {
     "name": "stdout",
     "output_type": "stream",
     "text": [
      "0.5735317344348779\n",
      "0.5783674075773617\n",
      "0.571542694585495\n",
      "0.5689339849653409\n",
      "0.5705642107729777\n",
      "0.5687648396582835\n",
      "0.5682678133800408\n",
      "0.5707027097456233\n"
     ]
    },
    {
     "name": "stderr",
     "output_type": "stream",
     "text": [
      "t:  96%|█████████▋| 213/221 [00:05<00:00, 32.29it/s, now=None]"
     ]
    },
    {
     "name": "stdout",
     "output_type": "stream",
     "text": [
      "0.5645353597793759\n",
      "0.5662088587011178\n",
      "0.5618876730059142\n",
      "0.5594454234785422\n",
      "0.5680077984634504\n",
      "0.5688701300811876\n",
      "0.5656054094013152\n",
      "0.5659293920224433\n"
     ]
    },
    {
     "name": "stderr",
     "output_type": "stream",
     "text": [
      "                                                              "
     ]
    },
    {
     "name": "stdout",
     "output_type": "stream",
     "text": [
      "0.5660419171518654\n",
      "0.5645186152397604\n",
      "0.5665674910464698\n",
      "0.5677605207742824\n",
      "0.5682885857655743\n"
     ]
    },
    {
     "name": "stderr",
     "output_type": "stream",
     "text": [
      "\r"
     ]
    },
    {
     "name": "stdout",
     "output_type": "stream",
     "text": [
      "Moviepy - Done !\n",
      "Moviepy - video ready test_videos_output/solidWhiteRight.mp4\n",
      "CPU times: user 2.7 s, sys: 555 ms, total: 3.26 s\n",
      "Wall time: 6.75 s\n"
     ]
    }
   ],
   "source": [
    "white_output = 'test_videos_output/solidWhiteRight.mp4'\n",
    "## To speed up the testing process you may want to try your pipeline on a shorter subclip of the video\n",
    "## To do so add .subclip(start_second,end_second) to the end of the line below\n",
    "## Where start_second and end_second are integer values representing the start and end of the subclip\n",
    "## You may also uncomment the following line for a subclip of the first 5 seconds\n",
    "##clip1 = VideoFileClip(\"test_videos/solidWhiteRight.mp4\").subclip(0,5)\n",
    "clip1 = VideoFileClip(\"test_videos/solidWhiteRight.mp4\")\n",
    "white_clip = clip1.fl_image(process_image) #NOTE: this function expects color images!!\n",
    "%time white_clip.write_videofile(white_output, audio=False)"
   ]
  },
  {
   "cell_type": "markdown",
   "metadata": {},
   "source": [
    "Play the video inline, or if you prefer find the video in your filesystem (should be in the same directory) and play it in your video player of choice."
   ]
  },
  {
   "cell_type": "code",
   "execution_count": null,
   "metadata": {
    "collapsed": true
   },
   "outputs": [],
   "source": [
    "HTML(\"\"\"\n",
    "<video width=\"960\" height=\"540\" controls>\n",
    "  <source src=\"{}\">\n",
    "</video>\n",
    "\"\"\".format(white_output))"
   ]
  },
  {
   "cell_type": "markdown",
   "metadata": {},
   "source": [
    "## Improve the draw_lines() function\n",
    "\n",
    "**At this point, if you were successful with making the pipeline and tuning parameters, you probably have the Hough line segments drawn onto the road, but what about identifying the full extent of the lane and marking it clearly as in the example video (P1_example.mp4)?  Think about defining a line to run the full length of the visible lane based on the line segments you identified with the Hough Transform. As mentioned previously, try to average and/or extrapolate the line segments you've detected to map out the full extent of the lane lines. You can see an example of the result you're going for in the video \"P1_example.mp4\".**\n",
    "\n",
    "**Go back and modify your draw_lines function accordingly and try re-running your pipeline. The new output should draw a single, solid line over the left lane line and a single, solid line over the right lane line. The lines should start from the bottom of the image and extend out to the top of the region of interest.**"
   ]
  },
  {
   "cell_type": "markdown",
   "metadata": {},
   "source": [
    "Now for the one with the solid yellow lane on the left. This one's more tricky!"
   ]
  },
  {
   "cell_type": "code",
   "execution_count": null,
   "metadata": {
    "collapsed": true
   },
   "outputs": [],
   "source": [
    "yellow_output = 'test_videos_output/solidYellowLeft.mp4'\n",
    "## To speed up the testing process you may want to try your pipeline on a shorter subclip of the video\n",
    "## To do so add .subclip(start_second,end_second) to the end of the line below\n",
    "## Where start_second and end_second are integer values representing the start and end of the subclip\n",
    "## You may also uncomment the following line for a subclip of the first 5 seconds\n",
    "##clip2 = VideoFileClip('test_videos/solidYellowLeft.mp4').subclip(0,5)\n",
    "clip2 = VideoFileClip('test_videos/solidYellowLeft.mp4')\n",
    "yellow_clip = clip2.fl_image(process_image)\n",
    "%time yellow_clip.write_videofile(yellow_output, audio=False)"
   ]
  },
  {
   "cell_type": "code",
   "execution_count": null,
   "metadata": {
    "collapsed": true
   },
   "outputs": [],
   "source": [
    "HTML(\"\"\"\n",
    "<video width=\"960\" height=\"540\" controls>\n",
    "  <source src=\"{0}\">\n",
    "</video>\n",
    "\"\"\".format(yellow_output))"
   ]
  },
  {
   "cell_type": "markdown",
   "metadata": {},
   "source": [
    "## Writeup and Submission\n",
    "\n",
    "If you're satisfied with your video outputs, it's time to make the report writeup in a pdf or markdown file. Once you have this Ipython notebook ready along with the writeup, it's time to submit for review! Here is a [link](https://github.com/udacity/CarND-LaneLines-P1/blob/master/writeup_template.md) to the writeup template file.\n"
   ]
  },
  {
   "cell_type": "markdown",
   "metadata": {
    "collapsed": true
   },
   "source": [
    "## Optional Challenge\n",
    "\n",
    "Try your lane finding pipeline on the video below.  Does it still work?  Can you figure out a way to make it more robust?  If you're up for the challenge, modify your pipeline so it works with this video and submit it along with the rest of your project!"
   ]
  },
  {
   "cell_type": "code",
   "execution_count": 77,
   "metadata": {},
   "outputs": [
    {
     "name": "stderr",
     "output_type": "stream",
     "text": [
      "                                                             \n",
      "\u001b[A                                                          \n",
      "\n",
      "t:  39%|███▉      | 99/251 [31:40<00:08, 17.49it/s, now=None]\n",
      "t:  39%|███▉      | 99/251 [27:07<00:09, 16.54it/s, now=None]\u001b[A\n",
      "\n",
      "                                                             \u001b[A\u001b[A\n",
      "\u001b[A                                                          \n",
      "\n",
      "t:  39%|███▉      | 99/251 [31:40<00:08, 17.49it/s, now=None]\n",
      "t:  39%|███▉      | 99/251 [27:07<00:09, 16.54it/s, now=None]\u001b[A\n",
      "\n",
      "t:  39%|███▉      | 99/251 [21:23<00:10, 14.26it/s, now=None]\u001b[A\u001b[A\n",
      "\n",
      "\n",
      "t:   0%|          | 0/1830 [00:00<?, ?it/s, now=None]\u001b[A\u001b[A\u001b[A\n",
      "\n",
      "\n",
      "t:   0%|          | 4/1830 [00:00<00:52, 35.05it/s, now=None]\u001b[A\u001b[A\u001b[A"
     ]
    },
    {
     "name": "stdout",
     "output_type": "stream",
     "text": [
      "5\n",
      "5\n",
      "Moviepy - Building video test_videos_output/20160330_184352_NF.mp4.\n",
      "Moviepy - Writing video test_videos_output/20160330_184352_NF.mp4\n",
      "\n",
      "5\n",
      "5\n",
      "5\n",
      "5\n",
      "5\n",
      "5\n"
     ]
    },
    {
     "name": "stderr",
     "output_type": "stream",
     "text": [
      "\n",
      "\n",
      "\n",
      "t:   0%|          | 8/1830 [00:00<00:55, 32.77it/s, now=None]\u001b[A\u001b[A\u001b[A"
     ]
    },
    {
     "name": "stdout",
     "output_type": "stream",
     "text": [
      "5\n",
      "5\n",
      "5\n",
      "5\n",
      "5\n",
      "5\n",
      "5\n",
      "5\n",
      "5\n",
      "5\n",
      "5\n",
      "5\n",
      "5\n",
      "5\n"
     ]
    },
    {
     "name": "stderr",
     "output_type": "stream",
     "text": [
      "\n",
      "\n",
      "\n",
      "t:   1%|          | 12/1830 [00:00<00:54, 33.21it/s, now=None]\u001b[A\u001b[A\u001b[A\n",
      "\n",
      "\n",
      "t:   1%|          | 16/1830 [00:00<00:57, 31.77it/s, now=None]\u001b[A\u001b[A\u001b[A"
     ]
    },
    {
     "name": "stdout",
     "output_type": "stream",
     "text": [
      "5\n",
      "5\n",
      "5\n",
      "5\n",
      "5\n",
      "5\n",
      "5\n",
      "5\n",
      "5\n",
      "5\n",
      "5\n",
      "5\n"
     ]
    },
    {
     "name": "stderr",
     "output_type": "stream",
     "text": [
      "\n",
      "\n",
      "\n",
      "t:   1%|          | 20/1830 [00:00<00:58, 30.71it/s, now=None]\u001b[A\u001b[A\u001b[A"
     ]
    },
    {
     "name": "stdout",
     "output_type": "stream",
     "text": [
      "5\n",
      "5\n",
      "5\n",
      "5\n",
      "5\n",
      "5\n",
      "5\n",
      "5\n",
      "5\n",
      "5\n",
      "5\n",
      "5\n"
     ]
    },
    {
     "name": "stderr",
     "output_type": "stream",
     "text": [
      "\n",
      "\n",
      "\n",
      "t:   1%|▏         | 24/1830 [00:00<01:01, 29.46it/s, now=None]\u001b[A\u001b[A\u001b[A\n",
      "\n",
      "\n",
      "t:   1%|▏         | 27/1830 [00:00<01:03, 28.57it/s, now=None]\u001b[A\u001b[A\u001b[A"
     ]
    },
    {
     "name": "stdout",
     "output_type": "stream",
     "text": [
      "5\n",
      "5\n",
      "5\n",
      "5\n",
      "5\n",
      "5\n",
      "5\n",
      "5\n",
      "5\n",
      "5\n",
      "5\n",
      "5\n"
     ]
    },
    {
     "name": "stderr",
     "output_type": "stream",
     "text": [
      "\n",
      "\n",
      "\n",
      "t:   2%|▏         | 30/1830 [00:00<01:02, 28.72it/s, now=None]\u001b[A\u001b[A\u001b[A\n",
      "\n",
      "\n",
      "t:   2%|▏         | 34/1830 [00:01<00:59, 30.16it/s, now=None]\u001b[A\u001b[A\u001b[A"
     ]
    },
    {
     "name": "stdout",
     "output_type": "stream",
     "text": [
      "5\n",
      "5\n",
      "5\n",
      "5\n",
      "5\n",
      "5\n",
      "5\n",
      "5\n",
      "5\n",
      "5\n",
      "5\n",
      "5\n",
      "5\n",
      "5\n"
     ]
    },
    {
     "name": "stderr",
     "output_type": "stream",
     "text": [
      "\n",
      "\n",
      "\n",
      "t:   2%|▏         | 38/1830 [00:01<00:58, 30.68it/s, now=None]\u001b[A\u001b[A\u001b[A\n",
      "\n",
      "\n",
      "t:   2%|▏         | 42/1830 [00:01<00:56, 31.81it/s, now=None]\u001b[A\u001b[A\u001b[A"
     ]
    },
    {
     "name": "stdout",
     "output_type": "stream",
     "text": [
      "5\n",
      "5\n",
      "5\n",
      "5\n",
      "5\n",
      "5\n",
      "5\n",
      "5\n",
      "5\n",
      "5\n",
      "5\n",
      "5\n",
      "5\n",
      "5\n"
     ]
    },
    {
     "name": "stderr",
     "output_type": "stream",
     "text": [
      "\n",
      "\n",
      "\n",
      "t:   3%|▎         | 46/1830 [00:01<00:58, 30.44it/s, now=None]\u001b[A\u001b[A\u001b[A"
     ]
    },
    {
     "name": "stdout",
     "output_type": "stream",
     "text": [
      "5\n",
      "5\n",
      "5\n",
      "5\n",
      "5\n",
      "5\n",
      "5\n",
      "5\n",
      "5\n",
      "5\n"
     ]
    },
    {
     "name": "stderr",
     "output_type": "stream",
     "text": [
      "\n",
      "\n",
      "\n",
      "t:   3%|▎         | 50/1830 [00:01<01:17, 23.00it/s, now=None]\u001b[A\u001b[A\u001b[A\n",
      "\n",
      "\n"
     ]
    },
    {
     "name": "stdout",
     "output_type": "stream",
     "text": [
      "5\n",
      "5\n",
      "5\n",
      "5\n",
      "5\n",
      "5\n",
      "5\n",
      "5\n",
      "5\n",
      "5\n"
     ]
    },
    {
     "name": "stderr",
     "output_type": "stream",
     "text": [
      "t:   3%|▎         | 53/1830 [00:01<01:16, 23.14it/s, now=None]\u001b[A\u001b[A\u001b[A\n",
      "\n",
      "\n",
      "t:   3%|▎         | 56/1830 [00:02<01:26, 20.54it/s, now=None]\u001b[A\u001b[A\u001b[A"
     ]
    },
    {
     "name": "stdout",
     "output_type": "stream",
     "text": [
      "5\n",
      "5\n",
      "5\n",
      "5\n",
      "5\n",
      "5\n",
      "5\n",
      "5\n"
     ]
    },
    {
     "name": "stderr",
     "output_type": "stream",
     "text": [
      "\n",
      "\n",
      "\n",
      "t:   3%|▎         | 59/1830 [00:02<01:30, 19.57it/s, now=None]\u001b[A\u001b[A\u001b[A"
     ]
    },
    {
     "name": "stdout",
     "output_type": "stream",
     "text": [
      "5\n",
      "5\n",
      "5\n",
      "5\n",
      "5\n",
      "5\n",
      "5\n",
      "5\n"
     ]
    },
    {
     "name": "stderr",
     "output_type": "stream",
     "text": [
      "\n",
      "\n",
      "\n",
      "t:   3%|▎         | 62/1830 [00:02<01:28, 19.89it/s, now=None]\u001b[A\u001b[A\u001b[A\n",
      "\n",
      "\n",
      "t:   4%|▎         | 65/1830 [00:02<01:31, 19.31it/s, now=None]\u001b[A\u001b[A\u001b[A"
     ]
    },
    {
     "name": "stdout",
     "output_type": "stream",
     "text": [
      "5\n",
      "5\n",
      "5\n",
      "5\n",
      "5\n",
      "5\n",
      "5\n",
      "5\n"
     ]
    },
    {
     "name": "stderr",
     "output_type": "stream",
     "text": [
      "\n",
      "\n",
      "\n",
      "t:   4%|▎         | 67/1830 [00:02<01:31, 19.19it/s, now=None]\u001b[A\u001b[A\u001b[A\n",
      "\n",
      "\n",
      "t:   4%|▍         | 69/1830 [00:02<01:33, 18.85it/s, now=None]\u001b[A\u001b[A\u001b[A"
     ]
    },
    {
     "name": "stdout",
     "output_type": "stream",
     "text": [
      "5\n",
      "5\n",
      "5\n",
      "5\n",
      "5\n",
      "5\n",
      "5\n",
      "5\n"
     ]
    },
    {
     "name": "stderr",
     "output_type": "stream",
     "text": [
      "\n",
      "\n",
      "\n",
      "t:   4%|▍         | 71/1830 [00:02<01:32, 19.07it/s, now=None]\u001b[A\u001b[A\u001b[A\n",
      "\n",
      "\n",
      "t:   4%|▍         | 73/1830 [00:03<01:32, 19.00it/s, now=None]\u001b[A\u001b[A\u001b[A"
     ]
    },
    {
     "name": "stdout",
     "output_type": "stream",
     "text": [
      "5\n",
      "5\n",
      "5\n",
      "5\n",
      "5\n",
      "5\n",
      "5\n",
      "5\n"
     ]
    },
    {
     "name": "stderr",
     "output_type": "stream",
     "text": [
      "\n",
      "\n",
      "\n",
      "t:   4%|▍         | 75/1830 [00:03<01:37, 18.09it/s, now=None]\u001b[A\u001b[A\u001b[A\n",
      "\n",
      "\n",
      "t:   4%|▍         | 77/1830 [00:03<01:34, 18.57it/s, now=None]\u001b[A\u001b[A\u001b[A"
     ]
    },
    {
     "name": "stdout",
     "output_type": "stream",
     "text": [
      "5\n",
      "5\n",
      "5\n",
      "5\n",
      "5\n",
      "5\n",
      "5\n",
      "5\n"
     ]
    },
    {
     "name": "stderr",
     "output_type": "stream",
     "text": [
      "\n",
      "\n",
      "\n",
      "t:   4%|▍         | 79/1830 [00:03<01:36, 18.18it/s, now=None]\u001b[A\u001b[A\u001b[A"
     ]
    },
    {
     "name": "stdout",
     "output_type": "stream",
     "text": [
      "5\n",
      "5\n",
      "5\n",
      "5\n",
      "5\n",
      "5\n"
     ]
    },
    {
     "name": "stderr",
     "output_type": "stream",
     "text": [
      "\n",
      "\n",
      "\n",
      "t:   4%|▍         | 81/1830 [00:03<01:50, 15.90it/s, now=None]\u001b[A\u001b[A\u001b[A\n",
      "\n",
      "\n",
      "t:   5%|▍         | 83/1830 [00:03<01:44, 16.74it/s, now=None]\u001b[A\u001b[A\u001b[A"
     ]
    },
    {
     "name": "stdout",
     "output_type": "stream",
     "text": [
      "5\n",
      "5\n",
      "5\n",
      "5\n",
      "5\n",
      "5\n",
      "5\n",
      "5\n"
     ]
    },
    {
     "name": "stderr",
     "output_type": "stream",
     "text": [
      "\n",
      "\n",
      "\n",
      "t:   5%|▍         | 85/1830 [00:03<01:39, 17.51it/s, now=None]\u001b[A\u001b[A\u001b[A\n",
      "\n",
      "\n",
      "t:   5%|▍         | 87/1830 [00:03<01:39, 17.50it/s, now=None]\u001b[A\u001b[A\u001b[A"
     ]
    },
    {
     "name": "stdout",
     "output_type": "stream",
     "text": [
      "5\n",
      "5\n",
      "5\n",
      "5\n",
      "5\n",
      "5\n",
      "5\n",
      "5\n"
     ]
    },
    {
     "name": "stderr",
     "output_type": "stream",
     "text": [
      "\n",
      "\n",
      "\n",
      "t:   5%|▍         | 89/1830 [00:03<01:38, 17.67it/s, now=None]\u001b[A\u001b[A\u001b[A\n",
      "\n",
      "\n",
      "t:   5%|▍         | 91/1830 [00:04<01:37, 17.84it/s, now=None]\u001b[A\u001b[A\u001b[A"
     ]
    },
    {
     "name": "stdout",
     "output_type": "stream",
     "text": [
      "5\n",
      "5\n",
      "5\n",
      "5\n",
      "5\n",
      "5\n",
      "5\n",
      "5\n"
     ]
    },
    {
     "name": "stderr",
     "output_type": "stream",
     "text": [
      "\n",
      "\n",
      "\n",
      "t:   5%|▌         | 93/1830 [00:04<01:39, 17.42it/s, now=None]\u001b[A\u001b[A\u001b[A\n",
      "\n",
      "\n",
      "t:   5%|▌         | 95/1830 [00:04<01:38, 17.64it/s, now=None]\u001b[A\u001b[A\u001b[A"
     ]
    },
    {
     "name": "stdout",
     "output_type": "stream",
     "text": [
      "5\n",
      "5\n",
      "5\n",
      "5\n",
      "5\n",
      "5\n",
      "5\n",
      "5\n"
     ]
    },
    {
     "name": "stderr",
     "output_type": "stream",
     "text": [
      "\n",
      "\n",
      "\n",
      "t:   5%|▌         | 97/1830 [00:04<01:41, 17.07it/s, now=None]\u001b[A\u001b[A\u001b[A\n",
      "\n",
      "\n",
      "t:   5%|▌         | 99/1830 [00:04<01:41, 17.03it/s, now=None]\u001b[A\u001b[A\u001b[A"
     ]
    },
    {
     "name": "stdout",
     "output_type": "stream",
     "text": [
      "5\n",
      "5\n",
      "5\n",
      "5\n",
      "5\n",
      "5\n",
      "5\n",
      "5\n"
     ]
    },
    {
     "name": "stderr",
     "output_type": "stream",
     "text": [
      "\n",
      "\n",
      "\n",
      "t:   6%|▌         | 101/1830 [00:04<01:39, 17.33it/s, now=None]\u001b[A\u001b[A\u001b[A\n",
      "\n",
      "\n",
      "t:   6%|▌         | 104/1830 [00:04<01:35, 18.01it/s, now=None]\u001b[A\u001b[A\u001b[A"
     ]
    },
    {
     "name": "stdout",
     "output_type": "stream",
     "text": [
      "5\n",
      "5\n",
      "5\n",
      "5\n",
      "5\n",
      "5\n",
      "5\n",
      "5\n"
     ]
    },
    {
     "name": "stderr",
     "output_type": "stream",
     "text": [
      "\n",
      "\n",
      "\n",
      "t:   6%|▌         | 106/1830 [00:04<01:40, 17.19it/s, now=None]\u001b[A\u001b[A\u001b[A\n",
      "\n",
      "\n",
      "t:   6%|▌         | 108/1830 [00:05<01:40, 17.16it/s, now=None]\u001b[A\u001b[A\u001b[A"
     ]
    },
    {
     "name": "stdout",
     "output_type": "stream",
     "text": [
      "5\n",
      "5\n",
      "5\n",
      "5\n",
      "5\n",
      "5\n",
      "5\n",
      "5\n"
     ]
    },
    {
     "name": "stderr",
     "output_type": "stream",
     "text": [
      "\n",
      "\n",
      "\n",
      "t:   6%|▌         | 110/1830 [00:05<01:38, 17.49it/s, now=None]\u001b[A\u001b[A\u001b[A\n",
      "\n",
      "\n",
      "t:   6%|▌         | 112/1830 [00:05<01:37, 17.60it/s, now=None]\u001b[A\u001b[A\u001b[A"
     ]
    },
    {
     "name": "stdout",
     "output_type": "stream",
     "text": [
      "5\n",
      "5\n",
      "5\n",
      "5\n",
      "5\n",
      "5\n",
      "5\n",
      "5\n"
     ]
    },
    {
     "name": "stderr",
     "output_type": "stream",
     "text": [
      "\n",
      "\n",
      "\n",
      "t:   6%|▌         | 114/1830 [00:05<01:39, 17.24it/s, now=None]\u001b[A\u001b[A\u001b[A\n",
      "\n",
      "\n",
      "t:   6%|▋         | 116/1830 [00:05<01:38, 17.33it/s, now=None]\u001b[A\u001b[A\u001b[A"
     ]
    },
    {
     "name": "stdout",
     "output_type": "stream",
     "text": [
      "5\n",
      "5\n",
      "5\n",
      "5\n",
      "5\n",
      "5\n",
      "5\n",
      "5\n"
     ]
    },
    {
     "name": "stderr",
     "output_type": "stream",
     "text": [
      "\n",
      "\n",
      "\n",
      "t:   6%|▋         | 118/1830 [00:05<01:36, 17.80it/s, now=None]\u001b[A\u001b[A\u001b[A\n",
      "\n",
      "\n",
      "t:   7%|▋         | 120/1830 [00:05<01:37, 17.49it/s, now=None]\u001b[A\u001b[A\u001b[A"
     ]
    },
    {
     "name": "stdout",
     "output_type": "stream",
     "text": [
      "5\n",
      "5\n",
      "5\n",
      "5\n",
      "5\n",
      "5\n",
      "5\n",
      "5\n"
     ]
    },
    {
     "name": "stderr",
     "output_type": "stream",
     "text": [
      "\n",
      "\n",
      "\n",
      "t:   7%|▋         | 122/1830 [00:05<01:39, 17.13it/s, now=None]\u001b[A\u001b[A\u001b[A\n",
      "\n",
      "\n",
      "t:   7%|▋         | 124/1830 [00:05<01:37, 17.51it/s, now=None]\u001b[A\u001b[A\u001b[A"
     ]
    },
    {
     "name": "stdout",
     "output_type": "stream",
     "text": [
      "5\n",
      "5\n",
      "5\n",
      "5\n",
      "5\n",
      "5\n",
      "5\n",
      "5\n"
     ]
    },
    {
     "name": "stderr",
     "output_type": "stream",
     "text": [
      "\n",
      "\n",
      "\n",
      "t:   7%|▋         | 126/1830 [00:06<01:36, 17.58it/s, now=None]\u001b[A\u001b[A\u001b[A\n",
      "\n",
      "\n",
      "t:   7%|▋         | 128/1830 [00:06<01:39, 17.08it/s, now=None]\u001b[A\u001b[A\u001b[A"
     ]
    },
    {
     "name": "stdout",
     "output_type": "stream",
     "text": [
      "5\n",
      "5\n",
      "5\n",
      "5\n",
      "5\n",
      "5\n",
      "5\n",
      "5\n"
     ]
    },
    {
     "name": "stderr",
     "output_type": "stream",
     "text": [
      "\n",
      "\n",
      "\n",
      "t:   7%|▋         | 130/1830 [00:06<01:41, 16.71it/s, now=None]\u001b[A\u001b[A\u001b[A\n",
      "\n",
      "\n",
      "t:   7%|▋         | 132/1830 [00:06<01:39, 17.13it/s, now=None]\u001b[A\u001b[A\u001b[A"
     ]
    },
    {
     "name": "stdout",
     "output_type": "stream",
     "text": [
      "5\n",
      "5\n",
      "5\n",
      "5\n",
      "5\n",
      "5\n",
      "5\n",
      "5\n"
     ]
    },
    {
     "name": "stderr",
     "output_type": "stream",
     "text": [
      "\n",
      "\n",
      "\n",
      "t:   7%|▋         | 134/1830 [00:06<01:38, 17.16it/s, now=None]\u001b[A\u001b[A\u001b[A\n",
      "\n",
      "\n",
      "t:   7%|▋         | 136/1830 [00:06<01:40, 16.90it/s, now=None]\u001b[A\u001b[A\u001b[A"
     ]
    },
    {
     "name": "stdout",
     "output_type": "stream",
     "text": [
      "5\n",
      "5\n",
      "5\n",
      "5\n",
      "5\n",
      "5\n",
      "5\n",
      "5\n"
     ]
    },
    {
     "name": "stderr",
     "output_type": "stream",
     "text": [
      "\n",
      "\n",
      "\n",
      "t:   8%|▊         | 138/1830 [00:06<01:45, 16.04it/s, now=None]\u001b[A\u001b[A\u001b[A\n",
      "\n",
      "\n",
      "t:   8%|▊         | 140/1830 [00:06<01:46, 15.81it/s, now=None]"
     ]
    },
    {
     "name": "stdout",
     "output_type": "stream",
     "text": [
      "5\n",
      "5\n",
      "5\n",
      "5\n",
      "5\n",
      "5\n",
      "5\n",
      "5\n"
     ]
    },
    {
     "name": "stderr",
     "output_type": "stream",
     "text": [
      "\u001b[A\u001b[A\u001b[A\n",
      "\n",
      "\n",
      "t:   8%|▊         | 142/1830 [00:07<01:50, 15.24it/s, now=None]\u001b[A\u001b[A\u001b[A\n",
      "\n",
      "\n",
      "t:   8%|▊         | 144/1830 [00:07<01:47, 15.67it/s, now=None]\u001b[A\u001b[A\u001b[A"
     ]
    },
    {
     "name": "stdout",
     "output_type": "stream",
     "text": [
      "5\n",
      "5\n",
      "5\n",
      "5\n",
      "5\n",
      "5\n",
      "5\n",
      "5\n"
     ]
    },
    {
     "name": "stderr",
     "output_type": "stream",
     "text": [
      "\n",
      "\n",
      "\n",
      "t:   8%|▊         | 147/1830 [00:07<01:36, 17.39it/s, now=None]\u001b[A\u001b[A\u001b[A\n",
      "\n",
      "\n",
      "t:   8%|▊         | 149/1830 [00:07<01:35, 17.64it/s, now=None]\u001b[A\u001b[A\u001b[A"
     ]
    },
    {
     "name": "stdout",
     "output_type": "stream",
     "text": [
      "5\n",
      "5\n",
      "5\n",
      "5\n",
      "5\n",
      "5\n",
      "5\n",
      "5\n",
      "5\n",
      "5\n"
     ]
    },
    {
     "name": "stderr",
     "output_type": "stream",
     "text": [
      "\n",
      "\n",
      "\n",
      "t:   8%|▊         | 151/1830 [00:07<01:34, 17.85it/s, now=None]\u001b[A\u001b[A\u001b[A\n",
      "\n",
      "\n"
     ]
    },
    {
     "name": "stdout",
     "output_type": "stream",
     "text": [
      "5\n",
      "5\n",
      "5\n",
      "5\n",
      "5\n",
      "5\n",
      "5\n",
      "5\n"
     ]
    },
    {
     "name": "stderr",
     "output_type": "stream",
     "text": [
      "t:   8%|▊         | 153/1830 [00:07<01:36, 17.30it/s, now=None]\u001b[A\u001b[A\u001b[A\n",
      "\n",
      "\n",
      "t:   8%|▊         | 155/1830 [00:07<01:42, 16.31it/s, now=None]\u001b[A\u001b[A\u001b[A"
     ]
    },
    {
     "name": "stdout",
     "output_type": "stream",
     "text": [
      "5\n",
      "5\n",
      "5\n",
      "5\n",
      "5\n",
      "5\n",
      "5\n",
      "5\n"
     ]
    },
    {
     "name": "stderr",
     "output_type": "stream",
     "text": [
      "\n",
      "\n",
      "\n",
      "t:   9%|▊         | 157/1830 [00:07<01:48, 15.37it/s, now=None]\u001b[A\u001b[A\u001b[A\n",
      "\n",
      "\n",
      "t:   9%|▊         | 159/1830 [00:08<01:50, 15.13it/s, now=None]\u001b[A\u001b[A\u001b[A"
     ]
    },
    {
     "name": "stdout",
     "output_type": "stream",
     "text": [
      "5\n",
      "5\n",
      "5\n",
      "5\n"
     ]
    },
    {
     "name": "stderr",
     "output_type": "stream",
     "text": [
      "\n",
      "\n",
      "\n",
      "t:   9%|▉         | 161/1830 [00:08<01:47, 15.55it/s, now=None]\u001b[A\u001b[A\u001b[A\n",
      "\n",
      "\n",
      "t:   9%|▉         | 163/1830 [00:08<01:46, 15.60it/s, now=None]\u001b[A\u001b[A\u001b[A"
     ]
    },
    {
     "name": "stdout",
     "output_type": "stream",
     "text": [
      "5\n",
      "5\n",
      "5\n",
      "5\n",
      "5\n",
      "5\n",
      "5\n",
      "5\n"
     ]
    },
    {
     "name": "stderr",
     "output_type": "stream",
     "text": [
      "\n",
      "\n",
      "\n",
      "t:   9%|▉         | 165/1830 [00:08<01:54, 14.50it/s, now=None]\u001b[A\u001b[A\u001b[A"
     ]
    },
    {
     "name": "stdout",
     "output_type": "stream",
     "text": [
      "5\n",
      "5\n",
      "5\n",
      "5\n",
      "5\n",
      "5\n"
     ]
    },
    {
     "name": "stderr",
     "output_type": "stream",
     "text": [
      "\n",
      "\n",
      "\n",
      "t:   9%|▉         | 167/1830 [00:08<02:02, 13.63it/s, now=None]\u001b[A\u001b[A\u001b[A\n",
      "\n",
      "\n",
      "t:   9%|▉         | 169/1830 [00:08<01:51, 14.86it/s, now=None]\u001b[A\u001b[A\u001b[A"
     ]
    },
    {
     "name": "stdout",
     "output_type": "stream",
     "text": [
      "5\n",
      "5\n",
      "5\n",
      "5\n",
      "5\n",
      "5\n",
      "5\n",
      "5\n"
     ]
    },
    {
     "name": "stderr",
     "output_type": "stream",
     "text": [
      "\n",
      "\n",
      "\n",
      "t:   9%|▉         | 171/1830 [00:08<01:58, 13.96it/s, now=None]\u001b[A\u001b[A\u001b[A\n",
      "\n",
      "\n",
      "t:   9%|▉         | 173/1830 [00:09<01:54, 14.46it/s, now=None]\u001b[A\u001b[A\u001b[A"
     ]
    },
    {
     "name": "stdout",
     "output_type": "stream",
     "text": [
      "5\n",
      "5\n",
      "5\n",
      "5\n",
      "5\n",
      "5\n"
     ]
    },
    {
     "name": "stderr",
     "output_type": "stream",
     "text": [
      "\n",
      "\n",
      "\n",
      "t:  10%|▉         | 175/1830 [00:09<01:54, 14.51it/s, now=None]\u001b[A\u001b[A\u001b[A\n",
      "\n",
      "\n",
      "t:  10%|▉         | 177/1830 [00:09<01:53, 14.53it/s, now=None]\u001b[A\u001b[A\u001b[A"
     ]
    },
    {
     "name": "stdout",
     "output_type": "stream",
     "text": [
      "5\n",
      "5\n",
      "5\n",
      "5\n",
      "5\n",
      "5\n",
      "5\n",
      "5\n"
     ]
    },
    {
     "name": "stderr",
     "output_type": "stream",
     "text": [
      "\n",
      "\n",
      "\n",
      "t:  10%|▉         | 179/1830 [00:09<01:52, 14.70it/s, now=None]\u001b[A\u001b[A\u001b[A\n",
      "\n",
      "\n"
     ]
    },
    {
     "name": "stdout",
     "output_type": "stream",
     "text": [
      "5\n",
      "5\n",
      "5\n",
      "5\n",
      "5\n",
      "5\n",
      "5\n",
      "5\n"
     ]
    },
    {
     "name": "stderr",
     "output_type": "stream",
     "text": [
      "t:  10%|▉         | 181/1830 [00:09<01:50, 14.96it/s, now=None]\u001b[A\u001b[A\u001b[A\n",
      "\n",
      "\n",
      "t:  10%|█         | 183/1830 [00:09<01:59, 13.78it/s, now=None]\u001b[A\u001b[A\u001b[A"
     ]
    },
    {
     "name": "stdout",
     "output_type": "stream",
     "text": [
      "5\n",
      "5\n",
      "5\n",
      "5\n",
      "5\n",
      "5\n"
     ]
    },
    {
     "name": "stderr",
     "output_type": "stream",
     "text": [
      "\n",
      "\n",
      "\n",
      "t:  10%|█         | 185/1830 [00:09<01:56, 14.07it/s, now=None]\u001b[A\u001b[A\u001b[A\n",
      "\n",
      "\n",
      "t:  10%|█         | 187/1830 [00:10<01:51, 14.70it/s, now=None]\u001b[A\u001b[A\u001b[A"
     ]
    },
    {
     "name": "stdout",
     "output_type": "stream",
     "text": [
      "5\n",
      "5\n",
      "5\n",
      "5\n",
      "5\n",
      "5\n"
     ]
    },
    {
     "name": "stderr",
     "output_type": "stream",
     "text": [
      "\n",
      "\n",
      "\n",
      "t:  10%|█         | 189/1830 [00:10<01:56, 14.14it/s, now=None]\u001b[A\u001b[A\u001b[A"
     ]
    },
    {
     "name": "stdout",
     "output_type": "stream",
     "text": [
      "5\n",
      "5\n",
      "5\n",
      "5\n",
      "5\n",
      "5\n"
     ]
    },
    {
     "name": "stderr",
     "output_type": "stream",
     "text": [
      "\n",
      "\n",
      "\n",
      "t:  10%|█         | 191/1830 [00:10<02:00, 13.55it/s, now=None]\u001b[A\u001b[A\u001b[A\n",
      "\n",
      "\n",
      "t:  11%|█         | 193/1830 [00:10<01:58, 13.82it/s, now=None]\u001b[A\u001b[A\u001b[A"
     ]
    },
    {
     "name": "stdout",
     "output_type": "stream",
     "text": [
      "5\n",
      "5\n",
      "5\n",
      "5\n",
      "5\n",
      "5\n"
     ]
    },
    {
     "name": "stderr",
     "output_type": "stream",
     "text": [
      "\n",
      "\n",
      "\n",
      "t:  11%|█         | 195/1830 [00:10<02:05, 13.04it/s, now=None]\u001b[A\u001b[A\u001b[A"
     ]
    },
    {
     "name": "stdout",
     "output_type": "stream",
     "text": [
      "5\n",
      "5\n",
      "5\n",
      "5\n",
      "5\n",
      "5\n"
     ]
    },
    {
     "name": "stderr",
     "output_type": "stream",
     "text": [
      "\n",
      "\n",
      "\n",
      "t:  11%|█         | 197/1830 [00:10<02:02, 13.28it/s, now=None]\u001b[A\u001b[A\u001b[A\n",
      "\n",
      "\n",
      "t:  11%|█         | 199/1830 [00:10<02:06, 12.94it/s, now=None]"
     ]
    },
    {
     "name": "stdout",
     "output_type": "stream",
     "text": [
      "5\n",
      "5\n",
      "5\n",
      "5\n",
      "5\n",
      "5\n"
     ]
    },
    {
     "name": "stderr",
     "output_type": "stream",
     "text": [
      "\u001b[A\u001b[A\u001b[A\n",
      "\n",
      "\n",
      "t:  11%|█         | 201/1830 [00:11<01:59, 13.60it/s, now=None]\u001b[A\u001b[A\u001b[A"
     ]
    },
    {
     "name": "stdout",
     "output_type": "stream",
     "text": [
      "5\n",
      "5\n",
      "5\n",
      "5\n",
      "5\n",
      "5\n"
     ]
    },
    {
     "name": "stderr",
     "output_type": "stream",
     "text": [
      "\n",
      "\n",
      "\n",
      "t:  11%|█         | 203/1830 [00:11<02:08, 12.64it/s, now=None]\u001b[A\u001b[A\u001b[A\n",
      "\n",
      "\n",
      "t:  11%|█▏        | 206/1830 [00:11<01:53, 14.32it/s, now=None]\u001b[A\u001b[A\u001b[A"
     ]
    },
    {
     "name": "stdout",
     "output_type": "stream",
     "text": [
      "5\n",
      "5\n",
      "5\n",
      "5\n",
      "5\n",
      "5\n",
      "5\n",
      "5\n"
     ]
    },
    {
     "name": "stderr",
     "output_type": "stream",
     "text": [
      "\n",
      "\n",
      "\n",
      "t:  11%|█▏        | 208/1830 [00:11<01:44, 15.48it/s, now=None]\u001b[A\u001b[A\u001b[A"
     ]
    },
    {
     "name": "stdout",
     "output_type": "stream",
     "text": [
      "5\n",
      "5\n",
      "5\n",
      "5\n",
      "5\n",
      "5\n"
     ]
    },
    {
     "name": "stderr",
     "output_type": "stream",
     "text": [
      "\n",
      "\n",
      "\n",
      "t:  11%|█▏        | 210/1830 [00:11<01:55, 13.99it/s, now=None]\u001b[A\u001b[A\u001b[A\n",
      "\n",
      "\n",
      "t:  12%|█▏        | 212/1830 [00:11<01:49, 14.76it/s, now=None]\u001b[A\u001b[A\u001b[A"
     ]
    },
    {
     "name": "stdout",
     "output_type": "stream",
     "text": [
      "5\n",
      "5\n",
      "5\n",
      "5\n",
      "5\n",
      "5\n",
      "5\n",
      "5\n"
     ]
    },
    {
     "name": "stderr",
     "output_type": "stream",
     "text": [
      "\n",
      "\n",
      "\n",
      "t:  12%|█▏        | 214/1830 [00:11<01:49, 14.74it/s, now=None]\u001b[A\u001b[A\u001b[A\n",
      "\n",
      "\n",
      "t:  12%|█▏        | 216/1830 [00:12<01:51, 14.45it/s, now=None]\u001b[A\u001b[A\u001b[A"
     ]
    },
    {
     "name": "stdout",
     "output_type": "stream",
     "text": [
      "5\n",
      "5\n",
      "5\n",
      "5\n",
      "5\n",
      "5\n"
     ]
    },
    {
     "name": "stderr",
     "output_type": "stream",
     "text": [
      "\n",
      "\n",
      "\n",
      "t:  12%|█▏        | 218/1830 [00:12<01:49, 14.74it/s, now=None]\u001b[A\u001b[A\u001b[A\n",
      "\n",
      "\n",
      "t:  12%|█▏        | 220/1830 [00:12<01:42, 15.69it/s, now=None]\u001b[A\u001b[A\u001b[A"
     ]
    },
    {
     "name": "stdout",
     "output_type": "stream",
     "text": [
      "5\n",
      "5\n",
      "5\n",
      "5\n",
      "5\n",
      "5\n",
      "5\n",
      "5\n"
     ]
    },
    {
     "name": "stderr",
     "output_type": "stream",
     "text": [
      "\n",
      "\n",
      "\n",
      "t:  12%|█▏        | 222/1830 [00:12<01:41, 15.87it/s, now=None]\u001b[A\u001b[A\u001b[A"
     ]
    },
    {
     "name": "stdout",
     "output_type": "stream",
     "text": [
      "5\n",
      "5\n",
      "5\n",
      "5\n",
      "5\n",
      "5\n"
     ]
    },
    {
     "name": "stderr",
     "output_type": "stream",
     "text": [
      "\n",
      "\n",
      "\n",
      "t:  12%|█▏        | 224/1830 [00:12<01:51, 14.39it/s, now=None]\u001b[A\u001b[A\u001b[A\n",
      "\n",
      "\n",
      "t:  12%|█▏        | 226/1830 [00:12<01:46, 15.10it/s, now=None]\u001b[A\u001b[A\u001b[A"
     ]
    },
    {
     "name": "stdout",
     "output_type": "stream",
     "text": [
      "5\n",
      "5\n",
      "5\n",
      "5\n",
      "5\n",
      "5\n"
     ]
    },
    {
     "name": "stderr",
     "output_type": "stream",
     "text": [
      "\n",
      "\n",
      "\n",
      "t:  12%|█▏        | 228/1830 [00:12<01:46, 15.02it/s, now=None]\u001b[A\u001b[A\u001b[A"
     ]
    },
    {
     "name": "stdout",
     "output_type": "stream",
     "text": [
      "5\n",
      "5\n",
      "5\n",
      "5\n",
      "5\n",
      "5\n"
     ]
    },
    {
     "name": "stderr",
     "output_type": "stream",
     "text": [
      "\n",
      "\n",
      "\n",
      "t:  13%|█▎        | 230/1830 [00:13<01:59, 13.38it/s, now=None]\u001b[A\u001b[A\u001b[A\n",
      "\n",
      "\n",
      "t:  13%|█▎        | 232/1830 [00:13<01:49, 14.60it/s, now=None]\u001b[A\u001b[A\u001b[A"
     ]
    },
    {
     "name": "stdout",
     "output_type": "stream",
     "text": [
      "5\n",
      "5\n",
      "5\n",
      "5\n",
      "5\n",
      "5\n",
      "5\n",
      "5\n"
     ]
    },
    {
     "name": "stderr",
     "output_type": "stream",
     "text": [
      "\n",
      "\n",
      "\n",
      "t:  13%|█▎        | 234/1830 [00:13<01:45, 15.11it/s, now=None]\u001b[A\u001b[A\u001b[A\n",
      "\n",
      "\n",
      "t:  13%|█▎        | 236/1830 [00:13<01:57, 13.60it/s, now=None]\u001b[A\u001b[A\u001b[A"
     ]
    },
    {
     "name": "stdout",
     "output_type": "stream",
     "text": [
      "5\n",
      "5\n",
      "5\n",
      "5\n",
      "5\n",
      "5\n"
     ]
    },
    {
     "name": "stderr",
     "output_type": "stream",
     "text": [
      "\n",
      "\n",
      "\n",
      "t:  13%|█▎        | 238/1830 [00:13<01:57, 13.55it/s, now=None]\u001b[A\u001b[A\u001b[A\n",
      "\n",
      "\n"
     ]
    },
    {
     "name": "stdout",
     "output_type": "stream",
     "text": [
      "5\n",
      "5\n",
      "5\n",
      "5\n",
      "5\n",
      "5\n",
      "5\n",
      "5\n"
     ]
    },
    {
     "name": "stderr",
     "output_type": "stream",
     "text": [
      "t:  13%|█▎        | 240/1830 [00:13<01:48, 14.64it/s, now=None]\u001b[A\u001b[A\u001b[A\n",
      "\n",
      "\n",
      "t:  13%|█▎        | 242/1830 [00:13<01:54, 13.83it/s, now=None]\u001b[A\u001b[A\u001b[A"
     ]
    },
    {
     "name": "stdout",
     "output_type": "stream",
     "text": [
      "5\n",
      "5\n",
      "5\n",
      "5\n"
     ]
    },
    {
     "name": "stderr",
     "output_type": "stream",
     "text": [
      "\n",
      "\n",
      "\n",
      "t:  13%|█▎        | 244/1830 [00:14<02:01, 13.10it/s, now=None]\u001b[A\u001b[A\u001b[A"
     ]
    },
    {
     "name": "stdout",
     "output_type": "stream",
     "text": [
      "5\n",
      "5\n",
      "5\n",
      "5\n",
      "5\n",
      "5\n"
     ]
    },
    {
     "name": "stderr",
     "output_type": "stream",
     "text": [
      "\n",
      "\n",
      "\n",
      "t:  13%|█▎        | 246/1830 [00:14<02:11, 12.07it/s, now=None]\u001b[A\u001b[A\u001b[A\n",
      "\n",
      "\n",
      "t:  14%|█▎        | 249/1830 [00:14<01:57, 13.48it/s, now=None]"
     ]
    },
    {
     "name": "stdout",
     "output_type": "stream",
     "text": [
      "5\n",
      "5\n",
      "5\n",
      "5\n",
      "5\n",
      "5\n",
      "5\n",
      "5\n"
     ]
    },
    {
     "name": "stderr",
     "output_type": "stream",
     "text": [
      "\u001b[A\u001b[A\u001b[A\n",
      "\n",
      "\n",
      "t:  14%|█▎        | 251/1830 [00:14<01:59, 13.24it/s, now=None]\u001b[A\u001b[A\u001b[A\n",
      "\n",
      "\n",
      "t:  14%|█▍        | 253/1830 [00:14<01:54, 13.81it/s, now=None]\u001b[A\u001b[A\u001b[A"
     ]
    },
    {
     "name": "stdout",
     "output_type": "stream",
     "text": [
      "5\n",
      "5\n",
      "5\n",
      "5\n",
      "5\n",
      "5\n",
      "5\n",
      "5\n"
     ]
    },
    {
     "name": "stderr",
     "output_type": "stream",
     "text": [
      "\n",
      "\n",
      "\n",
      "t:  14%|█▍        | 255/1830 [00:14<01:53, 13.91it/s, now=None]\u001b[A\u001b[A\u001b[A\n",
      "\n",
      "\n",
      "t:  14%|█▍        | 257/1830 [00:15<01:50, 14.24it/s, now=None]\u001b[A\u001b[A\u001b[A"
     ]
    },
    {
     "name": "stdout",
     "output_type": "stream",
     "text": [
      "5\n",
      "5\n",
      "5\n",
      "5\n",
      "5\n",
      "5\n",
      "5\n",
      "5\n"
     ]
    },
    {
     "name": "stderr",
     "output_type": "stream",
     "text": [
      "\n",
      "\n",
      "\n",
      "t:  14%|█▍        | 259/1830 [00:15<01:45, 14.86it/s, now=None]\u001b[A\u001b[A\u001b[A"
     ]
    },
    {
     "name": "stdout",
     "output_type": "stream",
     "text": [
      "5\n",
      "5\n",
      "5\n",
      "5\n",
      "5\n",
      "5\n",
      "5\n",
      "5\n"
     ]
    },
    {
     "name": "stderr",
     "output_type": "stream",
     "text": [
      "\n",
      "\n",
      "\n",
      "t:  14%|█▍        | 261/1830 [00:15<01:50, 14.22it/s, now=None]\u001b[A\u001b[A\u001b[A\n",
      "\n",
      "\n",
      "t:  14%|█▍        | 263/1830 [00:15<01:54, 13.67it/s, now=None]\u001b[A\u001b[A\u001b[A"
     ]
    },
    {
     "name": "stdout",
     "output_type": "stream",
     "text": [
      "5\n",
      "5\n",
      "5\n",
      "5\n",
      "5\n",
      "5\n"
     ]
    },
    {
     "name": "stderr",
     "output_type": "stream",
     "text": [
      "\n",
      "\n",
      "\n",
      "t:  14%|█▍        | 265/1830 [00:15<02:06, 12.35it/s, now=None]\u001b[A\u001b[A\u001b[A\n",
      "\n",
      "\n",
      "t:  15%|█▍        | 267/1830 [00:15<01:53, 13.78it/s, now=None]\u001b[A\u001b[A\u001b[A"
     ]
    },
    {
     "name": "stdout",
     "output_type": "stream",
     "text": [
      "5\n",
      "5\n",
      "5\n",
      "5\n",
      "5\n",
      "5\n",
      "5\n",
      "5\n"
     ]
    },
    {
     "name": "stderr",
     "output_type": "stream",
     "text": [
      "\n",
      "\n",
      "\n",
      "t:  15%|█▍        | 269/1830 [00:15<01:51, 14.05it/s, now=None]\u001b[A\u001b[A\u001b[A"
     ]
    },
    {
     "name": "stdout",
     "output_type": "stream",
     "text": [
      "5\n",
      "5\n",
      "5\n",
      "5\n",
      "5\n",
      "5\n"
     ]
    },
    {
     "name": "stderr",
     "output_type": "stream",
     "text": [
      "\n",
      "\n",
      "\n",
      "t:  15%|█▍        | 271/1830 [00:16<02:13, 11.69it/s, now=None]\u001b[A\u001b[A\u001b[A\n",
      "\n",
      "\n",
      "t:  15%|█▍        | 273/1830 [00:16<02:08, 12.13it/s, now=None]\u001b[A\u001b[A\u001b[A"
     ]
    },
    {
     "name": "stdout",
     "output_type": "stream",
     "text": [
      "5\n",
      "5\n",
      "5\n",
      "5\n",
      "5\n",
      "5\n"
     ]
    },
    {
     "name": "stderr",
     "output_type": "stream",
     "text": [
      "\n",
      "\n",
      "\n",
      "t:  15%|█▌        | 275/1830 [00:16<01:59, 13.02it/s, now=None]\u001b[A\u001b[A\u001b[A\n",
      "\n",
      "\n",
      "t:  15%|█▌        | 277/1830 [00:16<02:05, 12.37it/s, now=None]"
     ]
    },
    {
     "name": "stdout",
     "output_type": "stream",
     "text": [
      "5\n",
      "5\n",
      "5\n",
      "5\n",
      "5\n",
      "5\n"
     ]
    },
    {
     "name": "stderr",
     "output_type": "stream",
     "text": [
      "\u001b[A\u001b[A\u001b[A\n",
      "\n",
      "\n",
      "t:  15%|█▌        | 279/1830 [00:16<02:02, 12.70it/s, now=None]\u001b[A\u001b[A\u001b[A"
     ]
    },
    {
     "name": "stdout",
     "output_type": "stream",
     "text": [
      "5\n",
      "5\n",
      "5\n",
      "5\n",
      "5\n",
      "5\n"
     ]
    },
    {
     "name": "stderr",
     "output_type": "stream",
     "text": [
      "\n",
      "\n",
      "\n",
      "t:  15%|█▌        | 281/1830 [00:16<01:58, 13.11it/s, now=None]\u001b[A\u001b[A\u001b[A\n",
      "\n",
      "\n",
      "t:  15%|█▌        | 283/1830 [00:17<01:51, 13.91it/s, now=None]\u001b[A\u001b[A\u001b[A"
     ]
    },
    {
     "name": "stdout",
     "output_type": "stream",
     "text": [
      "5\n",
      "5\n",
      "5\n",
      "5\n",
      "5\n",
      "5\n",
      "5\n",
      "5\n"
     ]
    },
    {
     "name": "stderr",
     "output_type": "stream",
     "text": [
      "\n",
      "\n",
      "\n",
      "t:  16%|█▌        | 285/1830 [00:17<01:46, 14.55it/s, now=None]\u001b[A\u001b[A\u001b[A"
     ]
    },
    {
     "name": "stdout",
     "output_type": "stream",
     "text": [
      "5\n",
      "5\n",
      "5\n",
      "5\n",
      "5\n",
      "5\n",
      "5\n",
      "5\n"
     ]
    },
    {
     "name": "stderr",
     "output_type": "stream",
     "text": [
      "\n",
      "\n",
      "\n",
      "t:  16%|█▌        | 288/1830 [00:17<01:46, 14.53it/s, now=None]\u001b[A\u001b[A\u001b[A\n",
      "\n",
      "\n",
      "t:  16%|█▌        | 290/1830 [00:17<01:43, 14.83it/s, now=None]\u001b[A\u001b[A\u001b[A\n",
      "\n",
      "\n"
     ]
    },
    {
     "name": "stdout",
     "output_type": "stream",
     "text": [
      "5\n",
      "5\n",
      "5\n",
      "5\n",
      "5\n",
      "5\n",
      "5\n",
      "5\n"
     ]
    },
    {
     "name": "stderr",
     "output_type": "stream",
     "text": [
      "t:  16%|█▌        | 292/1830 [00:17<01:45, 14.52it/s, now=None]\u001b[A\u001b[A\u001b[A\n",
      "\n",
      "\n",
      "t:  16%|█▌        | 294/1830 [00:17<01:46, 14.42it/s, now=None]\u001b[A\u001b[A\u001b[A"
     ]
    },
    {
     "name": "stdout",
     "output_type": "stream",
     "text": [
      "5\n",
      "5\n",
      "5\n",
      "5\n",
      "5\n",
      "5\n"
     ]
    },
    {
     "name": "stderr",
     "output_type": "stream",
     "text": [
      "\n",
      "\n",
      "\n",
      "t:  16%|█▌        | 296/1830 [00:17<01:57, 13.01it/s, now=None]\u001b[A\u001b[A\u001b[A\n",
      "\n",
      "\n",
      "t:  16%|█▋        | 298/1830 [00:18<01:51, 13.72it/s, now=None]\u001b[A\u001b[A\u001b[A"
     ]
    },
    {
     "name": "stdout",
     "output_type": "stream",
     "text": [
      "5\n",
      "5\n",
      "5\n",
      "5\n",
      "5\n",
      "5\n"
     ]
    },
    {
     "name": "stderr",
     "output_type": "stream",
     "text": [
      "\n",
      "\n",
      "\n",
      "t:  16%|█▋        | 300/1830 [00:18<01:44, 14.59it/s, now=None]\u001b[A\u001b[A\u001b[A\n",
      "\n",
      "\n",
      "t:  17%|█▋        | 302/1830 [00:18<01:37, 15.63it/s, now=None]\u001b[A\u001b[A\u001b[A"
     ]
    },
    {
     "name": "stdout",
     "output_type": "stream",
     "text": [
      "5\n",
      "5\n",
      "5\n",
      "5\n",
      "5\n",
      "5\n",
      "5\n",
      "5\n"
     ]
    },
    {
     "name": "stderr",
     "output_type": "stream",
     "text": [
      "\n",
      "\n",
      "\n",
      "t:  17%|█▋        | 304/1830 [00:18<01:34, 16.21it/s, now=None]\u001b[A\u001b[A\u001b[A\n",
      "\n",
      "\n",
      "t:  17%|█▋        | 306/1830 [00:18<01:30, 16.81it/s, now=None]\u001b[A\u001b[A\u001b[A"
     ]
    },
    {
     "name": "stdout",
     "output_type": "stream",
     "text": [
      "5\n",
      "5\n",
      "5\n",
      "5\n",
      "5\n",
      "5\n",
      "5\n",
      "5\n"
     ]
    },
    {
     "name": "stderr",
     "output_type": "stream",
     "text": [
      "\n",
      "\n",
      "\n",
      "t:  17%|█▋        | 308/1830 [00:18<01:35, 15.90it/s, now=None]\u001b[A\u001b[A\u001b[A"
     ]
    },
    {
     "name": "stdout",
     "output_type": "stream",
     "text": [
      "5\n",
      "5\n",
      "5\n",
      "5\n",
      "5\n",
      "5\n"
     ]
    },
    {
     "name": "stderr",
     "output_type": "stream",
     "text": [
      "\n",
      "\n",
      "\n",
      "t:  17%|█▋        | 310/1830 [00:18<01:44, 14.53it/s, now=None]\u001b[A\u001b[A\u001b[A\n",
      "\n",
      "\n",
      "t:  17%|█▋        | 312/1830 [00:18<01:46, 14.30it/s, now=None]\u001b[A\u001b[A\u001b[A"
     ]
    },
    {
     "name": "stdout",
     "output_type": "stream",
     "text": [
      "5\n",
      "5\n",
      "5\n",
      "5\n",
      "5\n",
      "5\n"
     ]
    },
    {
     "name": "stderr",
     "output_type": "stream",
     "text": [
      "\n",
      "\n",
      "\n",
      "t:  17%|█▋        | 314/1830 [00:19<01:43, 14.66it/s, now=None]\u001b[A\u001b[A\u001b[A\n",
      "\n",
      "\n"
     ]
    },
    {
     "name": "stdout",
     "output_type": "stream",
     "text": [
      "5\n",
      "5\n",
      "5\n",
      "5\n",
      "5\n",
      "5\n",
      "5\n",
      "5\n"
     ]
    },
    {
     "name": "stderr",
     "output_type": "stream",
     "text": [
      "t:  17%|█▋        | 316/1830 [00:19<01:40, 15.02it/s, now=None]\u001b[A\u001b[A\u001b[A\n",
      "\n",
      "\n",
      "t:  17%|█▋        | 318/1830 [00:19<01:44, 14.42it/s, now=None]\u001b[A\u001b[A\u001b[A"
     ]
    },
    {
     "name": "stdout",
     "output_type": "stream",
     "text": [
      "5\n",
      "5\n",
      "5\n",
      "5\n",
      "5\n",
      "5\n",
      "5\n",
      "5\n"
     ]
    },
    {
     "name": "stderr",
     "output_type": "stream",
     "text": [
      "\n",
      "\n",
      "\n",
      "t:  17%|█▋        | 320/1830 [00:19<01:41, 14.82it/s, now=None]\u001b[A\u001b[A\u001b[A\n",
      "\n",
      "\n",
      "t:  18%|█▊        | 322/1830 [00:19<01:48, 13.84it/s, now=None]\u001b[A\u001b[A\u001b[A"
     ]
    },
    {
     "name": "stdout",
     "output_type": "stream",
     "text": [
      "5\n",
      "5\n",
      "5\n",
      "5\n",
      "5\n",
      "5\n"
     ]
    },
    {
     "name": "stderr",
     "output_type": "stream",
     "text": [
      "\n",
      "\n",
      "\n",
      "t:  18%|█▊        | 324/1830 [00:19<02:01, 12.42it/s, now=None]\u001b[A\u001b[A\u001b[A\n",
      "\n",
      "\n",
      "t:  18%|█▊        | 326/1830 [00:20<01:51, 13.46it/s, now=None]\u001b[A\u001b[A\u001b[A"
     ]
    },
    {
     "name": "stdout",
     "output_type": "stream",
     "text": [
      "5\n",
      "5\n",
      "5\n",
      "5\n",
      "5\n",
      "5\n"
     ]
    },
    {
     "name": "stderr",
     "output_type": "stream",
     "text": [
      "\n",
      "\n",
      "\n",
      "t:  18%|█▊        | 328/1830 [00:20<01:56, 12.91it/s, now=None]\u001b[A\u001b[A\u001b[A"
     ]
    },
    {
     "name": "stdout",
     "output_type": "stream",
     "text": [
      "5\n",
      "5\n",
      "5\n",
      "5\n",
      "5\n",
      "5\n"
     ]
    },
    {
     "name": "stderr",
     "output_type": "stream",
     "text": [
      "\n",
      "\n",
      "\n",
      "t:  18%|█▊        | 330/1830 [00:20<01:53, 13.22it/s, now=None]\u001b[A\u001b[A\u001b[A\n",
      "\n",
      "\n",
      "t:  18%|█▊        | 332/1830 [00:20<01:46, 14.04it/s, now=None]\u001b[A\u001b[A\u001b[A"
     ]
    },
    {
     "name": "stdout",
     "output_type": "stream",
     "text": [
      "5\n",
      "5\n",
      "5\n",
      "5\n",
      "5\n",
      "5\n"
     ]
    },
    {
     "name": "stderr",
     "output_type": "stream",
     "text": [
      "\n",
      "\n",
      "\n",
      "t:  18%|█▊        | 334/1830 [00:20<01:46, 14.01it/s, now=None]\u001b[A\u001b[A\u001b[A"
     ]
    },
    {
     "name": "stdout",
     "output_type": "stream",
     "text": [
      "5\n",
      "5\n",
      "5\n",
      "5\n",
      "5\n",
      "5\n",
      "5\n",
      "5\n"
     ]
    },
    {
     "name": "stderr",
     "output_type": "stream",
     "text": [
      "\n",
      "\n",
      "\n",
      "t:  18%|█▊        | 336/1830 [00:20<01:45, 14.11it/s, now=None]\u001b[A\u001b[A\u001b[A\n",
      "\n",
      "\n",
      "t:  18%|█▊        | 338/1830 [00:20<02:05, 11.90it/s, now=None]\u001b[A\u001b[A\u001b[A"
     ]
    },
    {
     "name": "stdout",
     "output_type": "stream",
     "text": [
      "5\n",
      "5\n",
      "5\n",
      "5\n"
     ]
    },
    {
     "name": "stderr",
     "output_type": "stream",
     "text": [
      "\n",
      "\n",
      "\n",
      "t:  19%|█▊        | 340/1830 [00:21<01:59, 12.45it/s, now=None]\u001b[A\u001b[A\u001b[A"
     ]
    },
    {
     "name": "stdout",
     "output_type": "stream",
     "text": [
      "5\n",
      "5\n",
      "5\n",
      "5\n",
      "5\n",
      "5\n",
      "5"
     ]
    },
    {
     "name": "stderr",
     "output_type": "stream",
     "text": [
      "\n",
      "\n",
      "\n",
      "t:  19%|█▊        | 342/1830 [00:21<01:56, 12.82it/s, now=None]\u001b[A\u001b[A\u001b[A\n",
      "\n",
      "\n",
      "t:  19%|█▉        | 344/1830 [00:21<01:54, 12.93it/s, now=None]\u001b[A\u001b[A\u001b[A"
     ]
    },
    {
     "name": "stdout",
     "output_type": "stream",
     "text": [
      "\n",
      "5\n",
      "5\n",
      "5\n",
      "5\n",
      "5\n",
      "5\n",
      "5\n"
     ]
    },
    {
     "name": "stderr",
     "output_type": "stream",
     "text": [
      "\n",
      "\n",
      "\n",
      "t:  19%|█▉        | 346/1830 [00:21<02:02, 12.14it/s, now=None]\u001b[A\u001b[A\u001b[A\n",
      "\n",
      "\n",
      "t:  19%|█▉        | 348/1830 [00:21<01:57, 12.62it/s, now=None]\u001b[A\u001b[A\u001b[A"
     ]
    },
    {
     "name": "stdout",
     "output_type": "stream",
     "text": [
      "5\n",
      "5\n",
      "5\n",
      "5\n",
      "5\n",
      "5\n"
     ]
    },
    {
     "name": "stderr",
     "output_type": "stream",
     "text": [
      "\n",
      "\n",
      "\n",
      "t:  19%|█▉        | 350/1830 [00:21<02:11, 11.22it/s, now=None]\u001b[A\u001b[A\u001b[A"
     ]
    },
    {
     "name": "stdout",
     "output_type": "stream",
     "text": [
      "5\n",
      "5\n",
      "5\n",
      "5\n",
      "5\n",
      "5\n"
     ]
    },
    {
     "name": "stderr",
     "output_type": "stream",
     "text": [
      "\n",
      "\n",
      "\n",
      "t:  19%|█▉        | 352/1830 [00:22<02:00, 12.27it/s, now=None]\u001b[A\u001b[A\u001b[A\n",
      "\n",
      "\n",
      "t:  19%|█▉        | 354/1830 [00:22<01:55, 12.81it/s, now=None]\u001b[A\u001b[A\u001b[A"
     ]
    },
    {
     "name": "stdout",
     "output_type": "stream",
     "text": [
      "5\n",
      "5\n",
      "5\n",
      "5\n",
      "5\n",
      "5\n"
     ]
    },
    {
     "name": "stderr",
     "output_type": "stream",
     "text": [
      "\n",
      "\n",
      "\n",
      "t:  19%|█▉        | 356/1830 [00:22<01:47, 13.77it/s, now=None]\u001b[A\u001b[A\u001b[A"
     ]
    },
    {
     "name": "stdout",
     "output_type": "stream",
     "text": [
      "5\n",
      "5\n",
      "5\n",
      "5\n",
      "5\n",
      "5\n"
     ]
    },
    {
     "name": "stderr",
     "output_type": "stream",
     "text": [
      "\n",
      "\n",
      "\n",
      "t:  20%|█▉        | 358/1830 [00:22<01:49, 13.50it/s, now=None]\u001b[A\u001b[A\u001b[A\n",
      "\n",
      "\n",
      "t:  20%|█▉        | 360/1830 [00:22<01:44, 14.12it/s, now=None]\u001b[A\u001b[A\u001b[A"
     ]
    },
    {
     "name": "stdout",
     "output_type": "stream",
     "text": [
      "5\n",
      "5\n",
      "5\n",
      "5\n",
      "5\n",
      "5\n"
     ]
    },
    {
     "name": "stderr",
     "output_type": "stream",
     "text": [
      "\n",
      "\n",
      "\n",
      "t:  20%|█▉        | 362/1830 [00:22<01:46, 13.74it/s, now=None]\u001b[A\u001b[A\u001b[A"
     ]
    },
    {
     "name": "stdout",
     "output_type": "stream",
     "text": [
      "5\n",
      "5\n",
      "5\n",
      "5\n",
      "5\n",
      "5\n"
     ]
    },
    {
     "name": "stderr",
     "output_type": "stream",
     "text": [
      "\n",
      "\n",
      "\n",
      "t:  20%|█▉        | 364/1830 [00:22<01:57, 12.49it/s, now=None]\u001b[A\u001b[A\u001b[A"
     ]
    },
    {
     "name": "stdout",
     "output_type": "stream",
     "text": [
      "5\n",
      "5\n",
      "5\n",
      "5\n"
     ]
    },
    {
     "name": "stderr",
     "output_type": "stream",
     "text": [
      "\n",
      "\n",
      "\n",
      "t:  20%|██        | 366/1830 [00:23<02:07, 11.47it/s, now=None]\u001b[A\u001b[A\u001b[A\n",
      "\n",
      "\n",
      "t:  20%|██        | 368/1830 [00:23<02:06, 11.51it/s, now=None]\u001b[A\u001b[A\u001b[A"
     ]
    },
    {
     "name": "stdout",
     "output_type": "stream",
     "text": [
      "5\n",
      "5\n",
      "5\n",
      "5\n",
      "5\n",
      "5\n"
     ]
    },
    {
     "name": "stderr",
     "output_type": "stream",
     "text": [
      "\n",
      "\n",
      "\n",
      "t:  20%|██        | 370/1830 [00:23<02:11, 11.13it/s, now=None]\u001b[A\u001b[A\u001b[A"
     ]
    },
    {
     "name": "stdout",
     "output_type": "stream",
     "text": [
      "5\n",
      "5\n",
      "5\n",
      "5\n",
      "5\n",
      "5\n"
     ]
    },
    {
     "name": "stderr",
     "output_type": "stream",
     "text": [
      "\n",
      "\n",
      "\n",
      "t:  20%|██        | 372/1830 [00:23<02:35,  9.40it/s, now=None]\u001b[A\u001b[A\u001b[A\n",
      "\n",
      "\n",
      "t:  20%|██        | 374/1830 [00:23<02:17, 10.59it/s, now=None]\u001b[A\u001b[A\u001b[A"
     ]
    },
    {
     "name": "stdout",
     "output_type": "stream",
     "text": [
      "5\n",
      "5\n",
      "5\n",
      "5\n",
      "5\n",
      "5\n"
     ]
    },
    {
     "name": "stderr",
     "output_type": "stream",
     "text": [
      "\n",
      "\n",
      "\n",
      "t:  21%|██        | 376/1830 [00:24<02:17, 10.54it/s, now=None]\u001b[A\u001b[A\u001b[A"
     ]
    },
    {
     "name": "stdout",
     "output_type": "stream",
     "text": [
      "5\n",
      "5\n",
      "5\n",
      "5\n",
      "5\n",
      "5\n"
     ]
    },
    {
     "name": "stderr",
     "output_type": "stream",
     "text": [
      "\n",
      "\n",
      "\n",
      "t:  21%|██        | 378/1830 [00:24<02:05, 11.53it/s, now=None]\u001b[A\u001b[A\u001b[A\n",
      "\n",
      "\n",
      "t:  21%|██        | 380/1830 [00:24<02:00, 11.99it/s, now=None]\u001b[A\u001b[A\u001b[A"
     ]
    },
    {
     "name": "stdout",
     "output_type": "stream",
     "text": [
      "5\n",
      "5\n",
      "5\n",
      "5\n",
      "5\n",
      "5\n"
     ]
    },
    {
     "name": "stderr",
     "output_type": "stream",
     "text": [
      "\n",
      "\n",
      "\n",
      "t:  21%|██        | 382/1830 [00:24<01:56, 12.43it/s, now=None]\u001b[A\u001b[A\u001b[A"
     ]
    },
    {
     "name": "stdout",
     "output_type": "stream",
     "text": [
      "5\n",
      "5\n",
      "5\n",
      "5\n",
      "5\n",
      "5\n"
     ]
    },
    {
     "name": "stderr",
     "output_type": "stream",
     "text": [
      "\n",
      "\n",
      "\n",
      "t:  21%|██        | 384/1830 [00:24<02:00, 12.05it/s, now=None]\u001b[A\u001b[A\u001b[A\n",
      "\n",
      "\n",
      "t:  21%|██        | 386/1830 [00:24<01:54, 12.63it/s, now=None]\u001b[A\u001b[A\u001b[A"
     ]
    },
    {
     "name": "stdout",
     "output_type": "stream",
     "text": [
      "5\n",
      "5\n",
      "5\n",
      "5\n",
      "5\n",
      "5\n"
     ]
    },
    {
     "name": "stderr",
     "output_type": "stream",
     "text": [
      "\n",
      "\n",
      "\n",
      "t:  21%|██        | 388/1830 [00:25<01:52, 12.87it/s, now=None]\u001b[A\u001b[A\u001b[A\n",
      "\n",
      "\n",
      "t:  21%|██▏       | 390/1830 [00:25<01:48, 13.31it/s, now=None]"
     ]
    },
    {
     "name": "stdout",
     "output_type": "stream",
     "text": [
      "5\n",
      "5\n",
      "5\n",
      "5\n",
      "5\n",
      "5\n",
      "5\n",
      "5\n"
     ]
    },
    {
     "name": "stderr",
     "output_type": "stream",
     "text": [
      "\u001b[A\u001b[A\u001b[A\n",
      "\n",
      "\n",
      "t:  21%|██▏       | 392/1830 [00:25<01:52, 12.82it/s, now=None]\u001b[A\u001b[A\u001b[A"
     ]
    },
    {
     "name": "stdout",
     "output_type": "stream",
     "text": [
      "5\n",
      "5\n",
      "5\n",
      "5\n",
      "5\n",
      "5\n"
     ]
    },
    {
     "name": "stderr",
     "output_type": "stream",
     "text": [
      "\n",
      "\n",
      "\n",
      "t:  22%|██▏       | 394/1830 [00:25<01:54, 12.58it/s, now=None]\u001b[A\u001b[A\u001b[A\n",
      "\n",
      "\n",
      "t:  22%|██▏       | 396/1830 [00:25<01:51, 12.85it/s, now=None]\u001b[A\u001b[A\u001b[A"
     ]
    },
    {
     "name": "stdout",
     "output_type": "stream",
     "text": [
      "5\n",
      "5\n",
      "5\n",
      "5\n",
      "5\n",
      "5\n"
     ]
    },
    {
     "name": "stderr",
     "output_type": "stream",
     "text": [
      "\n",
      "\n",
      "\n",
      "t:  22%|██▏       | 398/1830 [00:25<01:53, 12.61it/s, now=None]\u001b[A\u001b[A\u001b[A"
     ]
    },
    {
     "name": "stdout",
     "output_type": "stream",
     "text": [
      "5\n",
      "5\n",
      "5\n",
      "5\n",
      "5\n",
      "5\n",
      "5\n",
      "5\n"
     ]
    },
    {
     "name": "stderr",
     "output_type": "stream",
     "text": [
      "\n",
      "\n",
      "\n",
      "t:  22%|██▏       | 400/1830 [00:25<01:50, 12.93it/s, now=None]\u001b[A\u001b[A\u001b[A\n",
      "\n",
      "\n",
      "t:  22%|██▏       | 402/1830 [00:26<01:45, 13.58it/s, now=None]\u001b[A\u001b[A\u001b[A\n",
      "\n",
      "\n",
      "t:  22%|██▏       | 404/1830 [00:26<01:40, 14.23it/s, now=None]\u001b[A\u001b[A\u001b[A"
     ]
    },
    {
     "name": "stdout",
     "output_type": "stream",
     "text": [
      "5\n",
      "5\n",
      "5\n",
      "5\n",
      "5\n",
      "5\n",
      "5\n",
      "5\n"
     ]
    },
    {
     "name": "stderr",
     "output_type": "stream",
     "text": [
      "\n",
      "\n",
      "\n",
      "t:  22%|██▏       | 406/1830 [00:26<01:39, 14.38it/s, now=None]\u001b[A\u001b[A\u001b[A"
     ]
    },
    {
     "name": "stdout",
     "output_type": "stream",
     "text": [
      "5\n",
      "5\n",
      "5\n",
      "5\n",
      "5\n",
      "5\n"
     ]
    },
    {
     "name": "stderr",
     "output_type": "stream",
     "text": [
      "\n",
      "\n",
      "\n",
      "t:  22%|██▏       | 408/1830 [00:26<01:46, 13.31it/s, now=None]\u001b[A\u001b[A\u001b[A\n",
      "\n",
      "\n",
      "t:  22%|██▏       | 410/1830 [00:26<01:44, 13.59it/s, now=None]\u001b[A\u001b[A\u001b[A"
     ]
    },
    {
     "name": "stdout",
     "output_type": "stream",
     "text": [
      "5\n",
      "5\n",
      "5\n",
      "5\n",
      "5\n",
      "5\n"
     ]
    },
    {
     "name": "stderr",
     "output_type": "stream",
     "text": [
      "\n",
      "\n",
      "\n",
      "t:  23%|██▎       | 412/1830 [00:26<01:39, 14.19it/s, now=None]\u001b[A\u001b[A\u001b[A"
     ]
    },
    {
     "name": "stdout",
     "output_type": "stream",
     "text": [
      "5\n",
      "5\n",
      "5\n",
      "5\n",
      "5\n",
      "5\n",
      "5\n",
      "5\n"
     ]
    },
    {
     "name": "stderr",
     "output_type": "stream",
     "text": [
      "\n",
      "\n",
      "\n",
      "t:  23%|██▎       | 414/1830 [00:26<01:41, 13.98it/s, now=None]\u001b[A\u001b[A\u001b[A\n",
      "\n",
      "\n",
      "t:  23%|██▎       | 416/1830 [00:27<01:34, 14.92it/s, now=None]\u001b[A\u001b[A\u001b[A\n",
      "\n",
      "\n",
      "t:  23%|██▎       | 418/1830 [00:27<01:32, 15.18it/s, now=None]\u001b[A\u001b[A\u001b[A"
     ]
    },
    {
     "name": "stdout",
     "output_type": "stream",
     "text": [
      "5\n",
      "5\n",
      "5\n",
      "5\n",
      "5\n",
      "5\n",
      "5\n",
      "5\n"
     ]
    },
    {
     "name": "stderr",
     "output_type": "stream",
     "text": [
      "\n",
      "\n",
      "\n",
      "t:  23%|██▎       | 420/1830 [00:27<01:34, 14.98it/s, now=None]\u001b[A\u001b[A\u001b[A"
     ]
    },
    {
     "name": "stdout",
     "output_type": "stream",
     "text": [
      "5\n",
      "5\n",
      "5\n",
      "5\n",
      "5\n",
      "5\n",
      "5\n",
      "5\n"
     ]
    },
    {
     "name": "stderr",
     "output_type": "stream",
     "text": [
      "\n",
      "\n",
      "\n",
      "t:  23%|██▎       | 422/1830 [00:27<01:37, 14.42it/s, now=None]\u001b[A\u001b[A\u001b[A\n",
      "\n",
      "\n",
      "t:  23%|██▎       | 424/1830 [00:27<01:30, 15.48it/s, now=None]\u001b[A\u001b[A\u001b[A\n",
      "\n",
      "\n",
      "t:  23%|██▎       | 426/1830 [00:27<01:28, 15.90it/s, now=None]\u001b[A\u001b[A\u001b[A"
     ]
    },
    {
     "name": "stdout",
     "output_type": "stream",
     "text": [
      "5\n",
      "5\n",
      "5\n",
      "5\n",
      "5\n",
      "5\n",
      "5\n",
      "5\n"
     ]
    },
    {
     "name": "stderr",
     "output_type": "stream",
     "text": [
      "\n",
      "\n",
      "\n",
      "t:  23%|██▎       | 428/1830 [00:27<01:32, 15.10it/s, now=None]\u001b[A\u001b[A\u001b[A\n",
      "\n",
      "\n",
      "t:  23%|██▎       | 430/1830 [00:28<01:33, 14.91it/s, now=None]"
     ]
    },
    {
     "name": "stdout",
     "output_type": "stream",
     "text": [
      "5\n",
      "5\n",
      "5\n",
      "5\n",
      "5\n",
      "5\n",
      "5\n",
      "5\n"
     ]
    },
    {
     "name": "stderr",
     "output_type": "stream",
     "text": [
      "\u001b[A\u001b[A\u001b[A\n",
      "\n",
      "\n",
      "t:  24%|██▎       | 432/1830 [00:28<01:37, 14.28it/s, now=None]\u001b[A\u001b[A\u001b[A\n",
      "\n",
      "\n",
      "t:  24%|██▎       | 434/1830 [00:28<01:38, 14.14it/s, now=None]"
     ]
    },
    {
     "name": "stdout",
     "output_type": "stream",
     "text": [
      "5\n",
      "5\n",
      "5\n",
      "5\n",
      "5\n",
      "5\n",
      "5\n",
      "5\n"
     ]
    },
    {
     "name": "stderr",
     "output_type": "stream",
     "text": [
      "\u001b[A\u001b[A\u001b[A\n",
      "\n",
      "\n",
      "t:  24%|██▍       | 436/1830 [00:28<01:44, 13.30it/s, now=None]\u001b[A\u001b[A\u001b[A"
     ]
    },
    {
     "name": "stdout",
     "output_type": "stream",
     "text": [
      "5\n",
      "5\n",
      "5\n",
      "5\n",
      "5\n",
      "5\n",
      "5"
     ]
    },
    {
     "name": "stderr",
     "output_type": "stream",
     "text": [
      "\n",
      "\n",
      "\n",
      "t:  24%|██▍       | 438/1830 [00:28<01:44, 13.33it/s, now=None]\u001b[A\u001b[A\u001b[A\n",
      "\n",
      "\n",
      "t:  24%|██▍       | 440/1830 [00:28<01:47, 12.91it/s, now=None]\u001b[A\u001b[A\u001b[A"
     ]
    },
    {
     "name": "stdout",
     "output_type": "stream",
     "text": [
      "\n",
      "5\n",
      "5\n",
      "5\n",
      "5\n",
      "5\n",
      "5\n",
      "5\n",
      "5\n",
      "5\n"
     ]
    },
    {
     "name": "stderr",
     "output_type": "stream",
     "text": [
      "\n",
      "\n",
      "\n",
      "t:  24%|██▍       | 442/1830 [00:28<01:46, 13.01it/s, now=None]\u001b[A\u001b[A\u001b[A\n",
      "\n",
      "\n",
      "t:  24%|██▍       | 444/1830 [00:29<01:45, 13.18it/s, now=None]\u001b[A\u001b[A\u001b[A"
     ]
    },
    {
     "name": "stdout",
     "output_type": "stream",
     "text": [
      "5\n",
      "5\n",
      "5\n",
      "5\n",
      "5\n",
      "5\n"
     ]
    },
    {
     "name": "stderr",
     "output_type": "stream",
     "text": [
      "\n",
      "\n",
      "\n",
      "t:  24%|██▍       | 446/1830 [00:29<01:46, 12.99it/s, now=None]\u001b[A\u001b[A\u001b[A\n",
      "\n",
      "\n",
      "t:  24%|██▍       | 448/1830 [00:29<01:45, 13.06it/s, now=None]\u001b[A\u001b[A\u001b[A"
     ]
    },
    {
     "name": "stdout",
     "output_type": "stream",
     "text": [
      "5\n",
      "5\n",
      "5\n",
      "5\n",
      "5\n",
      "5\n"
     ]
    },
    {
     "name": "stderr",
     "output_type": "stream",
     "text": [
      "\n",
      "\n",
      "\n",
      "t:  25%|██▍       | 450/1830 [00:29<01:46, 12.91it/s, now=None]\u001b[A\u001b[A\u001b[A"
     ]
    },
    {
     "name": "stdout",
     "output_type": "stream",
     "text": [
      "5\n",
      "5\n",
      "5\n",
      "5\n",
      "5\n",
      "5\n"
     ]
    },
    {
     "name": "stderr",
     "output_type": "stream",
     "text": [
      "\n",
      "\n",
      "\n",
      "t:  25%|██▍       | 452/1830 [00:29<01:44, 13.25it/s, now=None]\u001b[A\u001b[A\u001b[A\n",
      "\n",
      "\n",
      "t:  25%|██▍       | 454/1830 [00:29<01:43, 13.28it/s, now=None]\u001b[A\u001b[A\u001b[A"
     ]
    },
    {
     "name": "stdout",
     "output_type": "stream",
     "text": [
      "5\n",
      "5\n",
      "5\n",
      "5\n",
      "5\n",
      "5\n"
     ]
    },
    {
     "name": "stderr",
     "output_type": "stream",
     "text": [
      "\n",
      "\n",
      "\n",
      "t:  25%|██▍       | 456/1830 [00:29<01:42, 13.36it/s, now=None]\u001b[A\u001b[A\u001b[A"
     ]
    },
    {
     "name": "stdout",
     "output_type": "stream",
     "text": [
      "5\n",
      "5\n",
      "5\n",
      "5\n",
      "5\n",
      "5\n",
      "5\n",
      "5\n"
     ]
    },
    {
     "name": "stderr",
     "output_type": "stream",
     "text": [
      "\n",
      "\n",
      "\n",
      "t:  25%|██▌       | 458/1830 [00:30<01:46, 12.93it/s, now=None]\u001b[A\u001b[A\u001b[A\n",
      "\n",
      "\n",
      "t:  25%|██▌       | 460/1830 [00:30<01:46, 12.80it/s, now=None]\u001b[A\u001b[A\u001b[A"
     ]
    },
    {
     "name": "stdout",
     "output_type": "stream",
     "text": [
      "5\n",
      "5\n",
      "5\n",
      "5\n",
      "5\n",
      "5\n"
     ]
    },
    {
     "name": "stderr",
     "output_type": "stream",
     "text": [
      "\n",
      "\n",
      "\n",
      "t:  25%|██▌       | 462/1830 [00:30<01:49, 12.54it/s, now=None]\u001b[A\u001b[A\u001b[A\n",
      "\n",
      "\n",
      "t:  25%|██▌       | 464/1830 [00:30<01:44, 13.08it/s, now=None]\u001b[A\u001b[A\u001b[A"
     ]
    },
    {
     "name": "stdout",
     "output_type": "stream",
     "text": [
      "5\n",
      "5\n",
      "5\n",
      "5\n",
      "5\n",
      "5\n"
     ]
    },
    {
     "name": "stderr",
     "output_type": "stream",
     "text": [
      "\n",
      "\n",
      "\n",
      "t:  25%|██▌       | 466/1830 [00:30<01:41, 13.38it/s, now=None]\u001b[A\u001b[A\u001b[A\n",
      "\n",
      "\n",
      "t:  26%|██▌       | 468/1830 [00:30<01:37, 13.94it/s, now=None]\u001b[A\u001b[A\u001b[A"
     ]
    },
    {
     "name": "stdout",
     "output_type": "stream",
     "text": [
      "5\n",
      "5\n",
      "5\n",
      "5\n",
      "5\n",
      "5\n",
      "5\n",
      "5\n"
     ]
    },
    {
     "name": "stderr",
     "output_type": "stream",
     "text": [
      "\n",
      "\n",
      "\n",
      "t:  26%|██▌       | 470/1830 [00:31<01:35, 14.20it/s, now=None]\u001b[A\u001b[A\u001b[A"
     ]
    },
    {
     "name": "stdout",
     "output_type": "stream",
     "text": [
      "5\n",
      "5\n",
      "5\n",
      "5\n",
      "5\n",
      "5\n"
     ]
    },
    {
     "name": "stderr",
     "output_type": "stream",
     "text": [
      "\n",
      "\n",
      "\n",
      "t:  26%|██▌       | 472/1830 [00:31<01:36, 14.12it/s, now=None]\u001b[A\u001b[A\u001b[A\n",
      "\n",
      "\n",
      "t:  26%|██▌       | 474/1830 [00:31<01:29, 15.20it/s, now=None]\u001b[A\u001b[A\u001b[A"
     ]
    },
    {
     "name": "stdout",
     "output_type": "stream",
     "text": [
      "5\n",
      "5\n",
      "5\n",
      "5\n",
      "5\n",
      "5\n",
      "5\n",
      "5\n"
     ]
    },
    {
     "name": "stderr",
     "output_type": "stream",
     "text": [
      "\n",
      "\n",
      "\n",
      "t:  26%|██▌       | 476/1830 [00:31<01:30, 14.94it/s, now=None]\u001b[A\u001b[A\u001b[A\n",
      "\n",
      "\n",
      "t:  26%|██▌       | 478/1830 [00:31<01:30, 14.97it/s, now=None]\u001b[A\u001b[A\u001b[A"
     ]
    },
    {
     "name": "stdout",
     "output_type": "stream",
     "text": [
      "5\n",
      "5\n",
      "5\n",
      "5\n",
      "5\n",
      "5\n"
     ]
    },
    {
     "name": "stderr",
     "output_type": "stream",
     "text": [
      "\n",
      "\n",
      "\n",
      "t:  26%|██▌       | 480/1830 [00:31<01:29, 15.04it/s, now=None]\u001b[A\u001b[A\u001b[A\n",
      "\n",
      "\n",
      "t:  26%|██▋       | 482/1830 [00:31<01:27, 15.43it/s, now=None]\u001b[A\u001b[A\u001b[A"
     ]
    },
    {
     "name": "stdout",
     "output_type": "stream",
     "text": [
      "5\n",
      "5\n",
      "5\n",
      "5\n",
      "5\n",
      "5\n",
      "5\n",
      "5\n"
     ]
    },
    {
     "name": "stderr",
     "output_type": "stream",
     "text": [
      "\n",
      "\n",
      "\n",
      "t:  26%|██▋       | 484/1830 [00:31<01:28, 15.16it/s, now=None]\u001b[A\u001b[A\u001b[A\n",
      "\n",
      "\n",
      "t:  27%|██▋       | 486/1830 [00:32<01:26, 15.46it/s, now=None]\u001b[A\u001b[A\u001b[A"
     ]
    },
    {
     "name": "stdout",
     "output_type": "stream",
     "text": [
      "5\n",
      "5\n",
      "5\n",
      "5\n",
      "5\n",
      "5\n",
      "5\n",
      "5\n"
     ]
    },
    {
     "name": "stderr",
     "output_type": "stream",
     "text": [
      "\n",
      "\n",
      "\n",
      "t:  27%|██▋       | 488/1830 [00:32<01:25, 15.63it/s, now=None]\u001b[A\u001b[A\u001b[A\n",
      "\n",
      "\n",
      "t:  27%|██▋       | 490/1830 [00:32<01:21, 16.42it/s, now=None]\u001b[A\u001b[A\u001b[A"
     ]
    },
    {
     "name": "stdout",
     "output_type": "stream",
     "text": [
      "5\n",
      "5\n",
      "5\n",
      "5\n",
      "5\n",
      "5\n",
      "5\n",
      "5\n"
     ]
    },
    {
     "name": "stderr",
     "output_type": "stream",
     "text": [
      "\n",
      "\n",
      "\n",
      "t:  27%|██▋       | 492/1830 [00:32<01:22, 16.14it/s, now=None]\u001b[A\u001b[A\u001b[A\n",
      "\n",
      "\n",
      "t:  27%|██▋       | 494/1830 [00:32<01:20, 16.67it/s, now=None]"
     ]
    },
    {
     "name": "stdout",
     "output_type": "stream",
     "text": [
      "5\n",
      "5\n",
      "5\n",
      "5\n",
      "5\n",
      "5\n",
      "5\n",
      "5\n"
     ]
    },
    {
     "name": "stderr",
     "output_type": "stream",
     "text": [
      "\u001b[A\u001b[A\u001b[A\n",
      "\n",
      "\n",
      "t:  27%|██▋       | 496/1830 [00:32<01:24, 15.73it/s, now=None]\u001b[A\u001b[A\u001b[A\n",
      "\n",
      "\n",
      "t:  27%|██▋       | 498/1830 [00:32<01:24, 15.77it/s, now=None]\u001b[A\u001b[A\u001b[A"
     ]
    },
    {
     "name": "stdout",
     "output_type": "stream",
     "text": [
      "5\n",
      "5\n",
      "5\n",
      "5\n",
      "5\n",
      "5\n",
      "5\n",
      "5\n"
     ]
    },
    {
     "name": "stderr",
     "output_type": "stream",
     "text": [
      "\n",
      "\n",
      "\n",
      "t:  27%|██▋       | 500/1830 [00:32<01:26, 15.30it/s, now=None]\u001b[A\u001b[A\u001b[A\n",
      "\n",
      "\n",
      "t:  27%|██▋       | 502/1830 [00:33<01:27, 15.11it/s, now=None]"
     ]
    },
    {
     "name": "stdout",
     "output_type": "stream",
     "text": [
      "5\n",
      "5\n",
      "5\n",
      "5\n",
      "5\n",
      "5\n",
      "5\n",
      "5\n"
     ]
    },
    {
     "name": "stderr",
     "output_type": "stream",
     "text": [
      "\u001b[A\u001b[A\u001b[A\n",
      "\n",
      "\n",
      "t:  28%|██▊       | 504/1830 [00:33<01:25, 15.45it/s, now=None]\u001b[A\u001b[A\u001b[A\n",
      "\n",
      "\n",
      "t:  28%|██▊       | 506/1830 [00:33<01:25, 15.44it/s, now=None]\u001b[A\u001b[A\u001b[A"
     ]
    },
    {
     "name": "stdout",
     "output_type": "stream",
     "text": [
      "5\n",
      "5\n",
      "5\n",
      "5\n",
      "5\n",
      "5\n",
      "5\n",
      "5\n"
     ]
    },
    {
     "name": "stderr",
     "output_type": "stream",
     "text": [
      "\n",
      "\n",
      "\n",
      "t:  28%|██▊       | 508/1830 [00:33<01:26, 15.27it/s, now=None]\u001b[A\u001b[A\u001b[A"
     ]
    },
    {
     "name": "stdout",
     "output_type": "stream",
     "text": [
      "5\n",
      "5\n",
      "5\n",
      "5\n",
      "5\n",
      "5\n"
     ]
    },
    {
     "name": "stderr",
     "output_type": "stream",
     "text": [
      "\n",
      "\n",
      "\n",
      "t:  28%|██▊       | 510/1830 [00:33<01:36, 13.68it/s, now=None]\u001b[A\u001b[A\u001b[A\n",
      "\n",
      "\n",
      "t:  28%|██▊       | 512/1830 [00:33<01:31, 14.43it/s, now=None]\u001b[A\u001b[A\u001b[A"
     ]
    },
    {
     "name": "stdout",
     "output_type": "stream",
     "text": [
      "5\n",
      "5\n",
      "5\n",
      "5\n",
      "5\n",
      "5\n"
     ]
    },
    {
     "name": "stderr",
     "output_type": "stream",
     "text": [
      "\n",
      "\n",
      "\n",
      "t:  28%|██▊       | 514/1830 [00:33<01:34, 13.94it/s, now=None]\u001b[A\u001b[A\u001b[A\n",
      "\n",
      "\n",
      "t:  28%|██▊       | 516/1830 [00:34<01:29, 14.71it/s, now=None]\u001b[A\u001b[A\u001b[A"
     ]
    },
    {
     "name": "stdout",
     "output_type": "stream",
     "text": [
      "5\n",
      "5\n",
      "5\n",
      "5\n",
      "5\n",
      "5\n",
      "5\n",
      "5\n"
     ]
    },
    {
     "name": "stderr",
     "output_type": "stream",
     "text": [
      "\n",
      "\n",
      "\n",
      "t:  28%|██▊       | 518/1830 [00:34<01:32, 14.15it/s, now=None]\u001b[A\u001b[A\u001b[A\n",
      "\n",
      "\n",
      "t:  28%|██▊       | 520/1830 [00:34<01:25, 15.34it/s, now=None]\u001b[A\u001b[A\u001b[A"
     ]
    },
    {
     "name": "stdout",
     "output_type": "stream",
     "text": [
      "5\n",
      "5\n",
      "5\n",
      "5\n",
      "5\n",
      "5\n",
      "5\n",
      "5\n"
     ]
    },
    {
     "name": "stderr",
     "output_type": "stream",
     "text": [
      "\n",
      "\n",
      "\n",
      "t:  29%|██▊       | 522/1830 [00:34<01:34, 13.90it/s, now=None]\u001b[A\u001b[A\u001b[A\n",
      "\n",
      "\n",
      "t:  29%|██▊       | 524/1830 [00:34<01:26, 15.15it/s, now=None]\u001b[A\u001b[A\u001b[A"
     ]
    },
    {
     "name": "stdout",
     "output_type": "stream",
     "text": [
      "5\n",
      "5\n",
      "5\n",
      "5\n",
      "5\n",
      "5\n",
      "5\n",
      "5\n"
     ]
    },
    {
     "name": "stderr",
     "output_type": "stream",
     "text": [
      "\n",
      "\n",
      "\n",
      "t:  29%|██▊       | 526/1830 [00:34<01:20, 16.14it/s, now=None]\u001b[A\u001b[A\u001b[A\n",
      "\n",
      "\n",
      "t:  29%|██▉       | 528/1830 [00:34<01:16, 16.94it/s, now=None]\u001b[A\u001b[A\u001b[A"
     ]
    },
    {
     "name": "stdout",
     "output_type": "stream",
     "text": [
      "5\n",
      "5\n",
      "5\n",
      "5\n",
      "5\n",
      "5\n",
      "5\n",
      "5\n"
     ]
    },
    {
     "name": "stderr",
     "output_type": "stream",
     "text": [
      "\n",
      "\n",
      "\n",
      "t:  29%|██▉       | 530/1830 [00:34<01:27, 14.85it/s, now=None]\u001b[A\u001b[A\u001b[A\n",
      "\n",
      "\n",
      "t:  29%|██▉       | 532/1830 [00:35<01:22, 15.64it/s, now=None]\u001b[A\u001b[A\u001b[A"
     ]
    },
    {
     "name": "stdout",
     "output_type": "stream",
     "text": [
      "5\n",
      "5\n",
      "5\n",
      "5\n",
      "5\n",
      "5\n",
      "5\n",
      "1\n"
     ]
    },
    {
     "name": "stderr",
     "output_type": "stream",
     "text": [
      "\n",
      "\n",
      "\n",
      "t:  29%|██▉       | 534/1830 [00:35<01:24, 15.40it/s, now=None]\u001b[A\u001b[A\u001b[A\n",
      "\n",
      "\n",
      "t:  29%|██▉       | 536/1830 [00:35<01:21, 15.92it/s, now=None]\u001b[A\u001b[A\u001b[A"
     ]
    },
    {
     "name": "stdout",
     "output_type": "stream",
     "text": [
      "5\n",
      "5\n",
      "5\n",
      "5\n",
      "5\n",
      "5\n",
      "5\n",
      "5\n"
     ]
    },
    {
     "name": "stderr",
     "output_type": "stream",
     "text": [
      "\n",
      "\n",
      "\n",
      "t:  29%|██▉       | 538/1830 [00:35<01:18, 16.36it/s, now=None]\u001b[A\u001b[A\u001b[A\n",
      "\n",
      "\n",
      "t:  30%|██▉       | 540/1830 [00:35<01:18, 16.48it/s, now=None]\u001b[A\u001b[A\u001b[A"
     ]
    },
    {
     "name": "stdout",
     "output_type": "stream",
     "text": [
      "5\n",
      "5\n",
      "5\n",
      "5\n",
      "5\n",
      "5\n",
      "5\n",
      "5\n"
     ]
    },
    {
     "name": "stderr",
     "output_type": "stream",
     "text": [
      "\n",
      "\n",
      "\n",
      "t:  30%|██▉       | 542/1830 [00:35<01:16, 16.74it/s, now=None]\u001b[A\u001b[A\u001b[A\n",
      "\n",
      "\n",
      "t:  30%|██▉       | 544/1830 [00:35<01:17, 16.66it/s, now=None]\u001b[A\u001b[A\u001b[A"
     ]
    },
    {
     "name": "stdout",
     "output_type": "stream",
     "text": [
      "5\n",
      "5\n",
      "5\n",
      "5\n",
      "5\n",
      "5\n",
      "5\n",
      "5\n"
     ]
    },
    {
     "name": "stderr",
     "output_type": "stream",
     "text": [
      "\n",
      "\n",
      "\n",
      "t:  30%|██▉       | 546/1830 [00:35<01:14, 17.32it/s, now=None]\u001b[A\u001b[A\u001b[A\n",
      "\n",
      "\n",
      "t:  30%|██▉       | 548/1830 [00:36<01:11, 17.92it/s, now=None]\u001b[A\u001b[A\u001b[A"
     ]
    },
    {
     "name": "stdout",
     "output_type": "stream",
     "text": [
      "5\n",
      "5\n",
      "5\n",
      "5\n",
      "5\n",
      "5\n",
      "5\n",
      "5\n"
     ]
    },
    {
     "name": "stderr",
     "output_type": "stream",
     "text": [
      "\n",
      "\n",
      "\n",
      "t:  30%|███       | 550/1830 [00:36<01:12, 17.74it/s, now=None]\u001b[A\u001b[A\u001b[A\n",
      "\n",
      "\n",
      "t:  30%|███       | 553/1830 [00:36<01:06, 19.12it/s, now=None]\u001b[A\u001b[A\u001b[A"
     ]
    },
    {
     "name": "stdout",
     "output_type": "stream",
     "text": [
      "5\n",
      "5\n",
      "5\n",
      "5\n",
      "5\n",
      "5\n",
      "5\n",
      "5\n",
      "5\n",
      "5\n"
     ]
    },
    {
     "name": "stderr",
     "output_type": "stream",
     "text": [
      "\n",
      "\n",
      "\n",
      "t:  30%|███       | 555/1830 [00:36<01:08, 18.74it/s, now=None]\u001b[A\u001b[A\u001b[A\n",
      "\n",
      "\n",
      "t:  30%|███       | 557/1830 [00:36<01:09, 18.39it/s, now=None]\u001b[A\u001b[A\u001b[A"
     ]
    },
    {
     "name": "stdout",
     "output_type": "stream",
     "text": [
      "5\n",
      "5\n",
      "5\n",
      "5\n",
      "5\n",
      "5\n",
      "5\n",
      "5\n"
     ]
    },
    {
     "name": "stderr",
     "output_type": "stream",
     "text": [
      "\n",
      "\n",
      "\n",
      "t:  31%|███       | 560/1830 [00:36<01:08, 18.58it/s, now=None]\u001b[A\u001b[A\u001b[A"
     ]
    },
    {
     "name": "stdout",
     "output_type": "stream",
     "text": [
      "5\n",
      "5\n",
      "5\n",
      "5\n",
      "5\n",
      "5\n",
      "5"
     ]
    },
    {
     "name": "stderr",
     "output_type": "stream",
     "text": [
      "\n",
      "\n",
      "\n",
      "t:  31%|███       | 562/1830 [00:36<01:13, 17.35it/s, now=None]\u001b[A\u001b[A\u001b[A\n",
      "\n",
      "\n",
      "t:  31%|███       | 564/1830 [00:36<01:10, 17.87it/s, now=None]\u001b[A\u001b[A\u001b[A"
     ]
    },
    {
     "name": "stdout",
     "output_type": "stream",
     "text": [
      "\n",
      "5\n",
      "5\n",
      "5\n",
      "5\n",
      "5\n",
      "5\n",
      "5\n",
      "5\n",
      "5\n"
     ]
    },
    {
     "name": "stderr",
     "output_type": "stream",
     "text": [
      "\n",
      "\n",
      "\n",
      "t:  31%|███       | 566/1830 [00:37<01:10, 17.87it/s, now=None]\u001b[A\u001b[A\u001b[A\n",
      "\n",
      "\n",
      "t:  31%|███       | 568/1830 [00:37<01:11, 17.60it/s, now=None]\u001b[A\u001b[A\u001b[A"
     ]
    },
    {
     "name": "stdout",
     "output_type": "stream",
     "text": [
      "5\n",
      "5\n",
      "5\n",
      "5\n",
      "5\n",
      "5\n",
      "5\n",
      "5\n"
     ]
    },
    {
     "name": "stderr",
     "output_type": "stream",
     "text": [
      "\n",
      "\n",
      "\n",
      "t:  31%|███       | 570/1830 [00:37<01:10, 17.77it/s, now=None]\u001b[A\u001b[A\u001b[A\n",
      "\n",
      "\n",
      "t:  31%|███▏      | 572/1830 [00:37<01:10, 17.73it/s, now=None]\u001b[A\u001b[A\u001b[A"
     ]
    },
    {
     "name": "stdout",
     "output_type": "stream",
     "text": [
      "5\n",
      "5\n",
      "5\n",
      "5\n",
      "5\n",
      "5\n",
      "5\n",
      "5\n"
     ]
    },
    {
     "name": "stderr",
     "output_type": "stream",
     "text": [
      "\n",
      "\n",
      "\n",
      "t:  31%|███▏      | 574/1830 [00:37<01:10, 17.91it/s, now=None]\u001b[A\u001b[A\u001b[A\n",
      "\n",
      "\n",
      "t:  31%|███▏      | 576/1830 [00:37<01:09, 18.07it/s, now=None]\u001b[A\u001b[A\u001b[A"
     ]
    },
    {
     "name": "stdout",
     "output_type": "stream",
     "text": [
      "5\n",
      "5\n",
      "5\n",
      "5\n",
      "5\n",
      "5\n",
      "5\n",
      "5\n"
     ]
    },
    {
     "name": "stderr",
     "output_type": "stream",
     "text": [
      "\n",
      "\n",
      "\n",
      "t:  32%|███▏      | 578/1830 [00:37<01:07, 18.43it/s, now=None]\u001b[A\u001b[A\u001b[A\n",
      "\n",
      "\n",
      "t:  32%|███▏      | 580/1830 [00:37<01:10, 17.66it/s, now=None]\u001b[A\u001b[A\u001b[A"
     ]
    },
    {
     "name": "stdout",
     "output_type": "stream",
     "text": [
      "5\n",
      "5\n",
      "5\n",
      "5\n",
      "5\n",
      "5\n",
      "5\n",
      "5\n"
     ]
    },
    {
     "name": "stderr",
     "output_type": "stream",
     "text": [
      "\n",
      "\n",
      "\n",
      "t:  32%|███▏      | 582/1830 [00:37<01:09, 17.84it/s, now=None]\u001b[A\u001b[A\u001b[A\n",
      "\n",
      "\n",
      "t:  32%|███▏      | 584/1830 [00:38<01:09, 17.90it/s, now=None]\u001b[A\u001b[A\u001b[A"
     ]
    },
    {
     "name": "stdout",
     "output_type": "stream",
     "text": [
      "5\n",
      "5\n",
      "5\n",
      "5\n",
      "5\n",
      "5\n",
      "5\n",
      "5\n"
     ]
    },
    {
     "name": "stderr",
     "output_type": "stream",
     "text": [
      "\n",
      "\n",
      "\n",
      "t:  32%|███▏      | 586/1830 [00:38<01:10, 17.65it/s, now=None]\u001b[A\u001b[A\u001b[A\n",
      "\n",
      "\n",
      "t:  32%|███▏      | 588/1830 [00:38<01:13, 16.87it/s, now=None]\u001b[A\u001b[A\u001b[A"
     ]
    },
    {
     "name": "stdout",
     "output_type": "stream",
     "text": [
      "5\n",
      "5\n",
      "5\n",
      "5\n",
      "5\n",
      "5\n",
      "5\n",
      "5\n"
     ]
    },
    {
     "name": "stderr",
     "output_type": "stream",
     "text": [
      "\n",
      "\n",
      "\n",
      "t:  32%|███▏      | 590/1830 [00:38<01:11, 17.25it/s, now=None]\u001b[A\u001b[A\u001b[A\n",
      "\n",
      "\n",
      "t:  32%|███▏      | 592/1830 [00:38<01:12, 17.07it/s, now=None]\u001b[A\u001b[A\u001b[A"
     ]
    },
    {
     "name": "stdout",
     "output_type": "stream",
     "text": [
      "5\n",
      "5\n",
      "5\n",
      "5\n",
      "5\n",
      "5\n",
      "5\n",
      "5\n"
     ]
    },
    {
     "name": "stderr",
     "output_type": "stream",
     "text": [
      "\n",
      "\n",
      "\n",
      "t:  32%|███▏      | 594/1830 [00:38<01:12, 17.08it/s, now=None]\u001b[A\u001b[A\u001b[A\n",
      "\n",
      "\n",
      "t:  33%|███▎      | 597/1830 [00:38<01:07, 18.36it/s, now=None]\u001b[A\u001b[A\u001b[A"
     ]
    },
    {
     "name": "stdout",
     "output_type": "stream",
     "text": [
      "5\n",
      "5\n",
      "5\n",
      "5\n",
      "5\n",
      "5\n",
      "5\n",
      "5\n",
      "5\n",
      "5\n"
     ]
    },
    {
     "name": "stderr",
     "output_type": "stream",
     "text": [
      "\n",
      "\n",
      "\n",
      "t:  33%|███▎      | 599/1830 [00:38<01:06, 18.58it/s, now=None]\u001b[A\u001b[A\u001b[A\n",
      "\n",
      "\n",
      "t:  33%|███▎      | 601/1830 [00:38<01:04, 18.94it/s, now=None]\u001b[A\u001b[A\u001b[A"
     ]
    },
    {
     "name": "stdout",
     "output_type": "stream",
     "text": [
      "5\n",
      "5\n",
      "5\n",
      "5\n",
      "5\n",
      "5\n",
      "5\n",
      "5\n",
      "5\n",
      "5\n"
     ]
    },
    {
     "name": "stderr",
     "output_type": "stream",
     "text": [
      "\n",
      "\n",
      "\n",
      "t:  33%|███▎      | 603/1830 [00:39<01:04, 18.99it/s, now=None]\u001b[A\u001b[A\u001b[A\n",
      "\n",
      "\n",
      "t:  33%|███▎      | 606/1830 [00:39<01:02, 19.72it/s, now=None]\u001b[A\u001b[A\u001b[A\n",
      "\n",
      "\n"
     ]
    },
    {
     "name": "stdout",
     "output_type": "stream",
     "text": [
      "5\n",
      "5\n",
      "5\n",
      "5\n",
      "5\n",
      "5\n",
      "5\n",
      "5\n",
      "5\n",
      "5\n"
     ]
    },
    {
     "name": "stderr",
     "output_type": "stream",
     "text": [
      "t:  33%|███▎      | 608/1830 [00:39<01:02, 19.42it/s, now=None]\u001b[A\u001b[A\u001b[A\n",
      "\n",
      "\n",
      "t:  33%|███▎      | 611/1830 [00:39<01:01, 19.94it/s, now=None]\u001b[A\u001b[A\u001b[A\n",
      "\n",
      "\n",
      "t:  33%|███▎      | 613/1830 [00:39<01:01, 19.80it/s, now=None]\u001b[A\u001b[A\u001b[A"
     ]
    },
    {
     "name": "stdout",
     "output_type": "stream",
     "text": [
      "5\n",
      "5\n",
      "5\n",
      "5\n",
      "5\n",
      "5\n",
      "5\n",
      "5\n",
      "5\n",
      "5\n"
     ]
    },
    {
     "name": "stderr",
     "output_type": "stream",
     "text": [
      "\n",
      "\n",
      "\n",
      "t:  34%|███▎      | 616/1830 [00:39<01:01, 19.65it/s, now=None]\u001b[A\u001b[A\u001b[A"
     ]
    },
    {
     "name": "stdout",
     "output_type": "stream",
     "text": [
      "5\n",
      "5\n",
      "5\n",
      "5\n",
      "5\n",
      "5\n",
      "5\n",
      "5\n"
     ]
    },
    {
     "name": "stderr",
     "output_type": "stream",
     "text": [
      "\n",
      "\n",
      "\n",
      "t:  34%|███▍      | 618/1830 [00:39<01:03, 19.19it/s, now=None]\u001b[A\u001b[A\u001b[A\n",
      "\n",
      "\n",
      "t:  34%|███▍      | 620/1830 [00:39<01:07, 18.00it/s, now=None]\u001b[A\u001b[A\u001b[A"
     ]
    },
    {
     "name": "stdout",
     "output_type": "stream",
     "text": [
      "5\n",
      "5\n",
      "5\n",
      "5\n",
      "5\n",
      "5\n",
      "5\n",
      "1\n"
     ]
    },
    {
     "name": "stderr",
     "output_type": "stream",
     "text": [
      "\n",
      "\n",
      "\n",
      "t:  34%|███▍      | 622/1830 [00:40<01:05, 18.39it/s, now=None]\u001b[A\u001b[A\u001b[A\n",
      "\n",
      "\n",
      "t:  34%|███▍      | 624/1830 [00:40<01:07, 18.00it/s, now=None]\u001b[A\u001b[A\u001b[A"
     ]
    },
    {
     "name": "stdout",
     "output_type": "stream",
     "text": [
      "5\n",
      "5\n",
      "5\n",
      "5\n",
      "5\n",
      "5\n",
      "5\n",
      "5\n"
     ]
    },
    {
     "name": "stderr",
     "output_type": "stream",
     "text": [
      "\n",
      "\n",
      "\n",
      "t:  34%|███▍      | 626/1830 [00:40<01:05, 18.36it/s, now=None]\u001b[A\u001b[A\u001b[A\n",
      "\n",
      "\n",
      "t:  34%|███▍      | 628/1830 [00:40<01:07, 17.86it/s, now=None]\u001b[A\u001b[A\u001b[A"
     ]
    },
    {
     "name": "stdout",
     "output_type": "stream",
     "text": [
      "5\n",
      "5\n",
      "5\n",
      "5\n",
      "5\n",
      "5\n",
      "5\n",
      "5\n"
     ]
    },
    {
     "name": "stderr",
     "output_type": "stream",
     "text": [
      "\n",
      "\n",
      "\n",
      "t:  34%|███▍      | 630/1830 [00:40<01:05, 18.19it/s, now=None]\u001b[A\u001b[A\u001b[A\n",
      "\n",
      "\n",
      "t:  35%|███▍      | 632/1830 [00:40<01:08, 17.60it/s, now=None]\u001b[A\u001b[A\u001b[A"
     ]
    },
    {
     "name": "stdout",
     "output_type": "stream",
     "text": [
      "5\n",
      "5\n",
      "5\n",
      "5\n",
      "5\n",
      "5\n",
      "5\n",
      "5\n"
     ]
    },
    {
     "name": "stderr",
     "output_type": "stream",
     "text": [
      "\n",
      "\n",
      "\n",
      "t:  35%|███▍      | 634/1830 [00:40<01:07, 17.78it/s, now=None]\u001b[A\u001b[A\u001b[A\n",
      "\n",
      "\n",
      "t:  35%|███▍      | 636/1830 [00:40<01:08, 17.36it/s, now=None]\u001b[A\u001b[A\u001b[A"
     ]
    },
    {
     "name": "stdout",
     "output_type": "stream",
     "text": [
      "5\n",
      "5\n",
      "5\n",
      "5\n",
      "5\n",
      "5\n",
      "5\n",
      "5\n"
     ]
    },
    {
     "name": "stderr",
     "output_type": "stream",
     "text": [
      "\n",
      "\n",
      "\n",
      "t:  35%|███▍      | 638/1830 [00:40<01:08, 17.34it/s, now=None]\u001b[A\u001b[A\u001b[A\n",
      "\n",
      "\n",
      "t:  35%|███▍      | 640/1830 [00:41<01:07, 17.62it/s, now=None]\u001b[A\u001b[A\u001b[A"
     ]
    },
    {
     "name": "stdout",
     "output_type": "stream",
     "text": [
      "5\n",
      "5\n",
      "5\n",
      "5\n",
      "5\n",
      "5\n",
      "5\n",
      "5\n",
      "5"
     ]
    },
    {
     "name": "stderr",
     "output_type": "stream",
     "text": [
      "\n",
      "\n",
      "\n",
      "t:  35%|███▌      | 643/1830 [00:41<01:04, 18.31it/s, now=None]\u001b[A\u001b[A\u001b[A\n",
      "\n",
      "\n",
      "t:  35%|███▌      | 645/1830 [00:41<01:04, 18.37it/s, now=None]\u001b[A\u001b[A\u001b[A"
     ]
    },
    {
     "name": "stdout",
     "output_type": "stream",
     "text": [
      "\n",
      "5\n",
      "5\n",
      "5\n",
      "5\n",
      "5\n",
      "5\n",
      "5\n",
      "5\n",
      "5\n",
      "5"
     ]
    },
    {
     "name": "stderr",
     "output_type": "stream",
     "text": [
      "\n",
      "\n",
      "\n",
      "t:  35%|███▌      | 648/1830 [00:41<01:01, 19.36it/s, now=None]\u001b[A\u001b[A\u001b[A"
     ]
    },
    {
     "name": "stdout",
     "output_type": "stream",
     "text": [
      "\n",
      "5\n",
      "5\n",
      "5\n",
      "5\n",
      "5\n"
     ]
    },
    {
     "name": "stderr",
     "output_type": "stream",
     "text": [
      "\n",
      "\n",
      "\n",
      "t:  36%|███▌      | 650/1830 [00:41<01:11, 16.43it/s, now=None]\u001b[A\u001b[A\u001b[A\n",
      "\n",
      "\n",
      "t:  36%|███▌      | 653/1830 [00:41<01:05, 18.00it/s, now=None]\u001b[A\u001b[A\u001b[A"
     ]
    },
    {
     "name": "stdout",
     "output_type": "stream",
     "text": [
      "5\n",
      "5\n",
      "5\n",
      "5\n",
      "5\n",
      "5\n",
      "5\n",
      "5\n"
     ]
    },
    {
     "name": "stderr",
     "output_type": "stream",
     "text": [
      "\n",
      "\n",
      "\n",
      "t:  36%|███▌      | 655/1830 [00:41<01:07, 17.39it/s, now=None]\u001b[A\u001b[A\u001b[A\n",
      "\n",
      "\n",
      "t:  36%|███▌      | 657/1830 [00:42<01:06, 17.62it/s, now=None]\u001b[A\u001b[A\u001b[A"
     ]
    },
    {
     "name": "stdout",
     "output_type": "stream",
     "text": [
      "5\n",
      "5\n",
      "5\n",
      "5\n",
      "5\n",
      "5\n",
      "5\n",
      "5\n"
     ]
    },
    {
     "name": "stderr",
     "output_type": "stream",
     "text": [
      "\n",
      "\n",
      "\n",
      "t:  36%|███▌      | 659/1830 [00:42<01:05, 17.77it/s, now=None]\u001b[A\u001b[A\u001b[A\n",
      "\n",
      "\n",
      "t:  36%|███▌      | 661/1830 [00:42<01:06, 17.50it/s, now=None]\u001b[A\u001b[A\u001b[A"
     ]
    },
    {
     "name": "stdout",
     "output_type": "stream",
     "text": [
      "5\n",
      "5\n",
      "5\n",
      "5\n",
      "5\n",
      "5\n",
      "5\n",
      "5\n",
      "5"
     ]
    },
    {
     "name": "stderr",
     "output_type": "stream",
     "text": [
      "\n",
      "\n",
      "\n",
      "t:  36%|███▋      | 664/1830 [00:42<01:02, 18.54it/s, now=None]\u001b[A\u001b[A\u001b[A\n",
      "\n",
      "\n",
      "t:  36%|███▋      | 666/1830 [00:42<01:03, 18.23it/s, now=None]\u001b[A\u001b[A\u001b[A"
     ]
    },
    {
     "name": "stdout",
     "output_type": "stream",
     "text": [
      "\n",
      "5\n",
      "5\n",
      "5\n",
      "5\n",
      "5\n",
      "5\n",
      "5\n",
      "5\n",
      "5\n"
     ]
    },
    {
     "name": "stderr",
     "output_type": "stream",
     "text": [
      "\n",
      "\n",
      "\n",
      "t:  37%|███▋      | 668/1830 [00:42<01:04, 17.88it/s, now=None]\u001b[A\u001b[A\u001b[A\n",
      "\n",
      "\n",
      "t:  37%|███▋      | 670/1830 [00:42<01:03, 18.20it/s, now=None]\u001b[A\u001b[A\u001b[A"
     ]
    },
    {
     "name": "stdout",
     "output_type": "stream",
     "text": [
      "5\n",
      "5\n",
      "5\n",
      "5\n",
      "5\n",
      "5\n",
      "5\n",
      "5\n"
     ]
    },
    {
     "name": "stderr",
     "output_type": "stream",
     "text": [
      "\n",
      "\n",
      "\n",
      "t:  37%|███▋      | 672/1830 [00:42<01:02, 18.65it/s, now=None]\u001b[A\u001b[A\u001b[A\n",
      "\n",
      "\n",
      "t:  37%|███▋      | 674/1830 [00:42<01:05, 17.60it/s, now=None]\u001b[A\u001b[A\u001b[A"
     ]
    },
    {
     "name": "stdout",
     "output_type": "stream",
     "text": [
      "5\n",
      "5\n",
      "5\n",
      "5\n",
      "5\n",
      "5\n",
      "5\n",
      "5\n"
     ]
    },
    {
     "name": "stderr",
     "output_type": "stream",
     "text": [
      "\n",
      "\n",
      "\n",
      "t:  37%|███▋      | 676/1830 [00:43<01:04, 18.03it/s, now=None]\u001b[A\u001b[A\u001b[A\n",
      "\n",
      "\n",
      "t:  37%|███▋      | 678/1830 [00:43<01:02, 18.45it/s, now=None]\u001b[A\u001b[A\u001b[A"
     ]
    },
    {
     "name": "stdout",
     "output_type": "stream",
     "text": [
      "5\n",
      "5\n",
      "5\n",
      "5\n",
      "5\n",
      "5\n",
      "5\n",
      "5\n"
     ]
    },
    {
     "name": "stderr",
     "output_type": "stream",
     "text": [
      "\n",
      "\n",
      "\n",
      "t:  37%|███▋      | 681/1830 [00:43<01:01, 18.62it/s, now=None]\u001b[A\u001b[A\u001b[A"
     ]
    },
    {
     "name": "stdout",
     "output_type": "stream",
     "text": [
      "5\n",
      "5\n",
      "5\n",
      "5\n",
      "5\n",
      "5\n",
      "5\n",
      "5\n"
     ]
    },
    {
     "name": "stderr",
     "output_type": "stream",
     "text": [
      "\n",
      "\n",
      "\n",
      "t:  37%|███▋      | 683/1830 [00:43<01:06, 17.20it/s, now=None]\u001b[A\u001b[A\u001b[A\n",
      "\n",
      "\n",
      "t:  37%|███▋      | 685/1830 [00:43<01:05, 17.62it/s, now=None]\u001b[A\u001b[A\u001b[A"
     ]
    },
    {
     "name": "stdout",
     "output_type": "stream",
     "text": [
      "5\n",
      "5\n",
      "5\n",
      "5\n",
      "5\n",
      "5\n",
      "5\n",
      "5\n"
     ]
    },
    {
     "name": "stderr",
     "output_type": "stream",
     "text": [
      "\n",
      "\n",
      "\n",
      "t:  38%|███▊      | 687/1830 [00:43<01:04, 17.82it/s, now=None]\u001b[A\u001b[A\u001b[A\n",
      "\n",
      "\n",
      "t:  38%|███▊      | 689/1830 [00:43<01:04, 17.61it/s, now=None]\u001b[A\u001b[A\u001b[A"
     ]
    },
    {
     "name": "stdout",
     "output_type": "stream",
     "text": [
      "5\n",
      "5\n",
      "5\n",
      "5\n",
      "5\n",
      "5\n",
      "5\n",
      "5\n"
     ]
    },
    {
     "name": "stderr",
     "output_type": "stream",
     "text": [
      "\n",
      "\n",
      "\n",
      "t:  38%|███▊      | 691/1830 [00:43<01:04, 17.73it/s, now=None]\u001b[A\u001b[A\u001b[A\n",
      "\n",
      "\n",
      "t:  38%|███▊      | 693/1830 [00:44<01:04, 17.73it/s, now=None]\u001b[A\u001b[A\u001b[A"
     ]
    },
    {
     "name": "stdout",
     "output_type": "stream",
     "text": [
      "5\n",
      "5\n",
      "5\n",
      "5\n",
      "5\n",
      "5\n",
      "5\n",
      "5\n"
     ]
    },
    {
     "name": "stderr",
     "output_type": "stream",
     "text": [
      "\n",
      "\n",
      "\n",
      "t:  38%|███▊      | 695/1830 [00:44<01:03, 18.01it/s, now=None]\u001b[A\u001b[A\u001b[A\n",
      "\n",
      "\n",
      "t:  38%|███▊      | 697/1830 [00:44<01:02, 18.19it/s, now=None]\u001b[A\u001b[A\u001b[A"
     ]
    },
    {
     "name": "stdout",
     "output_type": "stream",
     "text": [
      "5\n",
      "5\n",
      "5\n",
      "5\n",
      "5\n",
      "5\n",
      "5\n",
      "5\n"
     ]
    },
    {
     "name": "stderr",
     "output_type": "stream",
     "text": [
      "\n",
      "\n",
      "\n",
      "t:  38%|███▊      | 699/1830 [00:44<01:04, 17.62it/s, now=None]\u001b[A\u001b[A\u001b[A\n",
      "\n",
      "\n",
      "t:  38%|███▊      | 701/1830 [00:44<01:04, 17.57it/s, now=None]\u001b[A\u001b[A\u001b[A"
     ]
    },
    {
     "name": "stdout",
     "output_type": "stream",
     "text": [
      "5\n",
      "5\n",
      "5\n",
      "5\n",
      "5\n",
      "5\n",
      "5\n",
      "5\n"
     ]
    },
    {
     "name": "stderr",
     "output_type": "stream",
     "text": [
      "\n",
      "\n",
      "\n",
      "t:  38%|███▊      | 703/1830 [00:44<01:03, 17.67it/s, now=None]\u001b[A\u001b[A\u001b[A\n",
      "\n",
      "\n",
      "t:  39%|███▊      | 705/1830 [00:44<01:03, 17.70it/s, now=None]\u001b[A\u001b[A\u001b[A"
     ]
    },
    {
     "name": "stdout",
     "output_type": "stream",
     "text": [
      "5\n",
      "5\n",
      "5\n",
      "5\n",
      "5\n",
      "5\n",
      "5\n",
      "5\n"
     ]
    },
    {
     "name": "stderr",
     "output_type": "stream",
     "text": [
      "\n",
      "\n",
      "\n",
      "t:  39%|███▊      | 707/1830 [00:44<01:02, 17.94it/s, now=None]\u001b[A\u001b[A\u001b[A\n",
      "\n",
      "\n",
      "t:  39%|███▊      | 709/1830 [00:44<01:02, 17.89it/s, now=None]\u001b[A\u001b[A\u001b[A"
     ]
    },
    {
     "name": "stdout",
     "output_type": "stream",
     "text": [
      "5\n",
      "5\n",
      "5\n",
      "5\n",
      "5\n",
      "5\n"
     ]
    },
    {
     "name": "stderr",
     "output_type": "stream",
     "text": [
      "\n",
      "\n",
      "\n",
      "t:  39%|███▉      | 711/1830 [00:45<01:09, 16.06it/s, now=None]\u001b[A\u001b[A\u001b[A\n",
      "\n",
      "\n",
      "t:  39%|███▉      | 713/1830 [00:45<01:06, 16.69it/s, now=None]\u001b[A\u001b[A\u001b[A"
     ]
    },
    {
     "name": "stdout",
     "output_type": "stream",
     "text": [
      "5\n",
      "5\n",
      "5\n",
      "5\n",
      "5\n",
      "5\n",
      "5\n",
      "5\n"
     ]
    },
    {
     "name": "stderr",
     "output_type": "stream",
     "text": [
      "\n",
      "\n",
      "\n",
      "t:  39%|███▉      | 715/1830 [00:45<01:03, 17.50it/s, now=None]\u001b[A\u001b[A\u001b[A\n",
      "\n",
      "\n",
      "t:  39%|███▉      | 717/1830 [00:45<01:04, 17.29it/s, now=None]\u001b[A\u001b[A\u001b[A"
     ]
    },
    {
     "name": "stdout",
     "output_type": "stream",
     "text": [
      "5\n",
      "5\n",
      "5\n",
      "5\n",
      "5\n",
      "5\n",
      "5\n",
      "5\n"
     ]
    },
    {
     "name": "stderr",
     "output_type": "stream",
     "text": [
      "\n",
      "\n",
      "\n",
      "t:  39%|███▉      | 719/1830 [00:45<01:04, 17.16it/s, now=None]\u001b[A\u001b[A\u001b[A\n",
      "\n",
      "\n",
      "t:  39%|███▉      | 721/1830 [00:45<01:05, 17.05it/s, now=None]\u001b[A\u001b[A\u001b[A"
     ]
    },
    {
     "name": "stdout",
     "output_type": "stream",
     "text": [
      "5\n",
      "5\n",
      "5\n",
      "5\n",
      "5\n",
      "5\n",
      "5\n",
      "5\n"
     ]
    },
    {
     "name": "stderr",
     "output_type": "stream",
     "text": [
      "\n",
      "\n",
      "\n",
      "t:  40%|███▉      | 723/1830 [00:45<01:07, 16.42it/s, now=None]\u001b[A\u001b[A\u001b[A\n",
      "\n",
      "\n",
      "t:  40%|███▉      | 725/1830 [00:45<01:06, 16.74it/s, now=None]\u001b[A\u001b[A\u001b[A"
     ]
    },
    {
     "name": "stdout",
     "output_type": "stream",
     "text": [
      "5\n",
      "5\n",
      "5\n",
      "5\n",
      "5\n",
      "5\n",
      "5\n",
      "5\n"
     ]
    },
    {
     "name": "stderr",
     "output_type": "stream",
     "text": [
      "\n",
      "\n",
      "\n",
      "t:  40%|███▉      | 727/1830 [00:46<01:04, 16.97it/s, now=None]\u001b[A\u001b[A\u001b[A\n",
      "\n",
      "\n",
      "t:  40%|███▉      | 729/1830 [00:46<01:06, 16.55it/s, now=None]\u001b[A\u001b[A\u001b[A"
     ]
    },
    {
     "name": "stdout",
     "output_type": "stream",
     "text": [
      "5\n",
      "5\n",
      "5\n",
      "5\n",
      "5\n",
      "5\n",
      "5\n",
      "5\n"
     ]
    },
    {
     "name": "stderr",
     "output_type": "stream",
     "text": [
      "\n",
      "\n",
      "\n",
      "t:  40%|███▉      | 731/1830 [00:46<01:03, 17.26it/s, now=None]\u001b[A\u001b[A\u001b[A\n",
      "\n",
      "\n",
      "t:  40%|████      | 733/1830 [00:46<01:04, 17.09it/s, now=None]\u001b[A\u001b[A\u001b[A"
     ]
    },
    {
     "name": "stdout",
     "output_type": "stream",
     "text": [
      "5\n",
      "5\n",
      "5\n",
      "5\n",
      "5\n",
      "5\n",
      "5\n",
      "5\n"
     ]
    },
    {
     "name": "stderr",
     "output_type": "stream",
     "text": [
      "\n",
      "\n",
      "\n",
      "t:  40%|████      | 735/1830 [00:46<01:03, 17.12it/s, now=None]\u001b[A\u001b[A\u001b[A\n",
      "\n",
      "\n",
      "t:  40%|████      | 737/1830 [00:46<01:03, 17.23it/s, now=None]\u001b[A\u001b[A\u001b[A"
     ]
    },
    {
     "name": "stdout",
     "output_type": "stream",
     "text": [
      "5\n",
      "5\n",
      "5\n",
      "5\n",
      "5\n",
      "5\n",
      "5\n",
      "5\n"
     ]
    },
    {
     "name": "stderr",
     "output_type": "stream",
     "text": [
      "\n",
      "\n",
      "\n",
      "t:  40%|████      | 739/1830 [00:46<01:03, 17.12it/s, now=None]\u001b[A\u001b[A\u001b[A\n",
      "\n",
      "\n",
      "t:  40%|████      | 741/1830 [00:46<01:06, 16.50it/s, now=None]\u001b[A\u001b[A\u001b[A"
     ]
    },
    {
     "name": "stdout",
     "output_type": "stream",
     "text": [
      "5\n",
      "5\n",
      "5\n",
      "5\n",
      "5\n",
      "5\n",
      "5\n",
      "5\n"
     ]
    },
    {
     "name": "stderr",
     "output_type": "stream",
     "text": [
      "\n",
      "\n",
      "\n",
      "t:  41%|████      | 743/1830 [00:46<01:04, 16.78it/s, now=None]\u001b[A\u001b[A\u001b[A\n",
      "\n",
      "\n",
      "t:  41%|████      | 745/1830 [00:47<01:03, 17.08it/s, now=None]\u001b[A\u001b[A\u001b[A"
     ]
    },
    {
     "name": "stdout",
     "output_type": "stream",
     "text": [
      "5\n",
      "5\n",
      "5\n",
      "5\n",
      "5\n",
      "5\n",
      "5\n",
      "5\n"
     ]
    },
    {
     "name": "stderr",
     "output_type": "stream",
     "text": [
      "\n",
      "\n",
      "\n",
      "t:  41%|████      | 747/1830 [00:47<01:03, 17.05it/s, now=None]\u001b[A\u001b[A\u001b[A\n",
      "\n",
      "\n",
      "t:  41%|████      | 749/1830 [00:47<01:01, 17.65it/s, now=None]\u001b[A\u001b[A\u001b[A"
     ]
    },
    {
     "name": "stdout",
     "output_type": "stream",
     "text": [
      "5\n",
      "5\n",
      "5\n",
      "5\n",
      "5\n",
      "5\n",
      "5\n",
      "5\n"
     ]
    },
    {
     "name": "stderr",
     "output_type": "stream",
     "text": [
      "\n",
      "\n",
      "\n",
      "t:  41%|████      | 751/1830 [00:47<01:02, 17.34it/s, now=None]\u001b[A\u001b[A\u001b[A\n",
      "\n",
      "\n",
      "t:  41%|████      | 753/1830 [00:47<01:01, 17.65it/s, now=None]\u001b[A\u001b[A\u001b[A"
     ]
    },
    {
     "name": "stdout",
     "output_type": "stream",
     "text": [
      "5\n",
      "5\n",
      "5\n",
      "5\n",
      "5\n",
      "5\n",
      "5\n",
      "5\n"
     ]
    },
    {
     "name": "stderr",
     "output_type": "stream",
     "text": [
      "\n",
      "\n",
      "\n",
      "t:  41%|████▏     | 755/1830 [00:47<01:01, 17.34it/s, now=None]\u001b[A\u001b[A\u001b[A\n",
      "\n",
      "\n",
      "t:  41%|████▏     | 757/1830 [00:47<00:59, 17.92it/s, now=None]\u001b[A\u001b[A\u001b[A"
     ]
    },
    {
     "name": "stdout",
     "output_type": "stream",
     "text": [
      "5\n",
      "5\n",
      "5\n",
      "5\n",
      "5\n",
      "5\n",
      "5\n",
      "5\n"
     ]
    },
    {
     "name": "stderr",
     "output_type": "stream",
     "text": [
      "\n",
      "\n",
      "\n",
      "t:  41%|████▏     | 759/1830 [00:47<01:01, 17.29it/s, now=None]\u001b[A\u001b[A\u001b[A\n",
      "\n",
      "\n",
      "t:  42%|████▏     | 761/1830 [00:48<01:04, 16.47it/s, now=None]\u001b[A\u001b[A\u001b[A"
     ]
    },
    {
     "name": "stdout",
     "output_type": "stream",
     "text": [
      "5\n",
      "5\n",
      "5\n",
      "5\n",
      "5\n",
      "5\n",
      "5\n",
      "5\n"
     ]
    },
    {
     "name": "stderr",
     "output_type": "stream",
     "text": [
      "\n",
      "\n",
      "\n",
      "t:  42%|████▏     | 764/1830 [00:48<00:59, 17.99it/s, now=None]\u001b[A\u001b[A\u001b[A"
     ]
    },
    {
     "name": "stdout",
     "output_type": "stream",
     "text": [
      "5\n",
      "5\n",
      "5\n",
      "5\n",
      "5\n",
      "5\n",
      "5\n",
      "5\n"
     ]
    },
    {
     "name": "stderr",
     "output_type": "stream",
     "text": [
      "\n",
      "\n",
      "\n",
      "t:  42%|████▏     | 766/1830 [00:48<01:01, 17.30it/s, now=None]\u001b[A\u001b[A\u001b[A\n",
      "\n",
      "\n",
      "t:  42%|████▏     | 768/1830 [00:48<01:04, 16.47it/s, now=None]\u001b[A\u001b[A\u001b[A"
     ]
    },
    {
     "name": "stdout",
     "output_type": "stream",
     "text": [
      "5\n",
      "5\n",
      "5\n",
      "5\n",
      "5\n",
      "5\n",
      "5"
     ]
    },
    {
     "name": "stderr",
     "output_type": "stream",
     "text": [
      "\n",
      "\n",
      "\n",
      "t:  42%|████▏     | 770/1830 [00:48<01:03, 16.68it/s, now=None]\u001b[A\u001b[A\u001b[A\n",
      "\n",
      "\n",
      "t:  42%|████▏     | 772/1830 [00:48<01:05, 16.11it/s, now=None]\u001b[A\u001b[A\u001b[A"
     ]
    },
    {
     "name": "stdout",
     "output_type": "stream",
     "text": [
      "\n",
      "5\n",
      "5\n",
      "5\n",
      "5\n",
      "5\n",
      "5\n",
      "5\n"
     ]
    },
    {
     "name": "stderr",
     "output_type": "stream",
     "text": [
      "\n",
      "\n",
      "\n",
      "t:  42%|████▏     | 774/1830 [00:48<01:02, 16.91it/s, now=None]\u001b[A\u001b[A\u001b[A\n",
      "\n",
      "\n",
      "t:  42%|████▏     | 776/1830 [00:48<01:02, 16.85it/s, now=None]\u001b[A\u001b[A\u001b[A"
     ]
    },
    {
     "name": "stdout",
     "output_type": "stream",
     "text": [
      "5\n",
      "5\n",
      "5\n",
      "5\n",
      "5\n",
      "5\n",
      "5\n",
      "5\n"
     ]
    },
    {
     "name": "stderr",
     "output_type": "stream",
     "text": [
      "\n",
      "\n",
      "\n",
      "t:  43%|████▎     | 778/1830 [00:49<01:03, 16.49it/s, now=None]\u001b[A\u001b[A\u001b[A"
     ]
    },
    {
     "name": "stdout",
     "output_type": "stream",
     "text": [
      "5\n",
      "5\n",
      "5\n",
      "5\n",
      "5\n",
      "5\n"
     ]
    },
    {
     "name": "stderr",
     "output_type": "stream",
     "text": [
      "\n",
      "\n",
      "\n",
      "t:  43%|████▎     | 780/1830 [00:49<01:09, 15.06it/s, now=None]\u001b[A\u001b[A\u001b[A\n",
      "\n",
      "\n",
      "t:  43%|████▎     | 782/1830 [00:49<01:04, 16.26it/s, now=None]\u001b[A\u001b[A\u001b[A"
     ]
    },
    {
     "name": "stdout",
     "output_type": "stream",
     "text": [
      "5\n",
      "5\n",
      "5\n",
      "5\n",
      "5\n",
      "5\n",
      "5\n",
      "5\n"
     ]
    },
    {
     "name": "stderr",
     "output_type": "stream",
     "text": [
      "\n",
      "\n",
      "\n",
      "t:  43%|████▎     | 784/1830 [00:49<01:11, 14.57it/s, now=None]\u001b[A\u001b[A\u001b[A\n",
      "\n",
      "\n",
      "t:  43%|████▎     | 787/1830 [00:49<01:06, 15.66it/s, now=None]\u001b[A\u001b[A\u001b[A"
     ]
    },
    {
     "name": "stdout",
     "output_type": "stream",
     "text": [
      "5\n",
      "5\n",
      "5\n",
      "5\n",
      "5\n",
      "5\n",
      "5\n",
      "5\n"
     ]
    },
    {
     "name": "stderr",
     "output_type": "stream",
     "text": [
      "\n",
      "\n",
      "\n",
      "t:  43%|████▎     | 789/1830 [00:49<01:05, 15.97it/s, now=None]\u001b[A\u001b[A\u001b[A\n",
      "\n",
      "\n",
      "t:  43%|████▎     | 791/1830 [00:49<01:04, 16.18it/s, now=None]\u001b[A\u001b[A\u001b[A"
     ]
    },
    {
     "name": "stdout",
     "output_type": "stream",
     "text": [
      "5\n",
      "5\n",
      "5\n",
      "5\n",
      "5\n",
      "5\n",
      "5\n",
      "5\n"
     ]
    },
    {
     "name": "stderr",
     "output_type": "stream",
     "text": [
      "\n",
      "\n",
      "\n",
      "t:  43%|████▎     | 793/1830 [00:49<01:04, 16.03it/s, now=None]\u001b[A\u001b[A\u001b[A\n",
      "\n",
      "\n",
      "t:  43%|████▎     | 795/1830 [00:50<01:07, 15.28it/s, now=None]"
     ]
    },
    {
     "name": "stdout",
     "output_type": "stream",
     "text": [
      "5\n",
      "5\n",
      "5\n",
      "5\n",
      "5\n",
      "5\n",
      "5\n",
      "5\n"
     ]
    },
    {
     "name": "stderr",
     "output_type": "stream",
     "text": [
      "\u001b[A\u001b[A\u001b[A\n",
      "\n",
      "\n",
      "t:  44%|████▎     | 797/1830 [00:50<01:05, 15.73it/s, now=None]\u001b[A\u001b[A\u001b[A\n",
      "\n",
      "\n",
      "t:  44%|████▎     | 799/1830 [00:50<01:04, 15.91it/s, now=None]\u001b[A\u001b[A\u001b[A"
     ]
    },
    {
     "name": "stdout",
     "output_type": "stream",
     "text": [
      "5\n",
      "5\n",
      "5\n",
      "5\n",
      "5\n",
      "5\n",
      "5\n",
      "5\n"
     ]
    },
    {
     "name": "stderr",
     "output_type": "stream",
     "text": [
      "\n",
      "\n",
      "\n",
      "t:  44%|████▍     | 801/1830 [00:50<01:01, 16.69it/s, now=None]\u001b[A\u001b[A\u001b[A\n",
      "\n",
      "\n",
      "t:  44%|████▍     | 804/1830 [00:50<00:55, 18.35it/s, now=None]\u001b[A\u001b[A\u001b[A"
     ]
    },
    {
     "name": "stdout",
     "output_type": "stream",
     "text": [
      "5\n",
      "5\n",
      "5\n",
      "5\n",
      "5\n",
      "5\n",
      "5\n",
      "5\n",
      "5\n",
      "5\n"
     ]
    },
    {
     "name": "stderr",
     "output_type": "stream",
     "text": [
      "\n",
      "\n",
      "\n",
      "t:  44%|████▍     | 806/1830 [00:50<00:57, 17.78it/s, now=None]\u001b[A\u001b[A\u001b[A\n",
      "\n",
      "\n",
      "t:  44%|████▍     | 808/1830 [00:50<00:56, 18.21it/s, now=None]\u001b[A\u001b[A\u001b[A"
     ]
    },
    {
     "name": "stdout",
     "output_type": "stream",
     "text": [
      "5\n",
      "5\n",
      "5\n",
      "5\n",
      "5\n",
      "5\n",
      "5\n",
      "5\n"
     ]
    },
    {
     "name": "stderr",
     "output_type": "stream",
     "text": [
      "\n",
      "\n",
      "\n",
      "t:  44%|████▍     | 810/1830 [00:50<00:58, 17.50it/s, now=None]\u001b[A\u001b[A\u001b[A\n",
      "\n",
      "\n",
      "t:  44%|████▍     | 812/1830 [00:51<00:57, 17.62it/s, now=None]\u001b[A\u001b[A\u001b[A"
     ]
    },
    {
     "name": "stdout",
     "output_type": "stream",
     "text": [
      "5\n",
      "5\n",
      "5\n",
      "5\n",
      "5\n",
      "5\n",
      "5\n",
      "5\n"
     ]
    },
    {
     "name": "stderr",
     "output_type": "stream",
     "text": [
      "\n",
      "\n",
      "\n",
      "t:  44%|████▍     | 814/1830 [00:51<00:59, 17.19it/s, now=None]\u001b[A\u001b[A\u001b[A\n",
      "\n",
      "\n",
      "t:  45%|████▍     | 816/1830 [00:51<00:57, 17.78it/s, now=None]\u001b[A\u001b[A\u001b[A"
     ]
    },
    {
     "name": "stdout",
     "output_type": "stream",
     "text": [
      "5\n",
      "5\n",
      "5\n",
      "5\n",
      "5\n",
      "5\n",
      "5\n",
      "5\n"
     ]
    },
    {
     "name": "stderr",
     "output_type": "stream",
     "text": [
      "\n",
      "\n",
      "\n",
      "t:  45%|████▍     | 818/1830 [00:51<00:58, 17.29it/s, now=None]\u001b[A\u001b[A\u001b[A\n",
      "\n",
      "\n",
      "t:  45%|████▍     | 820/1830 [00:51<00:56, 17.92it/s, now=None]\u001b[A\u001b[A\u001b[A"
     ]
    },
    {
     "name": "stdout",
     "output_type": "stream",
     "text": [
      "5\n",
      "5\n",
      "5\n",
      "5\n",
      "5\n",
      "5\n",
      "5\n",
      "5\n"
     ]
    },
    {
     "name": "stderr",
     "output_type": "stream",
     "text": [
      "\n",
      "\n",
      "\n",
      "t:  45%|████▍     | 822/1830 [00:51<00:56, 17.73it/s, now=None]\u001b[A\u001b[A\u001b[A\n",
      "\n",
      "\n",
      "t:  45%|████▌     | 824/1830 [00:51<00:55, 18.09it/s, now=None]\u001b[A\u001b[A\u001b[A"
     ]
    },
    {
     "name": "stdout",
     "output_type": "stream",
     "text": [
      "5\n",
      "5\n",
      "5\n",
      "5\n",
      "5\n",
      "5\n",
      "5\n",
      "5\n"
     ]
    },
    {
     "name": "stderr",
     "output_type": "stream",
     "text": [
      "\n",
      "\n",
      "\n",
      "t:  45%|████▌     | 826/1830 [00:51<00:56, 17.76it/s, now=None]\u001b[A\u001b[A\u001b[A\n",
      "\n",
      "\n",
      "t:  45%|████▌     | 828/1830 [00:51<00:57, 17.55it/s, now=None]\u001b[A\u001b[A\u001b[A"
     ]
    },
    {
     "name": "stdout",
     "output_type": "stream",
     "text": [
      "5\n",
      "5\n",
      "5\n",
      "5\n",
      "5\n",
      "5\n",
      "5\n",
      "5\n"
     ]
    },
    {
     "name": "stderr",
     "output_type": "stream",
     "text": [
      "\n",
      "\n",
      "\n",
      "t:  45%|████▌     | 830/1830 [00:52<00:58, 17.17it/s, now=None]\u001b[A\u001b[A\u001b[A\n",
      "\n",
      "\n",
      "t:  45%|████▌     | 832/1830 [00:52<00:57, 17.43it/s, now=None]\u001b[A\u001b[A\u001b[A"
     ]
    },
    {
     "name": "stdout",
     "output_type": "stream",
     "text": [
      "5\n",
      "5\n",
      "5\n",
      "5\n",
      "5\n",
      "5\n",
      "5\n",
      "5\n"
     ]
    },
    {
     "name": "stderr",
     "output_type": "stream",
     "text": [
      "\n",
      "\n",
      "\n",
      "t:  46%|████▌     | 834/1830 [00:52<00:58, 16.89it/s, now=None]\u001b[A\u001b[A\u001b[A\n",
      "\n",
      "\n"
     ]
    },
    {
     "name": "stdout",
     "output_type": "stream",
     "text": [
      "5\n",
      "5\n",
      "5\n",
      "5\n",
      "5\n",
      "5\n",
      "5\n",
      "5\n"
     ]
    },
    {
     "name": "stderr",
     "output_type": "stream",
     "text": [
      "t:  46%|████▌     | 836/1830 [00:52<01:02, 15.85it/s, now=None]\u001b[A\u001b[A\u001b[A\n",
      "\n",
      "\n",
      "t:  46%|████▌     | 838/1830 [00:52<01:03, 15.71it/s, now=None]\u001b[A\u001b[A\u001b[A\n",
      "\n",
      "\n",
      "t:  46%|████▌     | 840/1830 [00:52<00:59, 16.77it/s, now=None]\u001b[A\u001b[A\u001b[A"
     ]
    },
    {
     "name": "stdout",
     "output_type": "stream",
     "text": [
      "5\n",
      "5\n",
      "5\n",
      "5\n",
      "5\n",
      "5\n",
      "5\n",
      "5\n"
     ]
    },
    {
     "name": "stderr",
     "output_type": "stream",
     "text": [
      "\n",
      "\n",
      "\n",
      "t:  46%|████▌     | 842/1830 [00:52<00:59, 16.57it/s, now=None]\u001b[A\u001b[A\u001b[A"
     ]
    },
    {
     "name": "stdout",
     "output_type": "stream",
     "text": [
      "5\n",
      "5\n",
      "5\n",
      "5\n",
      "5\n",
      "5\n",
      "5\n",
      "5\n"
     ]
    },
    {
     "name": "stderr",
     "output_type": "stream",
     "text": [
      "\n",
      "\n",
      "\n",
      "t:  46%|████▌     | 845/1830 [00:52<00:55, 17.64it/s, now=None]\u001b[A\u001b[A\u001b[A\n",
      "\n",
      "\n",
      "t:  46%|████▋     | 847/1830 [00:53<00:56, 17.25it/s, now=None]\u001b[A\u001b[A\u001b[A"
     ]
    },
    {
     "name": "stdout",
     "output_type": "stream",
     "text": [
      "5\n",
      "5\n",
      "5\n",
      "5\n",
      "5\n",
      "5\n",
      "5\n",
      "5\n"
     ]
    },
    {
     "name": "stderr",
     "output_type": "stream",
     "text": [
      "\n",
      "\n",
      "\n",
      "t:  46%|████▋     | 849/1830 [00:53<00:55, 17.81it/s, now=None]\u001b[A\u001b[A\u001b[A\n",
      "\n",
      "\n",
      "t:  47%|████▋     | 851/1830 [00:53<00:54, 17.85it/s, now=None]\u001b[A\u001b[A\u001b[A"
     ]
    },
    {
     "name": "stdout",
     "output_type": "stream",
     "text": [
      "5\n",
      "5\n",
      "5\n",
      "5\n",
      "5\n",
      "5\n",
      "5\n",
      "5\n"
     ]
    },
    {
     "name": "stderr",
     "output_type": "stream",
     "text": [
      "\n",
      "\n",
      "\n",
      "t:  47%|████▋     | 853/1830 [00:53<00:53, 18.35it/s, now=None]\u001b[A\u001b[A\u001b[A\n",
      "\n",
      "\n",
      "t:  47%|████▋     | 855/1830 [00:53<00:53, 18.15it/s, now=None]\u001b[A\u001b[A\u001b[A"
     ]
    },
    {
     "name": "stdout",
     "output_type": "stream",
     "text": [
      "5\n",
      "5\n",
      "1\n",
      "5\n",
      "5\n",
      "5\n",
      "5\n",
      "5\n"
     ]
    },
    {
     "name": "stderr",
     "output_type": "stream",
     "text": [
      "\n",
      "\n",
      "\n",
      "t:  47%|████▋     | 858/1830 [00:53<00:51, 18.93it/s, now=None]\u001b[A\u001b[A\u001b[A"
     ]
    },
    {
     "name": "stdout",
     "output_type": "stream",
     "text": [
      "5\n",
      "5\n",
      "5\n",
      "5\n",
      "5\n",
      "5\n",
      "5\n",
      "5\n"
     ]
    },
    {
     "name": "stderr",
     "output_type": "stream",
     "text": [
      "\n",
      "\n",
      "\n",
      "t:  47%|████▋     | 860/1830 [00:53<00:56, 17.22it/s, now=None]\u001b[A\u001b[A\u001b[A\n",
      "\n",
      "\n",
      "t:  47%|████▋     | 862/1830 [00:53<00:54, 17.87it/s, now=None]\u001b[A\u001b[A\u001b[A\n",
      "\n",
      "\n",
      "t:  47%|████▋     | 864/1830 [00:54<00:53, 18.00it/s, now=None]\u001b[A\u001b[A\u001b[A"
     ]
    },
    {
     "name": "stdout",
     "output_type": "stream",
     "text": [
      "5\n",
      "5\n",
      "5\n",
      "5\n",
      "5\n",
      "5\n",
      "5\n",
      "5\n"
     ]
    },
    {
     "name": "stderr",
     "output_type": "stream",
     "text": [
      "\n",
      "\n",
      "\n",
      "t:  47%|████▋     | 866/1830 [00:54<00:55, 17.46it/s, now=None]\u001b[A\u001b[A\u001b[A\n",
      "\n",
      "\n",
      "t:  47%|████▋     | 869/1830 [00:54<00:50, 19.08it/s, now=None]\u001b[A\u001b[A\u001b[A"
     ]
    },
    {
     "name": "stdout",
     "output_type": "stream",
     "text": [
      "5\n",
      "5\n",
      "5\n",
      "5\n",
      "5\n",
      "5\n",
      "5\n",
      "5\n",
      "5\n",
      "5\n"
     ]
    },
    {
     "name": "stderr",
     "output_type": "stream",
     "text": [
      "\n",
      "\n",
      "\n",
      "t:  48%|████▊     | 871/1830 [00:54<00:54, 17.59it/s, now=None]\u001b[A\u001b[A\u001b[A\n",
      "\n",
      "\n",
      "t:  48%|████▊     | 874/1830 [00:54<00:51, 18.65it/s, now=None]"
     ]
    },
    {
     "name": "stdout",
     "output_type": "stream",
     "text": [
      "5\n",
      "5\n",
      "5\n",
      "5\n",
      "5\n",
      "5\n",
      "5\n",
      "5\n",
      "5\n",
      "5\n"
     ]
    },
    {
     "name": "stderr",
     "output_type": "stream",
     "text": [
      "\u001b[A\u001b[A\u001b[A\n",
      "\n",
      "\n",
      "t:  48%|████▊     | 876/1830 [00:54<00:51, 18.42it/s, now=None]\u001b[A\u001b[A\u001b[A\n",
      "\n",
      "\n",
      "t:  48%|████▊     | 878/1830 [00:54<00:52, 18.10it/s, now=None]\u001b[A\u001b[A\u001b[A"
     ]
    },
    {
     "name": "stdout",
     "output_type": "stream",
     "text": [
      "5\n",
      "5\n",
      "5\n",
      "5\n",
      "5\n",
      "5\n",
      "5\n",
      "5\n"
     ]
    },
    {
     "name": "stderr",
     "output_type": "stream",
     "text": [
      "\n",
      "\n",
      "\n",
      "t:  48%|████▊     | 881/1830 [00:54<00:52, 18.24it/s, now=None]\u001b[A\u001b[A\u001b[A"
     ]
    },
    {
     "name": "stdout",
     "output_type": "stream",
     "text": [
      "5\n",
      "5\n",
      "5\n",
      "5\n",
      "5\n",
      "5\n",
      "5\n",
      "5\n"
     ]
    },
    {
     "name": "stderr",
     "output_type": "stream",
     "text": [
      "\n",
      "\n",
      "\n",
      "t:  48%|████▊     | 883/1830 [00:55<00:55, 17.16it/s, now=None]\u001b[A\u001b[A\u001b[A\n",
      "\n",
      "\n",
      "t:  48%|████▊     | 885/1830 [00:55<00:53, 17.67it/s, now=None]\u001b[A\u001b[A\u001b[A"
     ]
    },
    {
     "name": "stdout",
     "output_type": "stream",
     "text": [
      "5\n",
      "5\n",
      "5\n",
      "5\n",
      "5\n",
      "5\n",
      "5\n",
      "5\n"
     ]
    },
    {
     "name": "stderr",
     "output_type": "stream",
     "text": [
      "\n",
      "\n",
      "\n",
      "t:  48%|████▊     | 887/1830 [00:55<00:52, 17.89it/s, now=None]\u001b[A\u001b[A\u001b[A\n",
      "\n",
      "\n",
      "t:  49%|████▊     | 889/1830 [00:55<00:54, 17.26it/s, now=None]\u001b[A\u001b[A\u001b[A"
     ]
    },
    {
     "name": "stdout",
     "output_type": "stream",
     "text": [
      "5\n",
      "5\n",
      "5\n",
      "5\n",
      "5\n",
      "5\n"
     ]
    },
    {
     "name": "stderr",
     "output_type": "stream",
     "text": [
      "\n",
      "\n",
      "\n",
      "t:  49%|████▊     | 891/1830 [00:55<00:55, 17.02it/s, now=None]\u001b[A\u001b[A\u001b[A\n",
      "\n",
      "\n",
      "t:  49%|████▉     | 893/1830 [00:55<00:54, 17.24it/s, now=None]\u001b[A\u001b[A\u001b[A"
     ]
    },
    {
     "name": "stdout",
     "output_type": "stream",
     "text": [
      "5\n",
      "5\n",
      "5\n",
      "5\n",
      "5\n",
      "5\n",
      "5\n",
      "5\n"
     ]
    },
    {
     "name": "stderr",
     "output_type": "stream",
     "text": [
      "\n",
      "\n",
      "\n",
      "t:  49%|████▉     | 895/1830 [00:55<00:53, 17.53it/s, now=None]\u001b[A\u001b[A\u001b[A\n",
      "\n",
      "\n",
      "t:  49%|████▉     | 897/1830 [00:55<00:52, 17.61it/s, now=None]\u001b[A\u001b[A\u001b[A"
     ]
    },
    {
     "name": "stdout",
     "output_type": "stream",
     "text": [
      "5\n",
      "5\n",
      "5\n",
      "5\n",
      "5\n",
      "5\n",
      "5\n",
      "5\n"
     ]
    },
    {
     "name": "stderr",
     "output_type": "stream",
     "text": [
      "\n",
      "\n",
      "\n",
      "t:  49%|████▉     | 899/1830 [00:56<00:52, 17.70it/s, now=None]\u001b[A\u001b[A\u001b[A\n",
      "\n",
      "\n",
      "t:  49%|████▉     | 901/1830 [00:56<00:52, 17.69it/s, now=None]\u001b[A\u001b[A\u001b[A"
     ]
    },
    {
     "name": "stdout",
     "output_type": "stream",
     "text": [
      "5\n",
      "5\n",
      "5\n",
      "5\n",
      "5\n",
      "5\n",
      "5\n",
      "5\n"
     ]
    },
    {
     "name": "stderr",
     "output_type": "stream",
     "text": [
      "\n",
      "\n",
      "\n",
      "t:  49%|████▉     | 903/1830 [00:56<00:52, 17.63it/s, now=None]\u001b[A\u001b[A\u001b[A\n",
      "\n",
      "\n",
      "t:  49%|████▉     | 905/1830 [00:56<00:52, 17.77it/s, now=None]\u001b[A\u001b[A\u001b[A"
     ]
    },
    {
     "name": "stdout",
     "output_type": "stream",
     "text": [
      "5\n",
      "5\n",
      "5\n",
      "5\n",
      "5\n",
      "5\n",
      "5\n",
      "5\n"
     ]
    },
    {
     "name": "stderr",
     "output_type": "stream",
     "text": [
      "\n",
      "\n",
      "\n",
      "t:  50%|████▉     | 907/1830 [00:56<00:52, 17.71it/s, now=None]\u001b[A\u001b[A\u001b[A\n",
      "\n",
      "\n",
      "t:  50%|████▉     | 909/1830 [00:56<00:51, 17.95it/s, now=None]\u001b[A\u001b[A\u001b[A"
     ]
    },
    {
     "name": "stdout",
     "output_type": "stream",
     "text": [
      "5\n",
      "5\n",
      "5\n",
      "5\n",
      "5\n",
      "5\n",
      "5\n",
      "5\n"
     ]
    },
    {
     "name": "stderr",
     "output_type": "stream",
     "text": [
      "\n",
      "\n",
      "\n",
      "t:  50%|████▉     | 911/1830 [00:56<00:51, 17.88it/s, now=None]\u001b[A\u001b[A\u001b[A\n",
      "\n",
      "\n",
      "t:  50%|████▉     | 913/1830 [00:56<00:51, 17.69it/s, now=None]\u001b[A\u001b[A\u001b[A"
     ]
    },
    {
     "name": "stdout",
     "output_type": "stream",
     "text": [
      "5\n",
      "5\n",
      "5\n",
      "5\n",
      "5\n",
      "5\n",
      "5\n",
      "5\n"
     ]
    },
    {
     "name": "stderr",
     "output_type": "stream",
     "text": [
      "\n",
      "\n",
      "\n",
      "t:  50%|█████     | 915/1830 [00:56<00:50, 17.96it/s, now=None]\u001b[A\u001b[A\u001b[A\n",
      "\n",
      "\n",
      "t:  50%|█████     | 917/1830 [00:57<00:50, 18.14it/s, now=None]\u001b[A\u001b[A\u001b[A"
     ]
    },
    {
     "name": "stdout",
     "output_type": "stream",
     "text": [
      "5\n",
      "5\n",
      "5\n",
      "5\n",
      "5\n",
      "5\n",
      "5\n",
      "5\n"
     ]
    },
    {
     "name": "stderr",
     "output_type": "stream",
     "text": [
      "\n",
      "\n",
      "\n",
      "t:  50%|█████     | 919/1830 [00:57<00:50, 18.01it/s, now=None]\u001b[A\u001b[A\u001b[A\n",
      "\n",
      "\n",
      "t:  50%|█████     | 921/1830 [00:57<00:52, 17.40it/s, now=None]\u001b[A\u001b[A\u001b[A"
     ]
    },
    {
     "name": "stdout",
     "output_type": "stream",
     "text": [
      "5\n",
      "5\n",
      "5\n",
      "5\n",
      "5\n",
      "5\n",
      "5\n",
      "5\n"
     ]
    },
    {
     "name": "stderr",
     "output_type": "stream",
     "text": [
      "\n",
      "\n",
      "\n",
      "t:  50%|█████     | 923/1830 [00:57<00:54, 16.57it/s, now=None]\u001b[A\u001b[A\u001b[A\n",
      "\n",
      "\n",
      "t:  51%|█████     | 925/1830 [00:57<00:52, 17.31it/s, now=None]\u001b[A\u001b[A\u001b[A"
     ]
    },
    {
     "name": "stdout",
     "output_type": "stream",
     "text": [
      "5\n",
      "5\n",
      "5\n",
      "5\n",
      "5\n",
      "5\n",
      "5\n",
      "5\n"
     ]
    },
    {
     "name": "stderr",
     "output_type": "stream",
     "text": [
      "\n",
      "\n",
      "\n",
      "t:  51%|█████     | 927/1830 [00:57<00:52, 17.35it/s, now=None]\u001b[A\u001b[A\u001b[A\n",
      "\n",
      "\n",
      "t:  51%|█████     | 929/1830 [00:57<00:50, 17.69it/s, now=None]\u001b[A\u001b[A\u001b[A"
     ]
    },
    {
     "name": "stdout",
     "output_type": "stream",
     "text": [
      "5\n",
      "5\n",
      "5\n",
      "5\n",
      "5\n",
      "5\n",
      "5\n",
      "5\n"
     ]
    },
    {
     "name": "stderr",
     "output_type": "stream",
     "text": [
      "\n",
      "\n",
      "\n",
      "t:  51%|█████     | 931/1830 [00:57<00:51, 17.44it/s, now=None]\u001b[A\u001b[A\u001b[A"
     ]
    },
    {
     "name": "stdout",
     "output_type": "stream",
     "text": [
      "5\n",
      "5\n",
      "5\n",
      "5\n",
      "5\n",
      "5\n",
      "5\n",
      "5\n",
      "5\n",
      "5\n"
     ]
    },
    {
     "name": "stderr",
     "output_type": "stream",
     "text": [
      "\n",
      "\n",
      "\n",
      "t:  51%|█████     | 934/1830 [00:57<00:48, 18.41it/s, now=None]\u001b[A\u001b[A\u001b[A\n",
      "\n",
      "\n",
      "t:  51%|█████     | 936/1830 [00:58<00:49, 18.15it/s, now=None]\u001b[A\u001b[A\u001b[A\n",
      "\n",
      "\n",
      "t:  51%|█████▏    | 938/1830 [00:58<00:49, 18.06it/s, now=None]\u001b[A\u001b[A\u001b[A"
     ]
    },
    {
     "name": "stdout",
     "output_type": "stream",
     "text": [
      "5\n",
      "5\n",
      "5\n",
      "5\n",
      "5\n",
      "5\n",
      "5\n",
      "5\n"
     ]
    },
    {
     "name": "stderr",
     "output_type": "stream",
     "text": [
      "\n",
      "\n",
      "\n",
      "t:  51%|█████▏    | 940/1830 [00:58<00:49, 18.07it/s, now=None]\u001b[A\u001b[A\u001b[A\n",
      "\n",
      "\n",
      "t:  51%|█████▏    | 942/1830 [00:58<00:52, 17.01it/s, now=None]\u001b[A\u001b[A\u001b[A"
     ]
    },
    {
     "name": "stdout",
     "output_type": "stream",
     "text": [
      "5\n",
      "5\n",
      "5\n",
      "5\n",
      "5\n",
      "5\n",
      "5\n",
      "5\n"
     ]
    },
    {
     "name": "stderr",
     "output_type": "stream",
     "text": [
      "\n",
      "\n",
      "\n",
      "t:  52%|█████▏    | 944/1830 [00:58<00:50, 17.67it/s, now=None]\u001b[A\u001b[A\u001b[A\n",
      "\n",
      "\n",
      "t:  52%|█████▏    | 946/1830 [00:58<00:50, 17.61it/s, now=None]\u001b[A\u001b[A\u001b[A"
     ]
    },
    {
     "name": "stdout",
     "output_type": "stream",
     "text": [
      "5\n",
      "5\n",
      "5\n",
      "5\n",
      "5\n",
      "5\n",
      "5\n",
      "5\n"
     ]
    },
    {
     "name": "stderr",
     "output_type": "stream",
     "text": [
      "\n",
      "\n",
      "\n",
      "t:  52%|█████▏    | 948/1830 [00:58<00:48, 18.23it/s, now=None]\u001b[A\u001b[A\u001b[A\n",
      "\n",
      "\n",
      "t:  52%|█████▏    | 950/1830 [00:58<00:52, 16.84it/s, now=None]"
     ]
    },
    {
     "name": "stdout",
     "output_type": "stream",
     "text": [
      "5\n",
      "5\n",
      "5\n",
      "5\n",
      "5\n",
      "5\n",
      "5\n",
      "5\n"
     ]
    },
    {
     "name": "stderr",
     "output_type": "stream",
     "text": [
      "\u001b[A\u001b[A\u001b[A\n",
      "\n",
      "\n",
      "t:  52%|█████▏    | 952/1830 [00:59<00:50, 17.53it/s, now=None]\u001b[A\u001b[A\u001b[A\n",
      "\n",
      "\n",
      "t:  52%|█████▏    | 954/1830 [00:59<00:52, 16.74it/s, now=None]\u001b[A\u001b[A\u001b[A"
     ]
    },
    {
     "name": "stdout",
     "output_type": "stream",
     "text": [
      "5\n",
      "5\n",
      "5\n",
      "5\n",
      "5\n",
      "5\n",
      "5\n",
      "5\n"
     ]
    },
    {
     "name": "stderr",
     "output_type": "stream",
     "text": [
      "\n",
      "\n",
      "\n",
      "t:  52%|█████▏    | 957/1830 [00:59<00:50, 17.32it/s, now=None]\u001b[A\u001b[A\u001b[A"
     ]
    },
    {
     "name": "stdout",
     "output_type": "stream",
     "text": [
      "5\n",
      "5\n",
      "5\n",
      "5\n",
      "5\n",
      "5\n",
      "5\n",
      "5\n"
     ]
    },
    {
     "name": "stderr",
     "output_type": "stream",
     "text": [
      "\n",
      "\n",
      "\n",
      "t:  52%|█████▏    | 959/1830 [00:59<00:48, 17.84it/s, now=None]\u001b[A\u001b[A\u001b[A\n",
      "\n",
      "\n",
      "t:  53%|█████▎    | 961/1830 [00:59<00:49, 17.54it/s, now=None]\u001b[A\u001b[A\u001b[A"
     ]
    },
    {
     "name": "stdout",
     "output_type": "stream",
     "text": [
      "5\n",
      "5\n",
      "5\n",
      "5\n",
      "5\n",
      "5\n",
      "5\n",
      "5\n"
     ]
    },
    {
     "name": "stderr",
     "output_type": "stream",
     "text": [
      "\n",
      "\n",
      "\n",
      "t:  53%|█████▎    | 963/1830 [00:59<00:50, 17.31it/s, now=None]\u001b[A\u001b[A\u001b[A\n",
      "\n",
      "\n",
      "t:  53%|█████▎    | 965/1830 [00:59<00:50, 17.26it/s, now=None]\u001b[A\u001b[A\u001b[A"
     ]
    },
    {
     "name": "stdout",
     "output_type": "stream",
     "text": [
      "5\n",
      "5\n",
      "5\n",
      "5\n",
      "5\n",
      "5\n",
      "5\n",
      "5\n"
     ]
    },
    {
     "name": "stderr",
     "output_type": "stream",
     "text": [
      "\n",
      "\n",
      "\n",
      "t:  53%|█████▎    | 968/1830 [00:59<00:46, 18.50it/s, now=None]\u001b[A\u001b[A\u001b[A\n",
      "\n",
      "\n",
      "t:  53%|█████▎    | 970/1830 [01:00<00:46, 18.52it/s, now=None]\u001b[A\u001b[A\u001b[A"
     ]
    },
    {
     "name": "stdout",
     "output_type": "stream",
     "text": [
      "5\n",
      "5\n",
      "5\n",
      "5\n",
      "5\n",
      "5\n",
      "5\n",
      "5\n"
     ]
    },
    {
     "name": "stderr",
     "output_type": "stream",
     "text": [
      "\n",
      "\n",
      "\n",
      "t:  53%|█████▎    | 972/1830 [01:00<00:45, 18.68it/s, now=None]\u001b[A\u001b[A\u001b[A\n",
      "\n",
      "\n",
      "t:  53%|█████▎    | 974/1830 [01:00<00:49, 17.45it/s, now=None]\u001b[A\u001b[A\u001b[A"
     ]
    },
    {
     "name": "stdout",
     "output_type": "stream",
     "text": [
      "5\n",
      "5\n",
      "5\n",
      "5\n",
      "5\n",
      "5\n",
      "5\n",
      "5\n"
     ]
    },
    {
     "name": "stderr",
     "output_type": "stream",
     "text": [
      "\n",
      "\n",
      "\n",
      "t:  53%|█████▎    | 976/1830 [01:00<00:47, 17.84it/s, now=None]\u001b[A\u001b[A\u001b[A\n",
      "\n",
      "\n",
      "t:  53%|█████▎    | 978/1830 [01:00<00:47, 17.92it/s, now=None]\u001b[A\u001b[A\u001b[A"
     ]
    },
    {
     "name": "stdout",
     "output_type": "stream",
     "text": [
      "5\n",
      "5\n",
      "5\n",
      "5\n",
      "5\n",
      "5\n",
      "5\n",
      "5\n"
     ]
    },
    {
     "name": "stderr",
     "output_type": "stream",
     "text": [
      "\n",
      "\n",
      "\n",
      "t:  54%|█████▎    | 980/1830 [01:00<00:46, 18.10it/s, now=None]\u001b[A\u001b[A\u001b[A"
     ]
    },
    {
     "name": "stdout",
     "output_type": "stream",
     "text": [
      "5\n",
      "5\n",
      "5\n",
      "5\n",
      "5\n",
      "5\n",
      "5\n",
      "5\n"
     ]
    },
    {
     "name": "stderr",
     "output_type": "stream",
     "text": [
      "\n",
      "\n",
      "\n",
      "t:  54%|█████▎    | 982/1830 [01:00<00:53, 15.98it/s, now=None]\u001b[A\u001b[A\u001b[A\n",
      "\n",
      "\n",
      "t:  54%|█████▍    | 984/1830 [01:00<00:51, 16.34it/s, now=None]\u001b[A\u001b[A\u001b[A\n",
      "\n",
      "\n",
      "t:  54%|█████▍    | 986/1830 [01:00<00:49, 17.05it/s, now=None]\u001b[A\u001b[A\u001b[A"
     ]
    },
    {
     "name": "stdout",
     "output_type": "stream",
     "text": [
      "5\n",
      "5\n",
      "5\n",
      "5\n",
      "5\n",
      "5\n",
      "5\n",
      "5\n"
     ]
    },
    {
     "name": "stderr",
     "output_type": "stream",
     "text": [
      "\n",
      "\n",
      "\n",
      "t:  54%|█████▍    | 988/1830 [01:01<00:49, 17.16it/s, now=None]\u001b[A\u001b[A\u001b[A\n",
      "\n",
      "\n",
      "t:  54%|█████▍    | 990/1830 [01:01<00:49, 17.14it/s, now=None]\u001b[A\u001b[A\u001b[A"
     ]
    },
    {
     "name": "stdout",
     "output_type": "stream",
     "text": [
      "5\n",
      "5\n",
      "5\n",
      "5\n",
      "5\n",
      "5\n",
      "5\n",
      "5\n"
     ]
    },
    {
     "name": "stderr",
     "output_type": "stream",
     "text": [
      "\n",
      "\n",
      "\n",
      "t:  54%|█████▍    | 992/1830 [01:01<00:49, 17.06it/s, now=None]\u001b[A\u001b[A\u001b[A\n",
      "\n",
      "\n",
      "t:  54%|█████▍    | 994/1830 [01:01<00:49, 16.78it/s, now=None]\u001b[A\u001b[A\u001b[A"
     ]
    },
    {
     "name": "stdout",
     "output_type": "stream",
     "text": [
      "5\n",
      "5\n",
      "5\n",
      "5\n",
      "5\n",
      "5\n",
      "5\n",
      "5\n"
     ]
    },
    {
     "name": "stderr",
     "output_type": "stream",
     "text": [
      "\n",
      "\n",
      "\n",
      "t:  54%|█████▍    | 996/1830 [01:01<00:51, 16.32it/s, now=None]\u001b[A\u001b[A\u001b[A\n",
      "\n",
      "\n",
      "t:  55%|█████▍    | 998/1830 [01:01<00:49, 16.88it/s, now=None]\u001b[A\u001b[A\u001b[A"
     ]
    },
    {
     "name": "stdout",
     "output_type": "stream",
     "text": [
      "5\n",
      "5\n",
      "5\n",
      "5\n",
      "5\n",
      "5\n",
      "5\n",
      "5\n"
     ]
    },
    {
     "name": "stderr",
     "output_type": "stream",
     "text": [
      "\n",
      "\n",
      "\n",
      "t:  55%|█████▍    | 1001/1830 [01:01<00:46, 17.91it/s, now=None]\u001b[A\u001b[A\u001b[A"
     ]
    },
    {
     "name": "stdout",
     "output_type": "stream",
     "text": [
      "5\n",
      "5\n",
      "5\n",
      "5\n",
      "5\n",
      "5\n"
     ]
    },
    {
     "name": "stderr",
     "output_type": "stream",
     "text": [
      "\n",
      "\n",
      "\n",
      "t:  55%|█████▍    | 1003/1830 [01:01<00:52, 15.74it/s, now=None]\u001b[A\u001b[A\u001b[A"
     ]
    },
    {
     "name": "stdout",
     "output_type": "stream",
     "text": [
      "5\n",
      "5\n",
      "5\n",
      "5\n",
      "5\n",
      "5\n",
      "5\n",
      "5\n"
     ]
    },
    {
     "name": "stderr",
     "output_type": "stream",
     "text": [
      "\n",
      "\n",
      "\n",
      "t:  55%|█████▍    | 1006/1830 [01:02<00:52, 15.61it/s, now=None]\u001b[A\u001b[A\u001b[A\n",
      "\n",
      "\n",
      "t:  55%|█████▌    | 1008/1830 [01:02<00:49, 16.52it/s, now=None]\u001b[A\u001b[A\u001b[A"
     ]
    },
    {
     "name": "stdout",
     "output_type": "stream",
     "text": [
      "5\n",
      "5\n",
      "5\n",
      "5\n",
      "5\n",
      "5\n",
      "5\n",
      "5\n"
     ]
    },
    {
     "name": "stderr",
     "output_type": "stream",
     "text": [
      "\n",
      "\n",
      "\n",
      "t:  55%|█████▌    | 1010/1830 [01:02<00:52, 15.64it/s, now=None]\u001b[A\u001b[A\u001b[A\n",
      "\n",
      "\n",
      "t:  55%|█████▌    | 1012/1830 [01:02<00:53, 15.38it/s, now=None]\u001b[A\u001b[A\u001b[A"
     ]
    },
    {
     "name": "stdout",
     "output_type": "stream",
     "text": [
      "5\n",
      "5\n",
      "5\n",
      "5\n",
      "5\n",
      "5\n",
      "5\n",
      "5\n"
     ]
    },
    {
     "name": "stderr",
     "output_type": "stream",
     "text": [
      "\n",
      "\n",
      "\n",
      "t:  55%|█████▌    | 1014/1830 [01:02<00:51, 15.82it/s, now=None]\u001b[A\u001b[A\u001b[A\n",
      "\n",
      "\n",
      "t:  56%|█████▌    | 1016/1830 [01:02<00:57, 14.26it/s, now=None]\u001b[A\u001b[A\u001b[A"
     ]
    },
    {
     "name": "stdout",
     "output_type": "stream",
     "text": [
      "5\n",
      "5\n",
      "5\n",
      "5\n",
      "5\n",
      "5\n"
     ]
    },
    {
     "name": "stderr",
     "output_type": "stream",
     "text": [
      "\n",
      "\n",
      "\n",
      "t:  56%|█████▌    | 1018/1830 [01:02<00:54, 14.93it/s, now=None]\u001b[A\u001b[A\u001b[A"
     ]
    },
    {
     "name": "stdout",
     "output_type": "stream",
     "text": [
      "5\n",
      "5\n",
      "5\n",
      "5\n",
      "5\n",
      "5\n"
     ]
    },
    {
     "name": "stderr",
     "output_type": "stream",
     "text": [
      "\n",
      "\n",
      "\n",
      "t:  56%|█████▌    | 1020/1830 [01:03<00:56, 14.39it/s, now=None]\u001b[A\u001b[A\u001b[A\n",
      "\n",
      "\n",
      "t:  56%|█████▌    | 1022/1830 [01:03<00:56, 14.36it/s, now=None]\u001b[A\u001b[A\u001b[A"
     ]
    },
    {
     "name": "stdout",
     "output_type": "stream",
     "text": [
      "5\n",
      "5\n",
      "5\n",
      "5\n",
      "5\n",
      "5\n",
      "5\n",
      "5\n"
     ]
    },
    {
     "name": "stderr",
     "output_type": "stream",
     "text": [
      "\n",
      "\n",
      "\n",
      "t:  56%|█████▌    | 1024/1830 [01:03<00:54, 14.74it/s, now=None]\u001b[A\u001b[A\u001b[A\n",
      "\n",
      "\n",
      "t:  56%|█████▌    | 1026/1830 [01:03<00:56, 14.26it/s, now=None]\u001b[A\u001b[A\u001b[A"
     ]
    },
    {
     "name": "stdout",
     "output_type": "stream",
     "text": [
      "5\n",
      "5\n",
      "5\n",
      "5\n",
      "5\n",
      "5\n"
     ]
    },
    {
     "name": "stderr",
     "output_type": "stream",
     "text": [
      "\n",
      "\n",
      "\n",
      "t:  56%|█████▌    | 1028/1830 [01:03<00:51, 15.59it/s, now=None]\u001b[A\u001b[A\u001b[A\n",
      "\n",
      "\n",
      "t:  56%|█████▋    | 1030/1830 [01:03<00:52, 15.16it/s, now=None]\u001b[A\u001b[A\u001b[A"
     ]
    },
    {
     "name": "stdout",
     "output_type": "stream",
     "text": [
      "5\n",
      "5\n",
      "5\n",
      "5\n",
      "5\n",
      "5\n",
      "5\n",
      "5\n"
     ]
    },
    {
     "name": "stderr",
     "output_type": "stream",
     "text": [
      "\n",
      "\n",
      "\n",
      "t:  56%|█████▋    | 1032/1830 [01:03<00:53, 14.79it/s, now=None]\u001b[A\u001b[A\u001b[A"
     ]
    },
    {
     "name": "stdout",
     "output_type": "stream",
     "text": [
      "5\n",
      "5\n",
      "5\n",
      "5\n",
      "5\n",
      "5\n",
      "5\n",
      "5\n"
     ]
    },
    {
     "name": "stderr",
     "output_type": "stream",
     "text": [
      "\n",
      "\n",
      "\n",
      "t:  57%|█████▋    | 1034/1830 [01:04<00:54, 14.70it/s, now=None]\u001b[A\u001b[A\u001b[A\n",
      "\n",
      "\n",
      "t:  57%|█████▋    | 1036/1830 [01:04<00:52, 15.15it/s, now=None]\u001b[A\u001b[A\u001b[A\n",
      "\n",
      "\n",
      "t:  57%|█████▋    | 1038/1830 [01:04<00:50, 15.73it/s, now=None]\u001b[A\u001b[A\u001b[A"
     ]
    },
    {
     "name": "stdout",
     "output_type": "stream",
     "text": [
      "5\n",
      "5\n",
      "5\n",
      "5\n",
      "5\n",
      "5\n",
      "5\n",
      "5\n"
     ]
    },
    {
     "name": "stderr",
     "output_type": "stream",
     "text": [
      "\n",
      "\n",
      "\n",
      "t:  57%|█████▋    | 1040/1830 [01:04<00:51, 15.33it/s, now=None]\u001b[A\u001b[A\u001b[A"
     ]
    },
    {
     "name": "stdout",
     "output_type": "stream",
     "text": [
      "5\n",
      "5\n",
      "5\n",
      "5\n",
      "5\n",
      "5\n"
     ]
    },
    {
     "name": "stderr",
     "output_type": "stream",
     "text": [
      "\n",
      "\n",
      "\n",
      "t:  57%|█████▋    | 1042/1830 [01:04<00:52, 14.88it/s, now=None]\u001b[A\u001b[A\u001b[A\n",
      "\n",
      "\n",
      "t:  57%|█████▋    | 1044/1830 [01:04<00:50, 15.53it/s, now=None]\u001b[A\u001b[A\u001b[A"
     ]
    },
    {
     "name": "stdout",
     "output_type": "stream",
     "text": [
      "5\n",
      "5\n",
      "5\n",
      "5\n",
      "5\n",
      "5\n",
      "5\n",
      "5\n"
     ]
    },
    {
     "name": "stderr",
     "output_type": "stream",
     "text": [
      "\n",
      "\n",
      "\n",
      "t:  57%|█████▋    | 1046/1830 [01:04<00:48, 16.26it/s, now=None]\u001b[A\u001b[A\u001b[A\n",
      "\n",
      "\n",
      "t:  57%|█████▋    | 1048/1830 [01:04<00:48, 16.25it/s, now=None]\u001b[A\u001b[A\u001b[A"
     ]
    },
    {
     "name": "stdout",
     "output_type": "stream",
     "text": [
      "5\n",
      "5\n",
      "5\n",
      "5\n",
      "5\n",
      "5\n",
      "5\n",
      "5\n"
     ]
    },
    {
     "name": "stderr",
     "output_type": "stream",
     "text": [
      "\n",
      "\n",
      "\n",
      "t:  57%|█████▋    | 1050/1830 [01:05<00:46, 16.88it/s, now=None]\u001b[A\u001b[A\u001b[A\n",
      "\n",
      "\n",
      "t:  57%|█████▋    | 1052/1830 [01:05<00:46, 16.70it/s, now=None]\u001b[A\u001b[A\u001b[A"
     ]
    },
    {
     "name": "stdout",
     "output_type": "stream",
     "text": [
      "5\n",
      "5\n",
      "5\n",
      "5\n",
      "5\n",
      "5\n",
      "5\n",
      "5\n"
     ]
    },
    {
     "name": "stderr",
     "output_type": "stream",
     "text": [
      "\n",
      "\n",
      "\n",
      "t:  58%|█████▊    | 1054/1830 [01:05<00:44, 17.25it/s, now=None]\u001b[A\u001b[A\u001b[A\n",
      "\n",
      "\n",
      "t:  58%|█████▊    | 1056/1830 [01:05<00:45, 16.97it/s, now=None]\u001b[A\u001b[A\u001b[A"
     ]
    },
    {
     "name": "stdout",
     "output_type": "stream",
     "text": [
      "5\n",
      "5\n",
      "5\n",
      "5\n",
      "5\n",
      "5\n",
      "5\n",
      "5\n"
     ]
    },
    {
     "name": "stderr",
     "output_type": "stream",
     "text": [
      "\n",
      "\n",
      "\n",
      "t:  58%|█████▊    | 1058/1830 [01:05<00:45, 16.88it/s, now=None]\u001b[A\u001b[A\u001b[A\n",
      "\n",
      "\n",
      "t:  58%|█████▊    | 1060/1830 [01:05<00:51, 15.04it/s, now=None]\u001b[A\u001b[A\u001b[A"
     ]
    },
    {
     "name": "stdout",
     "output_type": "stream",
     "text": [
      "5\n",
      "5\n",
      "5\n",
      "5\n",
      "5\n",
      "5\n"
     ]
    },
    {
     "name": "stderr",
     "output_type": "stream",
     "text": [
      "\n",
      "\n",
      "\n",
      "t:  58%|█████▊    | 1062/1830 [01:05<00:51, 14.92it/s, now=None]\u001b[A\u001b[A\u001b[A\n",
      "\n",
      "\n"
     ]
    },
    {
     "name": "stdout",
     "output_type": "stream",
     "text": [
      "5\n",
      "5\n",
      "5\n",
      "5\n",
      "5\n",
      "5\n",
      "5\n",
      "5\n"
     ]
    },
    {
     "name": "stderr",
     "output_type": "stream",
     "text": [
      "t:  58%|█████▊    | 1064/1830 [01:05<00:49, 15.63it/s, now=None]\u001b[A\u001b[A\u001b[A\n",
      "\n",
      "\n",
      "t:  58%|█████▊    | 1066/1830 [01:06<00:49, 15.56it/s, now=None]\u001b[A\u001b[A\u001b[A\n",
      "\n",
      "\n",
      "t:  58%|█████▊    | 1068/1830 [01:06<00:46, 16.55it/s, now=None]\u001b[A\u001b[A\u001b[A"
     ]
    },
    {
     "name": "stdout",
     "output_type": "stream",
     "text": [
      "5\n",
      "5\n",
      "5\n",
      "5\n",
      "5\n",
      "5\n",
      "5\n",
      "5\n"
     ]
    },
    {
     "name": "stderr",
     "output_type": "stream",
     "text": [
      "\n",
      "\n",
      "\n",
      "t:  58%|█████▊    | 1070/1830 [01:06<00:46, 16.40it/s, now=None]\u001b[A\u001b[A\u001b[A\n",
      "\n",
      "\n",
      "t:  59%|█████▊    | 1072/1830 [01:06<00:46, 16.46it/s, now=None]"
     ]
    },
    {
     "name": "stdout",
     "output_type": "stream",
     "text": [
      "5\n",
      "5\n",
      "5\n",
      "5\n",
      "5\n",
      "5\n",
      "5\n",
      "5\n"
     ]
    },
    {
     "name": "stderr",
     "output_type": "stream",
     "text": [
      "\u001b[A\u001b[A\u001b[A\n",
      "\n",
      "\n",
      "t:  59%|█████▊    | 1074/1830 [01:06<00:46, 16.14it/s, now=None]\u001b[A\u001b[A\u001b[A\n",
      "\n",
      "\n",
      "t:  59%|█████▉    | 1076/1830 [01:06<00:44, 17.05it/s, now=None]\u001b[A\u001b[A\u001b[A"
     ]
    },
    {
     "name": "stdout",
     "output_type": "stream",
     "text": [
      "5\n",
      "5\n",
      "5\n",
      "5\n",
      "5\n",
      "5\n",
      "5\n",
      "5\n"
     ]
    },
    {
     "name": "stderr",
     "output_type": "stream",
     "text": [
      "\n",
      "\n",
      "\n",
      "t:  59%|█████▉    | 1078/1830 [01:06<00:44, 16.92it/s, now=None]\u001b[A\u001b[A\u001b[A\n",
      "\n",
      "\n",
      "t:  59%|█████▉    | 1081/1830 [01:06<00:40, 18.42it/s, now=None]\u001b[A\u001b[A\u001b[A"
     ]
    },
    {
     "name": "stdout",
     "output_type": "stream",
     "text": [
      "5\n",
      "5\n",
      "5\n",
      "5\n",
      "5\n",
      "5\n",
      "5\n",
      "5\n",
      "5\n",
      "5\n"
     ]
    },
    {
     "name": "stderr",
     "output_type": "stream",
     "text": [
      "\n",
      "\n",
      "\n",
      "t:  59%|█████▉    | 1083/1830 [01:07<00:41, 17.87it/s, now=None]\u001b[A\u001b[A\u001b[A"
     ]
    },
    {
     "name": "stdout",
     "output_type": "stream",
     "text": [
      "5\n",
      "5\n",
      "5\n",
      "5\n",
      "5\n",
      "5\n",
      "5\n",
      "5\n",
      "5"
     ]
    },
    {
     "name": "stderr",
     "output_type": "stream",
     "text": [
      "\n",
      "\n",
      "\n",
      "t:  59%|█████▉    | 1086/1830 [01:07<00:41, 18.11it/s, now=None]\u001b[A\u001b[A\u001b[A\n",
      "\n",
      "\n",
      "t:  60%|█████▉    | 1089/1830 [01:07<00:39, 18.95it/s, now=None]\u001b[A\u001b[A\u001b[A"
     ]
    },
    {
     "name": "stdout",
     "output_type": "stream",
     "text": [
      "\n",
      "5\n",
      "5\n",
      "5\n",
      "5\n",
      "5\n",
      "5\n",
      "5\n"
     ]
    },
    {
     "name": "stderr",
     "output_type": "stream",
     "text": [
      "\n",
      "\n",
      "\n",
      "t:  60%|█████▉    | 1091/1830 [01:07<00:41, 17.85it/s, now=None]\u001b[A\u001b[A\u001b[A"
     ]
    },
    {
     "name": "stdout",
     "output_type": "stream",
     "text": [
      "5\n",
      "5\n",
      "5\n",
      "5\n",
      "5\n",
      "5\n",
      "5\n",
      "5\n"
     ]
    },
    {
     "name": "stderr",
     "output_type": "stream",
     "text": [
      "\n",
      "\n",
      "\n",
      "t:  60%|█████▉    | 1094/1830 [01:07<00:40, 18.24it/s, now=None]\u001b[A\u001b[A\u001b[A\n",
      "\n",
      "\n",
      "t:  60%|█████▉    | 1097/1830 [01:07<00:40, 18.15it/s, now=None]\u001b[A\u001b[A\u001b[A"
     ]
    },
    {
     "name": "stdout",
     "output_type": "stream",
     "text": [
      "5\n",
      "5\n",
      "5\n",
      "5\n",
      "5\n",
      "5\n",
      "5\n",
      "5\n"
     ]
    },
    {
     "name": "stderr",
     "output_type": "stream",
     "text": [
      "\n",
      "\n",
      "\n",
      "t:  60%|██████    | 1099/1830 [01:07<00:44, 16.52it/s, now=None]\u001b[A\u001b[A\u001b[A"
     ]
    },
    {
     "name": "stdout",
     "output_type": "stream",
     "text": [
      "5\n",
      "5\n",
      "5\n",
      "5\n",
      "5\n",
      "5\n",
      "5\n",
      "5\n"
     ]
    },
    {
     "name": "stderr",
     "output_type": "stream",
     "text": [
      "\n",
      "\n",
      "\n",
      "t:  60%|██████    | 1101/1830 [01:08<00:42, 16.96it/s, now=None]\u001b[A\u001b[A\u001b[A\n",
      "\n",
      "\n",
      "t:  60%|██████    | 1103/1830 [01:08<00:41, 17.48it/s, now=None]\u001b[A\u001b[A\u001b[A\n",
      "\n",
      "\n",
      "t:  60%|██████    | 1105/1830 [01:08<00:40, 17.92it/s, now=None]\u001b[A\u001b[A\u001b[A"
     ]
    },
    {
     "name": "stdout",
     "output_type": "stream",
     "text": [
      "5\n",
      "5\n",
      "5\n",
      "5\n",
      "5\n",
      "5\n",
      "5\n",
      "5\n"
     ]
    },
    {
     "name": "stderr",
     "output_type": "stream",
     "text": [
      "\n",
      "\n",
      "\n",
      "t:  60%|██████    | 1107/1830 [01:08<00:42, 17.02it/s, now=None]\u001b[A\u001b[A\u001b[A"
     ]
    },
    {
     "name": "stdout",
     "output_type": "stream",
     "text": [
      "5\n",
      "5\n",
      "5\n",
      "5\n",
      "5\n",
      "5\n",
      "5\n",
      "5\n"
     ]
    },
    {
     "name": "stderr",
     "output_type": "stream",
     "text": [
      "\n",
      "\n",
      "\n",
      "t:  61%|██████    | 1110/1830 [01:08<00:42, 17.12it/s, now=None]\u001b[A\u001b[A\u001b[A\n",
      "\n",
      "\n",
      "t:  61%|██████    | 1113/1830 [01:08<00:38, 18.64it/s, now=None]\u001b[A\u001b[A\u001b[A"
     ]
    },
    {
     "name": "stdout",
     "output_type": "stream",
     "text": [
      "5\n",
      "5\n",
      "5\n",
      "5\n",
      "5\n",
      "5\n",
      "5\n",
      "5\n"
     ]
    },
    {
     "name": "stderr",
     "output_type": "stream",
     "text": [
      "\n",
      "\n",
      "\n",
      "t:  61%|██████    | 1115/1830 [01:08<00:40, 17.82it/s, now=None]\u001b[A\u001b[A\u001b[A\n",
      "\n",
      "\n",
      "t:  61%|██████    | 1117/1830 [01:08<00:39, 18.07it/s, now=None]\u001b[A\u001b[A\u001b[A"
     ]
    },
    {
     "name": "stdout",
     "output_type": "stream",
     "text": [
      "5\n",
      "5\n",
      "5\n",
      "5\n",
      "5\n",
      "5\n",
      "5\n",
      "5\n"
     ]
    },
    {
     "name": "stderr",
     "output_type": "stream",
     "text": [
      "\n",
      "\n",
      "\n",
      "t:  61%|██████    | 1119/1830 [01:09<00:40, 17.72it/s, now=None]\u001b[A\u001b[A\u001b[A"
     ]
    },
    {
     "name": "stdout",
     "output_type": "stream",
     "text": [
      "5\n",
      "5\n",
      "5\n",
      "5\n",
      "5\n",
      "5\n",
      "5\n",
      "5\n"
     ]
    },
    {
     "name": "stderr",
     "output_type": "stream",
     "text": [
      "\n",
      "\n",
      "\n",
      "t:  61%|██████▏   | 1122/1830 [01:09<00:39, 17.71it/s, now=None]\u001b[A\u001b[A\u001b[A\n",
      "\n",
      "\n",
      "t:  61%|██████▏   | 1124/1830 [01:09<00:39, 17.65it/s, now=None]\u001b[A\u001b[A\u001b[A"
     ]
    },
    {
     "name": "stdout",
     "output_type": "stream",
     "text": [
      "5\n",
      "5\n",
      "5\n",
      "5\n",
      "5\n",
      "5\n",
      "5"
     ]
    },
    {
     "name": "stderr",
     "output_type": "stream",
     "text": [
      "\n",
      "\n",
      "\n",
      "t:  62%|██████▏   | 1126/1830 [01:09<00:40, 17.44it/s, now=None]\u001b[A\u001b[A\u001b[A\n",
      "\n",
      "\n",
      "t:  62%|██████▏   | 1128/1830 [01:09<00:39, 17.78it/s, now=None]\u001b[A\u001b[A\u001b[A"
     ]
    },
    {
     "name": "stdout",
     "output_type": "stream",
     "text": [
      "\n",
      "5\n",
      "5\n",
      "5\n",
      "5\n",
      "5\n",
      "5\n",
      "5\n"
     ]
    },
    {
     "name": "stderr",
     "output_type": "stream",
     "text": [
      "\n",
      "\n",
      "\n",
      "t:  62%|██████▏   | 1130/1830 [01:09<00:43, 16.13it/s, now=None]\u001b[A\u001b[A\u001b[A"
     ]
    },
    {
     "name": "stdout",
     "output_type": "stream",
     "text": [
      "5\n",
      "5\n",
      "5\n",
      "5\n",
      "5\n",
      "5\n",
      "5\n",
      "5\n"
     ]
    },
    {
     "name": "stderr",
     "output_type": "stream",
     "text": [
      "\n",
      "\n",
      "\n",
      "t:  62%|██████▏   | 1133/1830 [01:09<00:39, 17.54it/s, now=None]\u001b[A\u001b[A\u001b[A\n",
      "\n",
      "\n",
      "t:  62%|██████▏   | 1135/1830 [01:09<00:40, 17.27it/s, now=None]\u001b[A\u001b[A\u001b[A"
     ]
    },
    {
     "name": "stdout",
     "output_type": "stream",
     "text": [
      "5\n",
      "5\n",
      "5\n",
      "5\n",
      "5\n",
      "5\n",
      "5\n",
      "1\n"
     ]
    },
    {
     "name": "stderr",
     "output_type": "stream",
     "text": [
      "\n",
      "\n",
      "\n",
      "t:  62%|██████▏   | 1137/1830 [01:10<00:39, 17.45it/s, now=None]\u001b[A\u001b[A\u001b[A\n",
      "\n",
      "\n",
      "t:  62%|██████▏   | 1139/1830 [01:10<00:40, 17.22it/s, now=None]\u001b[A\u001b[A\u001b[A"
     ]
    },
    {
     "name": "stdout",
     "output_type": "stream",
     "text": [
      "5\n",
      "5\n",
      "5\n",
      "5\n",
      "5\n",
      "5\n",
      "5\n",
      "5\n"
     ]
    },
    {
     "name": "stderr",
     "output_type": "stream",
     "text": [
      "\n",
      "\n",
      "\n",
      "t:  62%|██████▏   | 1141/1830 [01:10<00:38, 17.77it/s, now=None]\u001b[A\u001b[A\u001b[A\n",
      "\n",
      "\n",
      "t:  62%|██████▏   | 1143/1830 [01:10<00:40, 16.96it/s, now=None]\u001b[A\u001b[A\u001b[A"
     ]
    },
    {
     "name": "stdout",
     "output_type": "stream",
     "text": [
      "5\n",
      "5\n",
      "5\n",
      "5\n",
      "5\n",
      "5\n",
      "5\n",
      "5\n"
     ]
    },
    {
     "name": "stderr",
     "output_type": "stream",
     "text": [
      "\n",
      "\n",
      "\n",
      "t:  63%|██████▎   | 1145/1830 [01:10<00:39, 17.24it/s, now=None]\u001b[A\u001b[A\u001b[A\n",
      "\n",
      "\n",
      "t:  63%|██████▎   | 1147/1830 [01:10<00:42, 16.19it/s, now=None]\u001b[A\u001b[A\u001b[A"
     ]
    },
    {
     "name": "stdout",
     "output_type": "stream",
     "text": [
      "5\n",
      "5\n",
      "5\n",
      "5\n",
      "5\n",
      "5\n"
     ]
    },
    {
     "name": "stderr",
     "output_type": "stream",
     "text": [
      "\n",
      "\n",
      "\n",
      "t:  63%|██████▎   | 1149/1830 [01:10<00:42, 15.93it/s, now=None]\u001b[A\u001b[A\u001b[A\n",
      "\n",
      "\n",
      "t:  63%|██████▎   | 1151/1830 [01:10<00:41, 16.18it/s, now=None]\u001b[A\u001b[A\u001b[A"
     ]
    },
    {
     "name": "stdout",
     "output_type": "stream",
     "text": [
      "5\n",
      "5\n",
      "5\n",
      "5\n",
      "5\n",
      "5\n",
      "5\n",
      "5\n"
     ]
    },
    {
     "name": "stderr",
     "output_type": "stream",
     "text": [
      "\n",
      "\n",
      "\n",
      "t:  63%|██████▎   | 1153/1830 [01:11<00:39, 16.95it/s, now=None]\u001b[A\u001b[A\u001b[A\n",
      "\n",
      "\n",
      "t:  63%|██████▎   | 1155/1830 [01:11<00:39, 16.89it/s, now=None]\u001b[A\u001b[A\u001b[A"
     ]
    },
    {
     "name": "stdout",
     "output_type": "stream",
     "text": [
      "5\n",
      "5\n",
      "5\n",
      "5\n",
      "5\n",
      "1\n",
      "5\n",
      "1\n"
     ]
    },
    {
     "name": "stderr",
     "output_type": "stream",
     "text": [
      "\n",
      "\n",
      "\n",
      "t:  63%|██████▎   | 1158/1830 [01:11<00:38, 17.34it/s, now=None]\u001b[A\u001b[A\u001b[A"
     ]
    },
    {
     "name": "stdout",
     "output_type": "stream",
     "text": [
      "5\n",
      "5\n",
      "5\n",
      "5\n",
      "5\n",
      "5\n"
     ]
    },
    {
     "name": "stderr",
     "output_type": "stream",
     "text": [
      "\n",
      "\n",
      "\n",
      "t:  63%|██████▎   | 1160/1830 [01:11<00:44, 14.95it/s, now=None]\u001b[A\u001b[A\u001b[A\n",
      "\n",
      "\n",
      "t:  63%|██████▎   | 1162/1830 [01:11<00:42, 15.64it/s, now=None]\u001b[A\u001b[A\u001b[A"
     ]
    },
    {
     "name": "stdout",
     "output_type": "stream",
     "text": [
      "5\n",
      "5\n",
      "5\n",
      "5\n",
      "5\n",
      "5\n",
      "5\n",
      "5\n"
     ]
    },
    {
     "name": "stderr",
     "output_type": "stream",
     "text": [
      "\n",
      "\n",
      "\n",
      "t:  64%|██████▎   | 1164/1830 [01:11<00:41, 16.12it/s, now=None]\u001b[A\u001b[A\u001b[A"
     ]
    },
    {
     "name": "stdout",
     "output_type": "stream",
     "text": [
      "5\n",
      "5\n",
      "5\n",
      "5\n",
      "5\n",
      "5\n",
      "5\n",
      "5\n"
     ]
    },
    {
     "name": "stderr",
     "output_type": "stream",
     "text": [
      "\n",
      "\n",
      "\n",
      "t:  64%|██████▎   | 1166/1830 [01:11<00:43, 15.11it/s, now=None]\u001b[A\u001b[A\u001b[A\n",
      "\n",
      "\n",
      "t:  64%|██████▍   | 1168/1830 [01:12<00:41, 15.78it/s, now=None]\u001b[A\u001b[A\u001b[A\n",
      "\n",
      "\n",
      "t:  64%|██████▍   | 1170/1830 [01:12<00:41, 15.83it/s, now=None]\u001b[A\u001b[A\u001b[A"
     ]
    },
    {
     "name": "stdout",
     "output_type": "stream",
     "text": [
      "5\n",
      "5\n",
      "5\n",
      "5\n",
      "5\n",
      "5\n",
      "5\n",
      "5\n"
     ]
    },
    {
     "name": "stderr",
     "output_type": "stream",
     "text": [
      "\n",
      "\n",
      "\n",
      "t:  64%|██████▍   | 1172/1830 [01:12<00:42, 15.45it/s, now=None]\u001b[A\u001b[A\u001b[A\n",
      "\n",
      "\n",
      "t:  64%|██████▍   | 1174/1830 [01:12<00:43, 14.91it/s, now=None]"
     ]
    },
    {
     "name": "stdout",
     "output_type": "stream",
     "text": [
      "5\n",
      "5\n",
      "5\n",
      "5\n",
      "5\n",
      "5\n",
      "5\n",
      "5\n"
     ]
    },
    {
     "name": "stderr",
     "output_type": "stream",
     "text": [
      "\u001b[A\u001b[A\u001b[A\n",
      "\n",
      "\n",
      "t:  64%|██████▍   | 1176/1830 [01:12<00:43, 15.14it/s, now=None]\u001b[A\u001b[A\u001b[A\n",
      "\n",
      "\n",
      "t:  64%|██████▍   | 1178/1830 [01:12<00:43, 14.90it/s, now=None]\u001b[A\u001b[A\u001b[A"
     ]
    },
    {
     "name": "stdout",
     "output_type": "stream",
     "text": [
      "5\n",
      "5\n",
      "5\n",
      "5\n",
      "5\n",
      "5\n",
      "5\n",
      "5\n"
     ]
    },
    {
     "name": "stderr",
     "output_type": "stream",
     "text": [
      "\n",
      "\n",
      "\n",
      "t:  64%|██████▍   | 1180/1830 [01:12<00:43, 14.87it/s, now=None]\u001b[A\u001b[A\u001b[A"
     ]
    },
    {
     "name": "stdout",
     "output_type": "stream",
     "text": [
      "5\n",
      "5\n",
      "5\n",
      "5\n",
      "5\n",
      "5\n",
      "5\n",
      "5\n"
     ]
    },
    {
     "name": "stderr",
     "output_type": "stream",
     "text": [
      "\n",
      "\n",
      "\n",
      "t:  65%|██████▍   | 1182/1830 [01:12<00:44, 14.65it/s, now=None]\u001b[A\u001b[A\u001b[A\n",
      "\n",
      "\n",
      "t:  65%|██████▍   | 1184/1830 [01:13<00:43, 14.73it/s, now=None]\u001b[A\u001b[A\u001b[A"
     ]
    },
    {
     "name": "stdout",
     "output_type": "stream",
     "text": [
      "5\n",
      "5\n",
      "5\n",
      "5\n",
      "5\n",
      "5\n",
      "5\n",
      "5\n"
     ]
    },
    {
     "name": "stderr",
     "output_type": "stream",
     "text": [
      "\n",
      "\n",
      "\n",
      "t:  65%|██████▍   | 1186/1830 [01:13<00:44, 14.34it/s, now=None]\u001b[A\u001b[A\u001b[A\n",
      "\n",
      "\n",
      "t:  65%|██████▍   | 1188/1830 [01:13<00:44, 14.42it/s, now=None]\u001b[A\u001b[A\u001b[A"
     ]
    },
    {
     "name": "stdout",
     "output_type": "stream",
     "text": [
      "5\n",
      "5\n",
      "5\n",
      "5\n",
      "5\n",
      "5\n"
     ]
    },
    {
     "name": "stderr",
     "output_type": "stream",
     "text": [
      "\n",
      "\n",
      "\n",
      "t:  65%|██████▌   | 1190/1830 [01:13<00:47, 13.41it/s, now=None]\u001b[A\u001b[A\u001b[A\n",
      "\n",
      "\n",
      "t:  65%|██████▌   | 1192/1830 [01:13<00:46, 13.63it/s, now=None]\u001b[A\u001b[A\u001b[A"
     ]
    },
    {
     "name": "stdout",
     "output_type": "stream",
     "text": [
      "5\n",
      "5\n",
      "5\n",
      "5\n",
      "5\n",
      "5\n"
     ]
    },
    {
     "name": "stderr",
     "output_type": "stream",
     "text": [
      "\n",
      "\n",
      "\n",
      "t:  65%|██████▌   | 1194/1830 [01:13<00:49, 12.93it/s, now=None]\u001b[A\u001b[A\u001b[A"
     ]
    },
    {
     "name": "stdout",
     "output_type": "stream",
     "text": [
      "5\n",
      "5\n",
      "5\n",
      "5\n",
      "5\n",
      "5\n",
      "5\n",
      "5\n"
     ]
    },
    {
     "name": "stderr",
     "output_type": "stream",
     "text": [
      "\n",
      "\n",
      "\n",
      "t:  65%|██████▌   | 1196/1830 [01:14<00:48, 12.97it/s, now=None]\u001b[A\u001b[A\u001b[A\n",
      "\n",
      "\n",
      "t:  65%|██████▌   | 1198/1830 [01:14<00:46, 13.53it/s, now=None]\u001b[A\u001b[A\u001b[A"
     ]
    },
    {
     "name": "stdout",
     "output_type": "stream",
     "text": [
      "5\n",
      "5\n",
      "5\n",
      "5\n",
      "5\n",
      "5\n",
      "5\n",
      "5\n"
     ]
    },
    {
     "name": "stderr",
     "output_type": "stream",
     "text": [
      "\n",
      "\n",
      "\n",
      "t:  66%|██████▌   | 1200/1830 [01:14<00:46, 13.44it/s, now=None]\u001b[A\u001b[A\u001b[A\n",
      "\n",
      "\n",
      "t:  66%|██████▌   | 1202/1830 [01:14<00:46, 13.52it/s, now=None]\u001b[A\u001b[A\u001b[A"
     ]
    },
    {
     "name": "stdout",
     "output_type": "stream",
     "text": [
      "5\n",
      "5\n",
      "5\n",
      "5\n",
      "5\n",
      "5\n",
      "5\n",
      "5\n"
     ]
    },
    {
     "name": "stderr",
     "output_type": "stream",
     "text": [
      "\n",
      "\n",
      "\n",
      "t:  66%|██████▌   | 1204/1830 [01:14<00:44, 14.03it/s, now=None]\u001b[A\u001b[A\u001b[A\n",
      "\n",
      "\n",
      "t:  66%|██████▌   | 1206/1830 [01:14<00:45, 13.85it/s, now=None]\u001b[A\u001b[A\u001b[A\n",
      "\n",
      "\n"
     ]
    },
    {
     "name": "stdout",
     "output_type": "stream",
     "text": [
      "5\n",
      "5\n",
      "5\n",
      "5\n",
      "5\n",
      "5\n",
      "5\n",
      "5\n"
     ]
    },
    {
     "name": "stderr",
     "output_type": "stream",
     "text": [
      "t:  66%|██████▌   | 1208/1830 [01:14<00:44, 14.14it/s, now=None]\u001b[A\u001b[A\u001b[A\n",
      "\n",
      "\n",
      "t:  66%|██████▌   | 1210/1830 [01:15<00:44, 13.85it/s, now=None]\u001b[A\u001b[A\u001b[A"
     ]
    },
    {
     "name": "stdout",
     "output_type": "stream",
     "text": [
      "5\n",
      "5\n",
      "5\n",
      "5\n",
      "5\n",
      "5\n"
     ]
    },
    {
     "name": "stderr",
     "output_type": "stream",
     "text": [
      "\n",
      "\n",
      "\n",
      "t:  66%|██████▌   | 1212/1830 [01:15<00:44, 13.87it/s, now=None]\u001b[A\u001b[A\u001b[A\n",
      "\n",
      "\n",
      "t:  66%|██████▋   | 1214/1830 [01:15<00:44, 13.99it/s, now=None]\u001b[A\u001b[A\u001b[A"
     ]
    },
    {
     "name": "stdout",
     "output_type": "stream",
     "text": [
      "5\n",
      "5\n",
      "5\n",
      "5\n",
      "5\n",
      "5\n"
     ]
    },
    {
     "name": "stderr",
     "output_type": "stream",
     "text": [
      "\n",
      "\n",
      "\n",
      "t:  66%|██████▋   | 1216/1830 [01:15<00:42, 14.45it/s, now=None]\u001b[A\u001b[A\u001b[A\n",
      "\n",
      "\n",
      "t:  67%|██████▋   | 1218/1830 [01:15<00:41, 14.82it/s, now=None]"
     ]
    },
    {
     "name": "stdout",
     "output_type": "stream",
     "text": [
      "5\n",
      "5\n",
      "5\n",
      "5\n",
      "5\n",
      "5\n",
      "5\n",
      "5\n"
     ]
    },
    {
     "name": "stderr",
     "output_type": "stream",
     "text": [
      "\u001b[A\u001b[A\u001b[A\n",
      "\n",
      "\n",
      "t:  67%|██████▋   | 1220/1830 [01:15<00:42, 14.32it/s, now=None]\u001b[A\u001b[A\u001b[A\n",
      "\n",
      "\n"
     ]
    },
    {
     "name": "stdout",
     "output_type": "stream",
     "text": [
      "5\n",
      "5\n",
      "5\n",
      "5\n",
      "5\n",
      "5\n",
      "5\n",
      "5\n"
     ]
    },
    {
     "name": "stderr",
     "output_type": "stream",
     "text": [
      "t:  67%|██████▋   | 1222/1830 [01:15<00:42, 14.31it/s, now=None]\u001b[A\u001b[A\u001b[A\n",
      "\n",
      "\n",
      "t:  67%|██████▋   | 1224/1830 [01:15<00:42, 14.42it/s, now=None]\u001b[A\u001b[A\u001b[A"
     ]
    },
    {
     "name": "stdout",
     "output_type": "stream",
     "text": [
      "5\n",
      "5\n",
      "5\n",
      "5\n",
      "5\n",
      "5\n"
     ]
    },
    {
     "name": "stderr",
     "output_type": "stream",
     "text": [
      "\n",
      "\n",
      "\n",
      "t:  67%|██████▋   | 1226/1830 [01:16<00:43, 13.99it/s, now=None]\u001b[A\u001b[A\u001b[A\n",
      "\n",
      "\n",
      "t:  67%|██████▋   | 1228/1830 [01:16<00:42, 14.05it/s, now=None]\u001b[A\u001b[A\u001b[A"
     ]
    },
    {
     "name": "stdout",
     "output_type": "stream",
     "text": [
      "5\n",
      "5\n",
      "5\n",
      "5\n",
      "5\n",
      "5\n"
     ]
    },
    {
     "name": "stderr",
     "output_type": "stream",
     "text": [
      "\n",
      "\n",
      "\n",
      "t:  67%|██████▋   | 1230/1830 [01:16<00:42, 14.10it/s, now=None]\u001b[A\u001b[A\u001b[A\n",
      "\n",
      "\n",
      "t:  67%|██████▋   | 1232/1830 [01:16<00:40, 14.68it/s, now=None]\u001b[A\u001b[A\u001b[A"
     ]
    },
    {
     "name": "stdout",
     "output_type": "stream",
     "text": [
      "5\n",
      "5\n",
      "5\n",
      "5\n",
      "5\n",
      "5\n",
      "5\n",
      "5\n"
     ]
    },
    {
     "name": "stderr",
     "output_type": "stream",
     "text": [
      "\n",
      "\n",
      "\n",
      "t:  67%|██████▋   | 1234/1830 [01:16<00:40, 14.85it/s, now=None]\u001b[A\u001b[A\u001b[A\n",
      "\n",
      "\n",
      "t:  68%|██████▊   | 1236/1830 [01:16<00:38, 15.59it/s, now=None]\u001b[A\u001b[A\u001b[A"
     ]
    },
    {
     "name": "stdout",
     "output_type": "stream",
     "text": [
      "5\n",
      "5\n",
      "5\n",
      "5\n",
      "5\n",
      "5\n",
      "5\n",
      "5\n"
     ]
    },
    {
     "name": "stderr",
     "output_type": "stream",
     "text": [
      "\n",
      "\n",
      "\n",
      "t:  68%|██████▊   | 1238/1830 [01:16<00:38, 15.48it/s, now=None]\u001b[A\u001b[A\u001b[A\n",
      "\n",
      "\n",
      "t:  68%|██████▊   | 1240/1830 [01:17<00:36, 15.98it/s, now=None]\u001b[A\u001b[A\u001b[A"
     ]
    },
    {
     "name": "stdout",
     "output_type": "stream",
     "text": [
      "5\n",
      "5\n",
      "5\n",
      "5\n",
      "5\n",
      "5\n",
      "5\n",
      "5\n"
     ]
    },
    {
     "name": "stderr",
     "output_type": "stream",
     "text": [
      "\n",
      "\n",
      "\n",
      "t:  68%|██████▊   | 1242/1830 [01:17<00:37, 15.67it/s, now=None]\u001b[A\u001b[A\u001b[A\n",
      "\n",
      "\n",
      "t:  68%|██████▊   | 1244/1830 [01:17<00:35, 16.33it/s, now=None]\u001b[A\u001b[A\u001b[A"
     ]
    },
    {
     "name": "stdout",
     "output_type": "stream",
     "text": [
      "5\n",
      "5\n",
      "5\n",
      "5\n",
      "5\n",
      "5\n",
      "5\n",
      "5\n"
     ]
    },
    {
     "name": "stderr",
     "output_type": "stream",
     "text": [
      "\n",
      "\n",
      "\n",
      "t:  68%|██████▊   | 1246/1830 [01:17<00:35, 16.26it/s, now=None]\u001b[A\u001b[A\u001b[A\n",
      "\n",
      "\n",
      "t:  68%|██████▊   | 1248/1830 [01:17<00:37, 15.60it/s, now=None]"
     ]
    },
    {
     "name": "stdout",
     "output_type": "stream",
     "text": [
      "5\n",
      "5\n",
      "5\n",
      "5\n",
      "5\n",
      "5\n",
      "5\n",
      "5\n"
     ]
    },
    {
     "name": "stderr",
     "output_type": "stream",
     "text": [
      "\u001b[A\u001b[A\u001b[A\n",
      "\n",
      "\n",
      "t:  68%|██████▊   | 1250/1830 [01:17<00:37, 15.57it/s, now=None]\u001b[A\u001b[A\u001b[A\n",
      "\n",
      "\n",
      "t:  68%|██████▊   | 1252/1830 [01:17<00:35, 16.28it/s, now=None]\u001b[A\u001b[A\u001b[A"
     ]
    },
    {
     "name": "stdout",
     "output_type": "stream",
     "text": [
      "5\n",
      "5\n",
      "5\n",
      "5\n",
      "5\n",
      "5\n",
      "5\n",
      "5\n"
     ]
    },
    {
     "name": "stderr",
     "output_type": "stream",
     "text": [
      "\n",
      "\n",
      "\n",
      "t:  69%|██████▊   | 1254/1830 [01:17<00:35, 16.21it/s, now=None]\u001b[A\u001b[A\u001b[A\n",
      "\n",
      "\n",
      "t:  69%|██████▊   | 1256/1830 [01:18<00:33, 17.10it/s, now=None]\u001b[A\u001b[A\u001b[A"
     ]
    },
    {
     "name": "stdout",
     "output_type": "stream",
     "text": [
      "5\n",
      "5\n",
      "5\n",
      "5\n",
      "5\n",
      "5\n",
      "5\n",
      "5\n"
     ]
    },
    {
     "name": "stderr",
     "output_type": "stream",
     "text": [
      "\n",
      "\n",
      "\n",
      "t:  69%|██████▊   | 1258/1830 [01:18<00:34, 16.67it/s, now=None]\u001b[A\u001b[A\u001b[A\n",
      "\n",
      "\n",
      "t:  69%|██████▉   | 1260/1830 [01:18<00:33, 17.15it/s, now=None]\u001b[A\u001b[A\u001b[A"
     ]
    },
    {
     "name": "stdout",
     "output_type": "stream",
     "text": [
      "5\n",
      "5\n",
      "5\n",
      "5\n",
      "5\n",
      "5\n",
      "5\n",
      "5\n"
     ]
    },
    {
     "name": "stderr",
     "output_type": "stream",
     "text": [
      "\n",
      "\n",
      "\n",
      "t:  69%|██████▉   | 1262/1830 [01:18<00:33, 16.82it/s, now=None]\u001b[A\u001b[A\u001b[A\n",
      "\n",
      "\n",
      "t:  69%|██████▉   | 1264/1830 [01:18<00:32, 17.35it/s, now=None]\u001b[A\u001b[A\u001b[A"
     ]
    },
    {
     "name": "stdout",
     "output_type": "stream",
     "text": [
      "5\n",
      "5\n",
      "5\n",
      "5\n",
      "5\n",
      "5\n",
      "5\n",
      "5\n"
     ]
    },
    {
     "name": "stderr",
     "output_type": "stream",
     "text": [
      "\n",
      "\n",
      "\n",
      "t:  69%|██████▉   | 1266/1830 [01:18<00:33, 16.94it/s, now=None]\u001b[A\u001b[A\u001b[A\n",
      "\n",
      "\n",
      "t:  69%|██████▉   | 1268/1830 [01:18<00:32, 17.20it/s, now=None]\u001b[A\u001b[A\u001b[A"
     ]
    },
    {
     "name": "stdout",
     "output_type": "stream",
     "text": [
      "5\n",
      "5\n",
      "5\n",
      "5\n",
      "5\n",
      "5\n",
      "5\n",
      "5\n"
     ]
    },
    {
     "name": "stderr",
     "output_type": "stream",
     "text": [
      "\n",
      "\n",
      "\n",
      "t:  69%|██████▉   | 1270/1830 [01:18<00:32, 17.32it/s, now=None]\u001b[A\u001b[A\u001b[A\n",
      "\n",
      "\n",
      "t:  70%|██████▉   | 1272/1830 [01:18<00:31, 17.66it/s, now=None]\u001b[A\u001b[A\u001b[A"
     ]
    },
    {
     "name": "stdout",
     "output_type": "stream",
     "text": [
      "5\n",
      "5\n",
      "5\n",
      "5\n",
      "5\n",
      "5\n",
      "5\n",
      "5\n"
     ]
    },
    {
     "name": "stderr",
     "output_type": "stream",
     "text": [
      "\n",
      "\n",
      "\n",
      "t:  70%|██████▉   | 1274/1830 [01:19<00:32, 17.31it/s, now=None]\u001b[A\u001b[A\u001b[A\n",
      "\n",
      "\n",
      "t:  70%|██████▉   | 1276/1830 [01:19<00:30, 17.91it/s, now=None]\u001b[A\u001b[A\u001b[A"
     ]
    },
    {
     "name": "stdout",
     "output_type": "stream",
     "text": [
      "5\n",
      "5\n",
      "5\n",
      "5\n",
      "5\n",
      "5\n",
      "5\n",
      "5\n"
     ]
    },
    {
     "name": "stderr",
     "output_type": "stream",
     "text": [
      "\n",
      "\n",
      "\n",
      "t:  70%|██████▉   | 1278/1830 [01:19<00:32, 17.23it/s, now=None]\u001b[A\u001b[A\u001b[A"
     ]
    },
    {
     "name": "stdout",
     "output_type": "stream",
     "text": [
      "5\n",
      "5\n",
      "5\n",
      "5\n",
      "5\n",
      "5\n",
      "5\n",
      "5\n"
     ]
    },
    {
     "name": "stderr",
     "output_type": "stream",
     "text": [
      "\n",
      "\n",
      "\n",
      "t:  70%|██████▉   | 1280/1830 [01:19<00:33, 16.43it/s, now=None]\u001b[A\u001b[A\u001b[A\n",
      "\n",
      "\n",
      "t:  70%|███████   | 1282/1830 [01:19<00:32, 16.80it/s, now=None]\u001b[A\u001b[A\u001b[A\n",
      "\n",
      "\n",
      "t:  70%|███████   | 1284/1830 [01:19<00:31, 17.22it/s, now=None]\u001b[A\u001b[A\u001b[A"
     ]
    },
    {
     "name": "stdout",
     "output_type": "stream",
     "text": [
      "5\n",
      "5\n",
      "5\n",
      "5\n",
      "5\n",
      "5\n",
      "5\n",
      "5\n"
     ]
    },
    {
     "name": "stderr",
     "output_type": "stream",
     "text": [
      "\n",
      "\n",
      "\n",
      "t:  70%|███████   | 1286/1830 [01:19<00:31, 17.53it/s, now=None]\u001b[A\u001b[A\u001b[A\n",
      "\n",
      "\n",
      "t:  70%|███████   | 1288/1830 [01:19<00:31, 17.45it/s, now=None]\u001b[A\u001b[A\u001b[A"
     ]
    },
    {
     "name": "stdout",
     "output_type": "stream",
     "text": [
      "5\n",
      "5\n",
      "5\n",
      "5\n",
      "5\n",
      "5\n",
      "5\n",
      "5\n"
     ]
    },
    {
     "name": "stderr",
     "output_type": "stream",
     "text": [
      "\n",
      "\n",
      "\n",
      "t:  70%|███████   | 1290/1830 [01:19<00:31, 17.14it/s, now=None]\u001b[A\u001b[A\u001b[A\n",
      "\n",
      "\n",
      "t:  71%|███████   | 1292/1830 [01:20<00:30, 17.52it/s, now=None]\u001b[A\u001b[A\u001b[A"
     ]
    },
    {
     "name": "stdout",
     "output_type": "stream",
     "text": [
      "5\n",
      "5\n",
      "5\n",
      "5\n",
      "5\n",
      "5\n",
      "5\n",
      "5\n"
     ]
    },
    {
     "name": "stderr",
     "output_type": "stream",
     "text": [
      "\n",
      "\n",
      "\n",
      "t:  71%|███████   | 1294/1830 [01:20<00:31, 16.98it/s, now=None]\u001b[A\u001b[A\u001b[A\n",
      "\n",
      "\n",
      "t:  71%|███████   | 1296/1830 [01:20<00:30, 17.75it/s, now=None]\u001b[A\u001b[A\u001b[A"
     ]
    },
    {
     "name": "stdout",
     "output_type": "stream",
     "text": [
      "5\n",
      "5\n",
      "5\n",
      "5\n",
      "5\n",
      "5\n",
      "5\n",
      "5\n",
      "5"
     ]
    },
    {
     "name": "stderr",
     "output_type": "stream",
     "text": [
      "\n",
      "\n",
      "\n",
      "t:  71%|███████   | 1299/1830 [01:20<00:28, 18.89it/s, now=None]\u001b[A\u001b[A\u001b[A"
     ]
    },
    {
     "name": "stdout",
     "output_type": "stream",
     "text": [
      "\n",
      "5\n",
      "5\n",
      "5\n",
      "5\n",
      "5\n",
      "5\n",
      "5\n",
      "5\n",
      "5\n"
     ]
    },
    {
     "name": "stderr",
     "output_type": "stream",
     "text": [
      "\n",
      "\n",
      "\n",
      "t:  71%|███████   | 1302/1830 [01:20<00:26, 19.69it/s, now=None]\u001b[A\u001b[A\u001b[A\n",
      "\n",
      "\n",
      "t:  71%|███████▏  | 1304/1830 [01:20<00:27, 19.27it/s, now=None]\u001b[A\u001b[A\u001b[A"
     ]
    },
    {
     "name": "stdout",
     "output_type": "stream",
     "text": [
      "5\n",
      "5\n",
      "5\n",
      "5\n",
      "5\n",
      "5\n",
      "5\n",
      "5\n"
     ]
    },
    {
     "name": "stderr",
     "output_type": "stream",
     "text": [
      "\n",
      "\n",
      "\n",
      "t:  71%|███████▏  | 1306/1830 [01:20<00:28, 18.45it/s, now=None]\u001b[A\u001b[A\u001b[A\n",
      "\n",
      "\n",
      "t:  71%|███████▏  | 1308/1830 [01:20<00:28, 18.06it/s, now=None]\u001b[A\u001b[A\u001b[A"
     ]
    },
    {
     "name": "stdout",
     "output_type": "stream",
     "text": [
      "5\n",
      "5\n",
      "5\n",
      "5\n",
      "5\n",
      "5\n",
      "5\n",
      "5\n"
     ]
    },
    {
     "name": "stderr",
     "output_type": "stream",
     "text": [
      "\n",
      "\n",
      "\n",
      "t:  72%|███████▏  | 1310/1830 [01:21<00:28, 17.97it/s, now=None]\u001b[A\u001b[A\u001b[A\n",
      "\n",
      "\n",
      "t:  72%|███████▏  | 1312/1830 [01:21<00:29, 17.50it/s, now=None]\u001b[A\u001b[A\u001b[A"
     ]
    },
    {
     "name": "stdout",
     "output_type": "stream",
     "text": [
      "5\n",
      "5\n",
      "5\n",
      "5\n",
      "5\n",
      "5\n",
      "5\n",
      "5\n"
     ]
    },
    {
     "name": "stderr",
     "output_type": "stream",
     "text": [
      "\n",
      "\n",
      "\n",
      "t:  72%|███████▏  | 1314/1830 [01:21<00:29, 17.40it/s, now=None]\u001b[A\u001b[A\u001b[A\n",
      "\n",
      "\n",
      "t:  72%|███████▏  | 1316/1830 [01:21<00:28, 17.98it/s, now=None]\u001b[A\u001b[A\u001b[A"
     ]
    },
    {
     "name": "stdout",
     "output_type": "stream",
     "text": [
      "5\n",
      "5\n",
      "5\n",
      "5\n",
      "5\n",
      "5\n",
      "5\n",
      "5\n"
     ]
    },
    {
     "name": "stderr",
     "output_type": "stream",
     "text": [
      "\n",
      "\n",
      "\n",
      "t:  72%|███████▏  | 1318/1830 [01:21<00:29, 17.62it/s, now=None]\u001b[A\u001b[A\u001b[A\n",
      "\n",
      "\n",
      "t:  72%|███████▏  | 1320/1830 [01:21<00:28, 17.93it/s, now=None]\u001b[A\u001b[A\u001b[A"
     ]
    },
    {
     "name": "stdout",
     "output_type": "stream",
     "text": [
      "5\n",
      "5\n",
      "5\n",
      "5\n",
      "5\n",
      "5\n",
      "5\n",
      "5\n"
     ]
    },
    {
     "name": "stderr",
     "output_type": "stream",
     "text": [
      "\n",
      "\n",
      "\n",
      "t:  72%|███████▏  | 1322/1830 [01:21<00:29, 17.19it/s, now=None]\u001b[A\u001b[A\u001b[A\n",
      "\n",
      "\n",
      "t:  72%|███████▏  | 1324/1830 [01:21<00:28, 17.88it/s, now=None]\u001b[A\u001b[A\u001b[A"
     ]
    },
    {
     "name": "stdout",
     "output_type": "stream",
     "text": [
      "5\n",
      "5\n",
      "5\n",
      "5\n",
      "5\n",
      "5\n",
      "5\n",
      "5\n"
     ]
    },
    {
     "name": "stderr",
     "output_type": "stream",
     "text": [
      "\n",
      "\n",
      "\n",
      "t:  72%|███████▏  | 1326/1830 [01:21<00:29, 17.27it/s, now=None]\u001b[A\u001b[A\u001b[A\n",
      "\n",
      "\n",
      "t:  73%|███████▎  | 1328/1830 [01:22<00:28, 17.62it/s, now=None]\u001b[A\u001b[A\u001b[A"
     ]
    },
    {
     "name": "stdout",
     "output_type": "stream",
     "text": [
      "5\n",
      "5\n",
      "5\n",
      "5\n",
      "5\n",
      "5\n",
      "5\n",
      "5\n"
     ]
    },
    {
     "name": "stderr",
     "output_type": "stream",
     "text": [
      "\n",
      "\n",
      "\n",
      "t:  73%|███████▎  | 1330/1830 [01:22<00:28, 17.59it/s, now=None]\u001b[A\u001b[A\u001b[A\n",
      "\n",
      "\n",
      "t:  73%|███████▎  | 1332/1830 [01:22<00:28, 17.50it/s, now=None]\u001b[A\u001b[A\u001b[A"
     ]
    },
    {
     "name": "stdout",
     "output_type": "stream",
     "text": [
      "5\n",
      "5\n",
      "5\n",
      "5\n",
      "5\n",
      "5\n",
      "5\n",
      "5\n"
     ]
    },
    {
     "name": "stderr",
     "output_type": "stream",
     "text": [
      "\n",
      "\n",
      "\n",
      "t:  73%|███████▎  | 1334/1830 [01:22<00:29, 17.07it/s, now=None]\u001b[A\u001b[A\u001b[A\n",
      "\n",
      "\n",
      "t:  73%|███████▎  | 1336/1830 [01:22<00:27, 17.65it/s, now=None]\u001b[A\u001b[A\u001b[A"
     ]
    },
    {
     "name": "stdout",
     "output_type": "stream",
     "text": [
      "5\n",
      "5\n",
      "5\n",
      "5\n",
      "5\n",
      "5\n",
      "5\n",
      "5\n",
      "5"
     ]
    },
    {
     "name": "stderr",
     "output_type": "stream",
     "text": [
      "\n",
      "\n",
      "\n",
      "t:  73%|███████▎  | 1338/1830 [01:22<00:27, 17.57it/s, now=None]\u001b[A\u001b[A\u001b[A\n",
      "\n",
      "\n",
      "t:  73%|███████▎  | 1340/1830 [01:22<00:30, 16.28it/s, now=None]\u001b[A\u001b[A\u001b[A"
     ]
    },
    {
     "name": "stdout",
     "output_type": "stream",
     "text": [
      "\n",
      "5\n",
      "5\n",
      "5\n",
      "5\n",
      "5\n",
      "5\n",
      "5\n",
      "5\n",
      "5\n",
      "5\n",
      "5\n"
     ]
    },
    {
     "name": "stderr",
     "output_type": "stream",
     "text": [
      "\n",
      "\n",
      "\n",
      "t:  73%|███████▎  | 1343/1830 [01:22<00:27, 17.40it/s, now=None]\u001b[A\u001b[A\u001b[A\n",
      "\n",
      "\n",
      "t:  73%|███████▎  | 1345/1830 [01:23<00:27, 17.67it/s, now=None]\u001b[A\u001b[A\u001b[A\n",
      "\n",
      "\n",
      "t:  74%|███████▎  | 1347/1830 [01:23<00:26, 17.97it/s, now=None]\u001b[A\u001b[A\u001b[A"
     ]
    },
    {
     "name": "stdout",
     "output_type": "stream",
     "text": [
      "5\n",
      "5\n",
      "5\n",
      "5\n",
      "5\n",
      "5\n",
      "5\n",
      "5\n"
     ]
    },
    {
     "name": "stderr",
     "output_type": "stream",
     "text": [
      "\n",
      "\n",
      "\n",
      "t:  74%|███████▎  | 1349/1830 [01:23<00:32, 14.98it/s, now=None]\u001b[A\u001b[A\u001b[A"
     ]
    },
    {
     "name": "stdout",
     "output_type": "stream",
     "text": [
      "5\n",
      "5\n",
      "5\n",
      "5\n",
      "5\n",
      "5\n"
     ]
    },
    {
     "name": "stderr",
     "output_type": "stream",
     "text": [
      "\n",
      "\n",
      "\n",
      "t:  74%|███████▍  | 1351/1830 [01:23<00:30, 15.74it/s, now=None]\u001b[A\u001b[A\u001b[A\n",
      "\n",
      "\n",
      "t:  74%|███████▍  | 1353/1830 [01:23<00:28, 16.60it/s, now=None]\u001b[A\u001b[A\u001b[A"
     ]
    },
    {
     "name": "stdout",
     "output_type": "stream",
     "text": [
      "5\n",
      "5\n",
      "5\n",
      "5\n",
      "5\n",
      "5\n",
      "5\n",
      "5\n"
     ]
    },
    {
     "name": "stderr",
     "output_type": "stream",
     "text": [
      "\n",
      "\n",
      "\n",
      "t:  74%|███████▍  | 1355/1830 [01:23<00:30, 15.53it/s, now=None]\u001b[A\u001b[A\u001b[A\n",
      "\n",
      "\n",
      "t:  74%|███████▍  | 1357/1830 [01:23<00:29, 16.14it/s, now=None]\u001b[A\u001b[A\u001b[A"
     ]
    },
    {
     "name": "stdout",
     "output_type": "stream",
     "text": [
      "5\n",
      "5\n",
      "5\n",
      "5\n",
      "5\n",
      "5\n",
      "5\n",
      "5\n"
     ]
    },
    {
     "name": "stderr",
     "output_type": "stream",
     "text": [
      "\n",
      "\n",
      "\n",
      "t:  74%|███████▍  | 1359/1830 [01:23<00:28, 16.42it/s, now=None]\u001b[A\u001b[A\u001b[A\n",
      "\n",
      "\n",
      "t:  74%|███████▍  | 1361/1830 [01:24<00:27, 16.87it/s, now=None]\u001b[A\u001b[A\u001b[A"
     ]
    },
    {
     "name": "stdout",
     "output_type": "stream",
     "text": [
      "5\n",
      "5\n",
      "5\n",
      "5\n",
      "5\n",
      "5\n",
      "5\n",
      "5\n"
     ]
    },
    {
     "name": "stderr",
     "output_type": "stream",
     "text": [
      "\n",
      "\n",
      "\n",
      "t:  74%|███████▍  | 1363/1830 [01:24<00:28, 16.63it/s, now=None]\u001b[A\u001b[A\u001b[A\n",
      "\n",
      "\n",
      "t:  75%|███████▍  | 1365/1830 [01:24<00:26, 17.40it/s, now=None]\u001b[A\u001b[A\u001b[A"
     ]
    },
    {
     "name": "stdout",
     "output_type": "stream",
     "text": [
      "5\n",
      "5\n",
      "5\n",
      "5\n",
      "5\n",
      "5\n"
     ]
    },
    {
     "name": "stderr",
     "output_type": "stream",
     "text": [
      "\n",
      "\n",
      "\n",
      "t:  75%|███████▍  | 1367/1830 [01:24<00:28, 16.40it/s, now=None]\u001b[A\u001b[A\u001b[A\n",
      "\n",
      "\n",
      "t:  75%|███████▍  | 1370/1830 [01:24<00:26, 17.41it/s, now=None]"
     ]
    },
    {
     "name": "stdout",
     "output_type": "stream",
     "text": [
      "5\n",
      "5\n",
      "5\n",
      "5\n",
      "5\n",
      "5\n",
      "5\n",
      "5\n",
      "5\n",
      "5\n"
     ]
    },
    {
     "name": "stderr",
     "output_type": "stream",
     "text": [
      "\u001b[A\u001b[A\u001b[A\n",
      "\n",
      "\n",
      "t:  75%|███████▍  | 1372/1830 [01:24<00:28, 16.04it/s, now=None]\u001b[A\u001b[A\u001b[A"
     ]
    },
    {
     "name": "stdout",
     "output_type": "stream",
     "text": [
      "5\n",
      "5\n",
      "5\n",
      "5\n",
      "5\n",
      "5\n",
      "5\n",
      "5\n",
      "5\n",
      "5\n"
     ]
    },
    {
     "name": "stderr",
     "output_type": "stream",
     "text": [
      "\n",
      "\n",
      "\n",
      "t:  75%|███████▌  | 1375/1830 [01:24<00:25, 17.52it/s, now=None]\u001b[A\u001b[A\u001b[A\n",
      "\n",
      "\n",
      "t:  75%|███████▌  | 1377/1830 [01:25<00:26, 16.81it/s, now=None]\u001b[A\u001b[A\u001b[A\n",
      "\n",
      "\n",
      "t:  75%|███████▌  | 1379/1830 [01:25<00:25, 17.45it/s, now=None]"
     ]
    },
    {
     "name": "stdout",
     "output_type": "stream",
     "text": [
      "5\n",
      "5\n",
      "5\n",
      "5\n",
      "5\n",
      "5\n",
      "5\n",
      "5\n"
     ]
    },
    {
     "name": "stderr",
     "output_type": "stream",
     "text": [
      "\u001b[A\u001b[A\u001b[A\n",
      "\n",
      "\n",
      "t:  75%|███████▌  | 1381/1830 [01:25<00:26, 16.98it/s, now=None]\u001b[A\u001b[A\u001b[A\n",
      "\n",
      "\n",
      "t:  76%|███████▌  | 1383/1830 [01:25<00:26, 16.99it/s, now=None]\u001b[A\u001b[A\u001b[A"
     ]
    },
    {
     "name": "stdout",
     "output_type": "stream",
     "text": [
      "5\n",
      "5\n",
      "5\n",
      "5\n",
      "5\n",
      "5\n",
      "5\n",
      "5\n"
     ]
    },
    {
     "name": "stderr",
     "output_type": "stream",
     "text": [
      "\n",
      "\n",
      "\n",
      "t:  76%|███████▌  | 1385/1830 [01:25<00:27, 16.47it/s, now=None]\u001b[A\u001b[A\u001b[A\n",
      "\n",
      "\n",
      "t:  76%|███████▌  | 1387/1830 [01:25<00:26, 16.67it/s, now=None]\u001b[A\u001b[A\u001b[A"
     ]
    },
    {
     "name": "stdout",
     "output_type": "stream",
     "text": [
      "5\n",
      "5\n",
      "5\n",
      "5\n",
      "5\n",
      "5\n",
      "5\n",
      "5\n"
     ]
    },
    {
     "name": "stderr",
     "output_type": "stream",
     "text": [
      "\n",
      "\n",
      "\n",
      "t:  76%|███████▌  | 1389/1830 [01:25<00:27, 15.80it/s, now=None]\u001b[A\u001b[A\u001b[A"
     ]
    },
    {
     "name": "stdout",
     "output_type": "stream",
     "text": [
      "5\n",
      "5\n",
      "5\n",
      "5\n",
      "5\n",
      "5\n"
     ]
    },
    {
     "name": "stderr",
     "output_type": "stream",
     "text": [
      "\n",
      "\n",
      "\n",
      "t:  76%|███████▌  | 1391/1830 [01:25<00:30, 14.39it/s, now=None]\u001b[A\u001b[A\u001b[A\n",
      "\n",
      "\n",
      "t:  76%|███████▌  | 1394/1830 [01:26<00:26, 16.56it/s, now=None]\u001b[A\u001b[A\u001b[A"
     ]
    },
    {
     "name": "stdout",
     "output_type": "stream",
     "text": [
      "5\n",
      "5\n",
      "5\n",
      "5\n",
      "5\n",
      "5\n",
      "1\n",
      "5\n"
     ]
    },
    {
     "name": "stderr",
     "output_type": "stream",
     "text": [
      "\n",
      "\n",
      "\n",
      "t:  76%|███████▋  | 1396/1830 [01:26<00:28, 15.11it/s, now=None]\u001b[A\u001b[A\u001b[A"
     ]
    },
    {
     "name": "stdout",
     "output_type": "stream",
     "text": [
      "5\n",
      "5\n",
      "1\n",
      "5\n",
      "5\n",
      "5\n",
      "5\n",
      "5\n"
     ]
    },
    {
     "name": "stderr",
     "output_type": "stream",
     "text": [
      "\n",
      "\n",
      "\n",
      "t:  76%|███████▋  | 1398/1830 [01:26<00:27, 15.44it/s, now=None]\u001b[A\u001b[A\u001b[A\n",
      "\n",
      "\n",
      "t:  77%|███████▋  | 1400/1830 [01:26<00:26, 16.23it/s, now=None]\u001b[A\u001b[A\u001b[A"
     ]
    },
    {
     "name": "stdout",
     "output_type": "stream",
     "text": [
      "5\n",
      "5\n",
      "5\n",
      "5\n",
      "5\n",
      "5\n",
      "5"
     ]
    },
    {
     "name": "stderr",
     "output_type": "stream",
     "text": [
      "\n",
      "\n",
      "\n",
      "t:  77%|███████▋  | 1402/1830 [01:26<00:30, 14.16it/s, now=None]\u001b[A\u001b[A\u001b[A\n",
      "\n",
      "\n",
      "t:  77%|███████▋  | 1404/1830 [01:26<00:28, 15.01it/s, now=None]\u001b[A\u001b[A\u001b[A"
     ]
    },
    {
     "name": "stdout",
     "output_type": "stream",
     "text": [
      "\n",
      "5\n",
      "5\n",
      "5\n",
      "5\n",
      "5\n"
     ]
    },
    {
     "name": "stderr",
     "output_type": "stream",
     "text": [
      "\n",
      "\n",
      "\n",
      "t:  77%|███████▋  | 1406/1830 [01:26<00:27, 15.45it/s, now=None]\u001b[A\u001b[A\u001b[A\n",
      "\n",
      "\n",
      "t:  77%|███████▋  | 1408/1830 [01:27<00:26, 15.78it/s, now=None]\u001b[A\u001b[A\u001b[A"
     ]
    },
    {
     "name": "stdout",
     "output_type": "stream",
     "text": [
      "5\n",
      "5\n",
      "5\n",
      "5\n",
      "5\n",
      "5\n",
      "5\n",
      "5\n"
     ]
    },
    {
     "name": "stderr",
     "output_type": "stream",
     "text": [
      "\n",
      "\n",
      "\n",
      "t:  77%|███████▋  | 1410/1830 [01:27<00:26, 16.07it/s, now=None]\u001b[A\u001b[A\u001b[A\n",
      "\n",
      "\n",
      "t:  77%|███████▋  | 1412/1830 [01:27<00:25, 16.28it/s, now=None]\u001b[A\u001b[A\u001b[A"
     ]
    },
    {
     "name": "stdout",
     "output_type": "stream",
     "text": [
      "5\n",
      "5\n",
      "5\n",
      "5\n",
      "5\n",
      "5\n",
      "5\n",
      "5\n"
     ]
    },
    {
     "name": "stderr",
     "output_type": "stream",
     "text": [
      "\n",
      "\n",
      "\n",
      "t:  77%|███████▋  | 1414/1830 [01:27<00:24, 16.80it/s, now=None]\u001b[A\u001b[A\u001b[A\n",
      "\n",
      "\n",
      "t:  77%|███████▋  | 1416/1830 [01:27<00:24, 16.97it/s, now=None]\u001b[A\u001b[A\u001b[A"
     ]
    },
    {
     "name": "stdout",
     "output_type": "stream",
     "text": [
      "1\n",
      "5\n",
      "1\n",
      "5\n",
      "5\n",
      "5\n",
      "5\n",
      "5\n"
     ]
    },
    {
     "name": "stderr",
     "output_type": "stream",
     "text": [
      "\n",
      "\n",
      "\n",
      "t:  77%|███████▋  | 1418/1830 [01:27<00:23, 17.50it/s, now=None]\u001b[A\u001b[A\u001b[A\n",
      "\n",
      "\n",
      "t:  78%|███████▊  | 1420/1830 [01:27<00:23, 17.50it/s, now=None]\u001b[A\u001b[A\u001b[A"
     ]
    },
    {
     "name": "stdout",
     "output_type": "stream",
     "text": [
      "5\n",
      "5\n",
      "5\n",
      "5\n",
      "5\n",
      "5\n",
      "5\n",
      "5\n"
     ]
    },
    {
     "name": "stderr",
     "output_type": "stream",
     "text": [
      "\n",
      "\n",
      "\n",
      "t:  78%|███████▊  | 1422/1830 [01:27<00:22, 17.75it/s, now=None]\u001b[A\u001b[A\u001b[A\n",
      "\n",
      "\n",
      "t:  78%|███████▊  | 1424/1830 [01:27<00:23, 17.51it/s, now=None]\u001b[A\u001b[A\u001b[A"
     ]
    },
    {
     "name": "stdout",
     "output_type": "stream",
     "text": [
      "5\n",
      "5\n",
      "5\n",
      "5\n",
      "5\n",
      "5\n",
      "5\n",
      "5\n"
     ]
    },
    {
     "name": "stderr",
     "output_type": "stream",
     "text": [
      "\n",
      "\n",
      "\n",
      "t:  78%|███████▊  | 1426/1830 [01:28<00:23, 17.53it/s, now=None]\u001b[A\u001b[A\u001b[A\n",
      "\n",
      "\n",
      "t:  78%|███████▊  | 1428/1830 [01:28<00:24, 16.68it/s, now=None]\u001b[A\u001b[A\u001b[A"
     ]
    },
    {
     "name": "stdout",
     "output_type": "stream",
     "text": [
      "5\n",
      "5\n",
      "5\n",
      "5\n",
      "5\n",
      "5\n",
      "5\n",
      "5\n"
     ]
    },
    {
     "name": "stderr",
     "output_type": "stream",
     "text": [
      "\n",
      "\n",
      "\n",
      "t:  78%|███████▊  | 1430/1830 [01:28<00:24, 16.60it/s, now=None]\u001b[A\u001b[A\u001b[A\n",
      "\n",
      "\n",
      "t:  78%|███████▊  | 1432/1830 [01:28<00:23, 17.03it/s, now=None]\u001b[A\u001b[A\u001b[A"
     ]
    },
    {
     "name": "stdout",
     "output_type": "stream",
     "text": [
      "5\n",
      "5\n",
      "5\n",
      "5\n",
      "5\n",
      "5\n",
      "5\n",
      "5\n"
     ]
    },
    {
     "name": "stderr",
     "output_type": "stream",
     "text": [
      "\n",
      "\n",
      "\n",
      "t:  78%|███████▊  | 1434/1830 [01:28<00:22, 17.34it/s, now=None]\u001b[A\u001b[A\u001b[A\n",
      "\n",
      "\n",
      "t:  78%|███████▊  | 1436/1830 [01:28<00:22, 17.18it/s, now=None]\u001b[A\u001b[A\u001b[A"
     ]
    },
    {
     "name": "stdout",
     "output_type": "stream",
     "text": [
      "5\n",
      "5\n",
      "5\n",
      "5\n",
      "5\n",
      "5\n",
      "5\n",
      "5\n"
     ]
    },
    {
     "name": "stderr",
     "output_type": "stream",
     "text": [
      "\n",
      "\n",
      "\n",
      "t:  79%|███████▊  | 1438/1830 [01:28<00:21, 17.83it/s, now=None]\u001b[A\u001b[A\u001b[A\n",
      "\n",
      "\n",
      "t:  79%|███████▊  | 1440/1830 [01:28<00:22, 17.26it/s, now=None]\u001b[A\u001b[A\u001b[A"
     ]
    },
    {
     "name": "stdout",
     "output_type": "stream",
     "text": [
      "5\n",
      "5\n",
      "5\n",
      "5\n",
      "5\n",
      "5\n",
      "5\n",
      "5\n"
     ]
    },
    {
     "name": "stderr",
     "output_type": "stream",
     "text": [
      "\n",
      "\n",
      "\n",
      "t:  79%|███████▉  | 1442/1830 [01:28<00:22, 17.46it/s, now=None]\u001b[A\u001b[A\u001b[A"
     ]
    },
    {
     "name": "stdout",
     "output_type": "stream",
     "text": [
      "5\n",
      "5\n",
      "5\n",
      "5\n",
      "5\n",
      "5\n",
      "5\n",
      "5\n",
      "5\n",
      "5\n"
     ]
    },
    {
     "name": "stderr",
     "output_type": "stream",
     "text": [
      "\n",
      "\n",
      "\n",
      "t:  79%|███████▉  | 1445/1830 [01:29<00:21, 18.02it/s, now=None]\u001b[A\u001b[A\u001b[A\n",
      "\n",
      "\n",
      "t:  79%|███████▉  | 1447/1830 [01:29<00:20, 18.47it/s, now=None]\u001b[A\u001b[A\u001b[A\n",
      "\n",
      "\n",
      "t:  79%|███████▉  | 1449/1830 [01:29<00:20, 18.38it/s, now=None]\u001b[A\u001b[A\u001b[A"
     ]
    },
    {
     "name": "stdout",
     "output_type": "stream",
     "text": [
      "5\n",
      "5\n",
      "5\n",
      "5\n",
      "5\n",
      "5\n",
      "5\n",
      "5\n"
     ]
    },
    {
     "name": "stderr",
     "output_type": "stream",
     "text": [
      "\n",
      "\n",
      "\n",
      "t:  79%|███████▉  | 1451/1830 [01:29<00:20, 18.74it/s, now=None]\u001b[A\u001b[A\u001b[A\n",
      "\n",
      "\n",
      "t:  79%|███████▉  | 1453/1830 [01:29<00:20, 18.83it/s, now=None]\u001b[A\u001b[A\u001b[A"
     ]
    },
    {
     "name": "stdout",
     "output_type": "stream",
     "text": [
      "5\n",
      "5\n",
      "5\n",
      "5\n",
      "5\n",
      "5\n",
      "5\n",
      "5\n",
      "5"
     ]
    },
    {
     "name": "stderr",
     "output_type": "stream",
     "text": [
      "\n",
      "\n",
      "\n",
      "t:  80%|███████▉  | 1456/1830 [01:29<00:19, 19.26it/s, now=None]\u001b[A\u001b[A\u001b[A"
     ]
    },
    {
     "name": "stdout",
     "output_type": "stream",
     "text": [
      "\n",
      "5\n",
      "5\n",
      "5\n",
      "5\n",
      "5\n",
      "5\n",
      "5\n"
     ]
    },
    {
     "name": "stderr",
     "output_type": "stream",
     "text": [
      "\n",
      "\n",
      "\n",
      "t:  80%|███████▉  | 1458/1830 [01:29<00:20, 18.31it/s, now=None]\u001b[A\u001b[A\u001b[A\n",
      "\n",
      "\n",
      "t:  80%|███████▉  | 1460/1830 [01:29<00:21, 17.41it/s, now=None]\u001b[A\u001b[A\u001b[A"
     ]
    },
    {
     "name": "stdout",
     "output_type": "stream",
     "text": [
      "5\n",
      "5\n",
      "5\n",
      "5\n",
      "5\n",
      "5\n",
      "5\n"
     ]
    },
    {
     "name": "stderr",
     "output_type": "stream",
     "text": [
      "\n",
      "\n",
      "\n",
      "t:  80%|███████▉  | 1462/1830 [01:30<00:20, 17.78it/s, now=None]\u001b[A\u001b[A\u001b[A\n",
      "\n",
      "\n",
      "t:  80%|████████  | 1464/1830 [01:30<00:20, 17.89it/s, now=None]\u001b[A\u001b[A\u001b[A"
     ]
    },
    {
     "name": "stdout",
     "output_type": "stream",
     "text": [
      "5\n",
      "5\n",
      "5\n",
      "5\n",
      "5\n",
      "5\n",
      "5\n",
      "5\n",
      "5\n"
     ]
    },
    {
     "name": "stderr",
     "output_type": "stream",
     "text": [
      "\n",
      "\n",
      "\n",
      "t:  80%|████████  | 1466/1830 [01:30<00:20, 17.74it/s, now=None]\u001b[A\u001b[A\u001b[A\n",
      "\n",
      "\n",
      "t:  80%|████████  | 1468/1830 [01:30<00:20, 17.54it/s, now=None]\u001b[A\u001b[A\u001b[A"
     ]
    },
    {
     "name": "stdout",
     "output_type": "stream",
     "text": [
      "5\n",
      "5\n",
      "5\n",
      "5\n",
      "5\n",
      "5\n",
      "5\n"
     ]
    },
    {
     "name": "stderr",
     "output_type": "stream",
     "text": [
      "\n",
      "\n",
      "\n",
      "t:  80%|████████  | 1470/1830 [01:30<00:21, 17.09it/s, now=None]\u001b[A\u001b[A\u001b[A\n",
      "\n",
      "\n",
      "t:  80%|████████  | 1472/1830 [01:30<00:20, 17.64it/s, now=None]\u001b[A\u001b[A\u001b[A"
     ]
    },
    {
     "name": "stdout",
     "output_type": "stream",
     "text": [
      "5\n",
      "1\n",
      "5\n",
      "5\n",
      "5\n",
      "5\n",
      "5\n",
      "5\n",
      "5\n",
      "5"
     ]
    },
    {
     "name": "stderr",
     "output_type": "stream",
     "text": [
      "\n",
      "\n",
      "\n",
      "t:  81%|████████  | 1474/1830 [01:30<00:19, 18.00it/s, now=None]\u001b[A\u001b[A\u001b[A\n",
      "\n",
      "\n",
      "t:  81%|████████  | 1476/1830 [01:30<00:20, 17.47it/s, now=None]\u001b[A\u001b[A\u001b[A"
     ]
    },
    {
     "name": "stdout",
     "output_type": "stream",
     "text": [
      "\n",
      "5\n",
      "5\n",
      "5\n",
      "5\n",
      "5\n",
      "5\n",
      "5\n"
     ]
    },
    {
     "name": "stderr",
     "output_type": "stream",
     "text": [
      "\n",
      "\n",
      "\n",
      "t:  81%|████████  | 1478/1830 [01:30<00:19, 17.68it/s, now=None]\u001b[A\u001b[A\u001b[A\n",
      "\n",
      "\n",
      "t:  81%|████████  | 1480/1830 [01:31<00:20, 17.36it/s, now=None]\u001b[A\u001b[A\u001b[A"
     ]
    },
    {
     "name": "stdout",
     "output_type": "stream",
     "text": [
      "5\n",
      "5\n",
      "5\n",
      "5\n",
      "5\n",
      "5\n",
      "5\n",
      "5\n"
     ]
    },
    {
     "name": "stderr",
     "output_type": "stream",
     "text": [
      "\n",
      "\n",
      "\n",
      "t:  81%|████████  | 1482/1830 [01:31<00:19, 17.44it/s, now=None]\u001b[A\u001b[A\u001b[A\n",
      "\n",
      "\n",
      "t:  81%|████████  | 1484/1830 [01:31<00:20, 17.18it/s, now=None]\u001b[A\u001b[A\u001b[A"
     ]
    },
    {
     "name": "stdout",
     "output_type": "stream",
     "text": [
      "5\n",
      "5\n",
      "5\n",
      "5\n",
      "5\n",
      "5\n",
      "5\n",
      "5\n"
     ]
    },
    {
     "name": "stderr",
     "output_type": "stream",
     "text": [
      "\n",
      "\n",
      "\n",
      "t:  81%|████████  | 1486/1830 [01:31<00:19, 17.43it/s, now=None]\u001b[A\u001b[A\u001b[A\n",
      "\n",
      "\n",
      "t:  81%|████████▏ | 1488/1830 [01:31<00:19, 17.20it/s, now=None]\u001b[A\u001b[A\u001b[A"
     ]
    },
    {
     "name": "stdout",
     "output_type": "stream",
     "text": [
      "5\n",
      "5\n",
      "5\n",
      "5\n",
      "5\n",
      "5\n",
      "5\n",
      "5\n"
     ]
    },
    {
     "name": "stderr",
     "output_type": "stream",
     "text": [
      "\n",
      "\n",
      "\n",
      "t:  81%|████████▏ | 1490/1830 [01:31<00:19, 17.10it/s, now=None]\u001b[A\u001b[A\u001b[A\n",
      "\n",
      "\n",
      "t:  82%|████████▏ | 1492/1830 [01:31<00:19, 17.36it/s, now=None]\u001b[A\u001b[A\u001b[A"
     ]
    },
    {
     "name": "stdout",
     "output_type": "stream",
     "text": [
      "5\n",
      "5\n",
      "5\n",
      "5\n",
      "5\n",
      "5\n",
      "5\n",
      "5\n"
     ]
    },
    {
     "name": "stderr",
     "output_type": "stream",
     "text": [
      "\n",
      "\n",
      "\n",
      "t:  82%|████████▏ | 1494/1830 [01:31<00:18, 17.77it/s, now=None]\u001b[A\u001b[A\u001b[A\n",
      "\n",
      "\n",
      "t:  82%|████████▏ | 1496/1830 [01:31<00:18, 17.84it/s, now=None]\u001b[A\u001b[A\u001b[A"
     ]
    },
    {
     "name": "stdout",
     "output_type": "stream",
     "text": [
      "5\n",
      "5\n",
      "5\n",
      "5\n",
      "5\n",
      "5\n",
      "5\n",
      "5\n"
     ]
    },
    {
     "name": "stderr",
     "output_type": "stream",
     "text": [
      "\n",
      "\n",
      "\n",
      "t:  82%|████████▏ | 1498/1830 [01:32<00:18, 17.75it/s, now=None]\u001b[A\u001b[A\u001b[A\n",
      "\n",
      "\n",
      "t:  82%|████████▏ | 1500/1830 [01:32<00:18, 17.48it/s, now=None]\u001b[A\u001b[A\u001b[A"
     ]
    },
    {
     "name": "stdout",
     "output_type": "stream",
     "text": [
      "5\n",
      "5\n",
      "5\n",
      "5\n",
      "5\n",
      "5\n",
      "5\n",
      "5\n"
     ]
    },
    {
     "name": "stderr",
     "output_type": "stream",
     "text": [
      "\n",
      "\n",
      "\n",
      "t:  82%|████████▏ | 1502/1830 [01:32<00:18, 17.89it/s, now=None]\u001b[A\u001b[A\u001b[A\n",
      "\n",
      "\n",
      "t:  82%|████████▏ | 1504/1830 [01:32<00:18, 17.85it/s, now=None]\u001b[A\u001b[A\u001b[A"
     ]
    },
    {
     "name": "stdout",
     "output_type": "stream",
     "text": [
      "5\n",
      "5\n",
      "5\n",
      "5\n",
      "5\n",
      "5\n",
      "5\n",
      "1\n"
     ]
    },
    {
     "name": "stderr",
     "output_type": "stream",
     "text": [
      "\n",
      "\n",
      "\n",
      "t:  82%|████████▏ | 1506/1830 [01:32<00:18, 17.65it/s, now=None]\u001b[A\u001b[A\u001b[A\n",
      "\n",
      "\n",
      "t:  82%|████████▏ | 1508/1830 [01:32<00:18, 17.64it/s, now=None]\u001b[A\u001b[A\u001b[A"
     ]
    },
    {
     "name": "stdout",
     "output_type": "stream",
     "text": [
      "5\n",
      "5\n",
      "5\n",
      "5\n",
      "5\n",
      "5\n",
      "5\n",
      "5\n"
     ]
    },
    {
     "name": "stderr",
     "output_type": "stream",
     "text": [
      "\n",
      "\n",
      "\n",
      "t:  83%|████████▎ | 1510/1830 [01:32<00:18, 17.65it/s, now=None]\u001b[A\u001b[A\u001b[A\n",
      "\n",
      "\n",
      "t:  83%|████████▎ | 1512/1830 [01:32<00:18, 17.49it/s, now=None]\u001b[A\u001b[A\u001b[A"
     ]
    },
    {
     "name": "stdout",
     "output_type": "stream",
     "text": [
      "5\n",
      "5\n",
      "5\n",
      "5\n",
      "5\n",
      "5\n",
      "5\n",
      "5\n"
     ]
    },
    {
     "name": "stderr",
     "output_type": "stream",
     "text": [
      "\n",
      "\n",
      "\n",
      "t:  83%|████████▎ | 1514/1830 [01:33<00:17, 17.66it/s, now=None]\u001b[A\u001b[A\u001b[A\n",
      "\n",
      "\n",
      "t:  83%|████████▎ | 1516/1830 [01:33<00:17, 17.52it/s, now=None]\u001b[A\u001b[A\u001b[A"
     ]
    },
    {
     "name": "stdout",
     "output_type": "stream",
     "text": [
      "5\n",
      "5\n",
      "5\n",
      "5\n",
      "5\n",
      "5\n",
      "5\n",
      "5\n"
     ]
    },
    {
     "name": "stderr",
     "output_type": "stream",
     "text": [
      "\n",
      "\n",
      "\n",
      "t:  83%|████████▎ | 1518/1830 [01:33<00:18, 17.12it/s, now=None]\u001b[A\u001b[A\u001b[A\n",
      "\n",
      "\n",
      "t:  83%|████████▎ | 1520/1830 [01:33<00:18, 16.62it/s, now=None]\u001b[A\u001b[A\u001b[A"
     ]
    },
    {
     "name": "stdout",
     "output_type": "stream",
     "text": [
      "5\n",
      "5\n",
      "5\n",
      "5\n",
      "5\n",
      "5\n"
     ]
    },
    {
     "name": "stderr",
     "output_type": "stream",
     "text": [
      "\n",
      "\n",
      "\n",
      "t:  83%|████████▎ | 1522/1830 [01:33<00:18, 16.72it/s, now=None]\u001b[A\u001b[A\u001b[A\n",
      "\n",
      "\n",
      "t:  83%|████████▎ | 1524/1830 [01:33<00:17, 17.10it/s, now=None]\u001b[A\u001b[A\u001b[A"
     ]
    },
    {
     "name": "stdout",
     "output_type": "stream",
     "text": [
      "5\n",
      "5\n",
      "5\n",
      "5\n",
      "5\n",
      "5\n",
      "5\n",
      "1\n"
     ]
    },
    {
     "name": "stderr",
     "output_type": "stream",
     "text": [
      "\n",
      "\n",
      "\n",
      "t:  83%|████████▎ | 1526/1830 [01:33<00:17, 17.48it/s, now=None]\u001b[A\u001b[A\u001b[A\n",
      "\n",
      "\n",
      "t:  83%|████████▎ | 1528/1830 [01:33<00:17, 17.16it/s, now=None]\u001b[A\u001b[A\u001b[A"
     ]
    },
    {
     "name": "stdout",
     "output_type": "stream",
     "text": [
      "5\n",
      "5\n",
      "5\n",
      "5\n",
      "5\n",
      "5\n",
      "5\n",
      "5\n"
     ]
    },
    {
     "name": "stderr",
     "output_type": "stream",
     "text": [
      "\n",
      "\n",
      "\n",
      "t:  84%|████████▎ | 1530/1830 [01:33<00:17, 17.51it/s, now=None]\u001b[A\u001b[A\u001b[A\n",
      "\n",
      "\n",
      "t:  84%|████████▎ | 1532/1830 [01:34<00:16, 17.59it/s, now=None]\u001b[A\u001b[A\u001b[A"
     ]
    },
    {
     "name": "stdout",
     "output_type": "stream",
     "text": [
      "5\n",
      "5\n",
      "5\n",
      "5\n",
      "5\n",
      "5\n",
      "5\n",
      "5\n"
     ]
    },
    {
     "name": "stderr",
     "output_type": "stream",
     "text": [
      "\n",
      "\n",
      "\n",
      "t:  84%|████████▍ | 1534/1830 [01:34<00:16, 17.51it/s, now=None]\u001b[A\u001b[A\u001b[A\n",
      "\n",
      "\n",
      "t:  84%|████████▍ | 1536/1830 [01:34<00:16, 17.32it/s, now=None]\u001b[A\u001b[A\u001b[A"
     ]
    },
    {
     "name": "stdout",
     "output_type": "stream",
     "text": [
      "5\n",
      "5\n",
      "5\n",
      "5\n",
      "5\n",
      "5\n",
      "5\n",
      "5\n"
     ]
    },
    {
     "name": "stderr",
     "output_type": "stream",
     "text": [
      "\n",
      "\n",
      "\n",
      "t:  84%|████████▍ | 1538/1830 [01:34<00:16, 18.00it/s, now=None]\u001b[A\u001b[A\u001b[A\n",
      "\n",
      "\n",
      "t:  84%|████████▍ | 1540/1830 [01:34<00:16, 17.90it/s, now=None]\u001b[A\u001b[A\u001b[A"
     ]
    },
    {
     "name": "stdout",
     "output_type": "stream",
     "text": [
      "5\n",
      "5\n",
      "5\n",
      "5\n",
      "5\n",
      "5\n",
      "5\n",
      "5\n"
     ]
    },
    {
     "name": "stderr",
     "output_type": "stream",
     "text": [
      "\n",
      "\n",
      "\n",
      "t:  84%|████████▍ | 1542/1830 [01:34<00:15, 18.40it/s, now=None]\u001b[A\u001b[A\u001b[A\n",
      "\n",
      "\n",
      "t:  84%|████████▍ | 1544/1830 [01:34<00:15, 18.05it/s, now=None]\u001b[A\u001b[A\u001b[A"
     ]
    },
    {
     "name": "stdout",
     "output_type": "stream",
     "text": [
      "5\n",
      "5\n",
      "5\n",
      "5\n",
      "5\n",
      "5\n",
      "5\n",
      "5\n"
     ]
    },
    {
     "name": "stderr",
     "output_type": "stream",
     "text": [
      "\n",
      "\n",
      "\n",
      "t:  84%|████████▍ | 1546/1830 [01:34<00:18, 15.41it/s, now=None]\u001b[A\u001b[A\u001b[A"
     ]
    },
    {
     "name": "stdout",
     "output_type": "stream",
     "text": [
      "5\n",
      "5\n",
      "5\n",
      "5\n",
      "5\n",
      "5\n",
      "5\n",
      "5\n"
     ]
    },
    {
     "name": "stderr",
     "output_type": "stream",
     "text": [
      "\n",
      "\n",
      "\n",
      "t:  85%|████████▍ | 1549/1830 [01:35<00:16, 17.19it/s, now=None]\u001b[A\u001b[A\u001b[A\n",
      "\n",
      "\n",
      "t:  85%|████████▍ | 1551/1830 [01:35<00:15, 17.50it/s, now=None]\u001b[A\u001b[A\u001b[A"
     ]
    },
    {
     "name": "stdout",
     "output_type": "stream",
     "text": [
      "5\n",
      "5\n",
      "5\n",
      "5\n",
      "5\n",
      "5\n",
      "5\n",
      "5\n"
     ]
    },
    {
     "name": "stderr",
     "output_type": "stream",
     "text": [
      "\n",
      "\n",
      "\n",
      "t:  85%|████████▍ | 1553/1830 [01:35<00:15, 17.33it/s, now=None]\u001b[A\u001b[A\u001b[A\n",
      "\n",
      "\n",
      "t:  85%|████████▍ | 1555/1830 [01:35<00:15, 17.32it/s, now=None]\u001b[A\u001b[A\u001b[A"
     ]
    },
    {
     "name": "stdout",
     "output_type": "stream",
     "text": [
      "5\n",
      "5\n",
      "5\n",
      "5\n",
      "5\n",
      "5\n",
      "5\n",
      "5\n"
     ]
    },
    {
     "name": "stderr",
     "output_type": "stream",
     "text": [
      "\n",
      "\n",
      "\n",
      "t:  85%|████████▌ | 1557/1830 [01:35<00:15, 17.28it/s, now=None]\u001b[A\u001b[A\u001b[A\n",
      "\n",
      "\n",
      "t:  85%|████████▌ | 1560/1830 [01:35<00:14, 18.31it/s, now=None]\u001b[A\u001b[A\u001b[A"
     ]
    },
    {
     "name": "stdout",
     "output_type": "stream",
     "text": [
      "5\n",
      "5\n",
      "5\n",
      "5\n",
      "5\n",
      "5\n",
      "5\n",
      "5\n"
     ]
    },
    {
     "name": "stderr",
     "output_type": "stream",
     "text": [
      "\n",
      "\n",
      "\n",
      "t:  85%|████████▌ | 1562/1830 [01:35<00:14, 18.20it/s, now=None]\u001b[A\u001b[A\u001b[A\n",
      "\n",
      "\n",
      "t:  85%|████████▌ | 1564/1830 [01:35<00:14, 18.17it/s, now=None]\u001b[A\u001b[A\u001b[A"
     ]
    },
    {
     "name": "stdout",
     "output_type": "stream",
     "text": [
      "5\n",
      "5\n",
      "5\n",
      "5\n",
      "5\n",
      "5\n",
      "5\n",
      "5\n"
     ]
    },
    {
     "name": "stderr",
     "output_type": "stream",
     "text": [
      "\n",
      "\n",
      "\n",
      "t:  86%|████████▌ | 1566/1830 [01:35<00:14, 18.17it/s, now=None]\u001b[A\u001b[A\u001b[A\n",
      "\n",
      "\n",
      "t:  86%|████████▌ | 1568/1830 [01:36<00:14, 17.81it/s, now=None]\u001b[A\u001b[A\u001b[A"
     ]
    },
    {
     "name": "stdout",
     "output_type": "stream",
     "text": [
      "5\n",
      "5\n",
      "5\n",
      "5\n",
      "5\n",
      "5\n",
      "5\n",
      "5\n"
     ]
    },
    {
     "name": "stderr",
     "output_type": "stream",
     "text": [
      "\n",
      "\n",
      "\n",
      "t:  86%|████████▌ | 1570/1830 [01:36<00:14, 17.66it/s, now=None]\u001b[A\u001b[A\u001b[A\n",
      "\n",
      "\n",
      "t:  86%|████████▌ | 1572/1830 [01:36<00:14, 17.62it/s, now=None]\u001b[A\u001b[A\u001b[A"
     ]
    },
    {
     "name": "stdout",
     "output_type": "stream",
     "text": [
      "5\n",
      "5\n",
      "5\n",
      "5\n",
      "5\n",
      "5\n",
      "5\n",
      "5\n"
     ]
    },
    {
     "name": "stderr",
     "output_type": "stream",
     "text": [
      "\n",
      "\n",
      "\n",
      "t:  86%|████████▌ | 1574/1830 [01:36<00:14, 17.56it/s, now=None]\u001b[A\u001b[A\u001b[A\n",
      "\n",
      "\n",
      "t:  86%|████████▌ | 1576/1830 [01:36<00:14, 17.72it/s, now=None]\u001b[A\u001b[A\u001b[A"
     ]
    },
    {
     "name": "stdout",
     "output_type": "stream",
     "text": [
      "5\n",
      "5\n",
      "5\n",
      "5\n",
      "5\n",
      "5\n",
      "5\n",
      "5\n"
     ]
    },
    {
     "name": "stderr",
     "output_type": "stream",
     "text": [
      "\n",
      "\n",
      "\n",
      "t:  86%|████████▌ | 1578/1830 [01:36<00:14, 17.91it/s, now=None]\u001b[A\u001b[A\u001b[A\n",
      "\n",
      "\n",
      "t:  86%|████████▋ | 1580/1830 [01:36<00:14, 17.24it/s, now=None]\u001b[A\u001b[A\u001b[A"
     ]
    },
    {
     "name": "stdout",
     "output_type": "stream",
     "text": [
      "5\n",
      "5\n",
      "5\n",
      "5\n",
      "5\n",
      "5\n",
      "5\n",
      "5\n"
     ]
    },
    {
     "name": "stderr",
     "output_type": "stream",
     "text": [
      "\n",
      "\n",
      "\n",
      "t:  86%|████████▋ | 1582/1830 [01:36<00:14, 17.53it/s, now=None]\u001b[A\u001b[A\u001b[A\n",
      "\n",
      "\n",
      "t:  87%|████████▋ | 1585/1830 [01:37<00:13, 18.70it/s, now=None]"
     ]
    },
    {
     "name": "stdout",
     "output_type": "stream",
     "text": [
      "5\n",
      "5\n",
      "5\n",
      "5\n",
      "5\n",
      "5\n",
      "5\n",
      "5\n",
      "5\n",
      "5\n"
     ]
    },
    {
     "name": "stderr",
     "output_type": "stream",
     "text": [
      "\u001b[A\u001b[A\u001b[A\n",
      "\n",
      "\n",
      "t:  87%|████████▋ | 1587/1830 [01:37<00:13, 18.17it/s, now=None]\u001b[A\u001b[A\u001b[A\n",
      "\n",
      "\n",
      "t:  87%|████████▋ | 1589/1830 [01:37<00:12, 18.61it/s, now=None]\u001b[A\u001b[A\u001b[A"
     ]
    },
    {
     "name": "stdout",
     "output_type": "stream",
     "text": [
      "5\n",
      "5\n",
      "5\n",
      "5\n",
      "5\n",
      "5\n",
      "5\n",
      "5\n"
     ]
    },
    {
     "name": "stderr",
     "output_type": "stream",
     "text": [
      "\n",
      "\n",
      "\n",
      "t:  87%|████████▋ | 1591/1830 [01:37<00:12, 18.80it/s, now=None]\u001b[A\u001b[A\u001b[A\n",
      "\n",
      "\n",
      "t:  87%|████████▋ | 1593/1830 [01:37<00:13, 17.84it/s, now=None]\u001b[A\u001b[A\u001b[A"
     ]
    },
    {
     "name": "stdout",
     "output_type": "stream",
     "text": [
      "5\n",
      "5\n",
      "5\n",
      "5\n",
      "5\n",
      "5\n",
      "5\n",
      "5\n"
     ]
    },
    {
     "name": "stderr",
     "output_type": "stream",
     "text": [
      "\n",
      "\n",
      "\n",
      "t:  87%|████████▋ | 1595/1830 [01:37<00:13, 18.01it/s, now=None]\u001b[A\u001b[A\u001b[A\n",
      "\n",
      "\n",
      "t:  87%|████████▋ | 1597/1830 [01:37<00:12, 18.49it/s, now=None]\u001b[A\u001b[A\u001b[A"
     ]
    },
    {
     "name": "stdout",
     "output_type": "stream",
     "text": [
      "5\n",
      "5\n",
      "5\n",
      "5\n",
      "5\n",
      "5\n",
      "5\n",
      "5\n"
     ]
    },
    {
     "name": "stderr",
     "output_type": "stream",
     "text": [
      "\n",
      "\n",
      "\n",
      "t:  87%|████████▋ | 1599/1830 [01:37<00:12, 18.36it/s, now=None]\u001b[A\u001b[A\u001b[A\n",
      "\n",
      "\n",
      "t:  87%|████████▋ | 1601/1830 [01:37<00:12, 18.00it/s, now=None]\u001b[A\u001b[A\u001b[A"
     ]
    },
    {
     "name": "stdout",
     "output_type": "stream",
     "text": [
      "5\n",
      "5\n",
      "5\n",
      "5\n",
      "5\n",
      "5\n",
      "5\n",
      "5\n"
     ]
    },
    {
     "name": "stderr",
     "output_type": "stream",
     "text": [
      "\n",
      "\n",
      "\n",
      "t:  88%|████████▊ | 1604/1830 [01:38<00:12, 18.42it/s, now=None]\u001b[A\u001b[A\u001b[A"
     ]
    },
    {
     "name": "stdout",
     "output_type": "stream",
     "text": [
      "5\n",
      "5\n",
      "5\n",
      "5\n",
      "5\n",
      "5\n",
      "5\n",
      "5\n",
      "5"
     ]
    },
    {
     "name": "stderr",
     "output_type": "stream",
     "text": [
      "\n",
      "\n",
      "\n",
      "t:  88%|████████▊ | 1607/1830 [01:38<00:11, 19.31it/s, now=None]\u001b[A\u001b[A\u001b[A\n",
      "\n",
      "\n",
      "t:  88%|████████▊ | 1609/1830 [01:38<00:12, 17.71it/s, now=None]\u001b[A\u001b[A\u001b[A"
     ]
    },
    {
     "name": "stdout",
     "output_type": "stream",
     "text": [
      "\n",
      "5\n",
      "5\n",
      "5\n",
      "5\n",
      "5\n",
      "5\n",
      "5\n",
      "5\n",
      "5\n"
     ]
    },
    {
     "name": "stderr",
     "output_type": "stream",
     "text": [
      "\n",
      "\n",
      "\n",
      "t:  88%|████████▊ | 1611/1830 [01:38<00:12, 17.81it/s, now=None]\u001b[A\u001b[A\u001b[A\n",
      "\n",
      "\n",
      "t:  88%|████████▊ | 1614/1830 [01:38<00:11, 19.21it/s, now=None]\u001b[A\u001b[A\u001b[A"
     ]
    },
    {
     "name": "stdout",
     "output_type": "stream",
     "text": [
      "5\n",
      "5\n",
      "5\n",
      "5\n",
      "5\n",
      "5\n",
      "5\n",
      "5\n",
      "5\n",
      "5\n"
     ]
    },
    {
     "name": "stderr",
     "output_type": "stream",
     "text": [
      "\n",
      "\n",
      "\n",
      "t:  88%|████████▊ | 1616/1830 [01:38<00:11, 18.20it/s, now=None]\u001b[A\u001b[A\u001b[A\n",
      "\n",
      "\n",
      "t:  88%|████████▊ | 1618/1830 [01:38<00:11, 18.57it/s, now=None]\u001b[A\u001b[A\u001b[A"
     ]
    },
    {
     "name": "stdout",
     "output_type": "stream",
     "text": [
      "5\n",
      "5\n",
      "5\n",
      "5\n",
      "5\n",
      "5\n",
      "5\n",
      "5\n"
     ]
    },
    {
     "name": "stderr",
     "output_type": "stream",
     "text": [
      "\n",
      "\n",
      "\n",
      "t:  89%|████████▊ | 1620/1830 [01:38<00:12, 17.42it/s, now=None]\u001b[A\u001b[A\u001b[A\n",
      "\n",
      "\n",
      "t:  89%|████████▊ | 1622/1830 [01:39<00:12, 17.23it/s, now=None]\u001b[A\u001b[A\u001b[A"
     ]
    },
    {
     "name": "stdout",
     "output_type": "stream",
     "text": [
      "5\n",
      "5\n",
      "5\n",
      "5\n",
      "5\n",
      "5\n",
      "5\n",
      "5\n"
     ]
    },
    {
     "name": "stderr",
     "output_type": "stream",
     "text": [
      "\n",
      "\n",
      "\n",
      "t:  89%|████████▊ | 1624/1830 [01:39<00:11, 17.46it/s, now=None]\u001b[A\u001b[A\u001b[A\n",
      "\n",
      "\n",
      "t:  89%|████████▉ | 1626/1830 [01:39<00:12, 16.49it/s, now=None]\u001b[A\u001b[A\u001b[A"
     ]
    },
    {
     "name": "stdout",
     "output_type": "stream",
     "text": [
      "5\n",
      "5\n",
      "5\n",
      "5\n",
      "5\n",
      "5\n"
     ]
    },
    {
     "name": "stderr",
     "output_type": "stream",
     "text": [
      "\n",
      "\n",
      "\n",
      "t:  89%|████████▉ | 1628/1830 [01:39<00:12, 16.51it/s, now=None]\u001b[A\u001b[A\u001b[A\n",
      "\n",
      "\n",
      "t:  89%|████████▉ | 1630/1830 [01:39<00:11, 16.78it/s, now=None]\u001b[A\u001b[A\u001b[A"
     ]
    },
    {
     "name": "stdout",
     "output_type": "stream",
     "text": [
      "5\n",
      "5\n",
      "5\n",
      "5\n",
      "5\n",
      "5\n",
      "5\n",
      "5\n"
     ]
    },
    {
     "name": "stderr",
     "output_type": "stream",
     "text": [
      "\n",
      "\n",
      "\n",
      "t:  89%|████████▉ | 1632/1830 [01:39<00:11, 16.73it/s, now=None]\u001b[A\u001b[A\u001b[A\n",
      "\n",
      "\n",
      "t:  89%|████████▉ | 1634/1830 [01:39<00:11, 16.91it/s, now=None]\u001b[A\u001b[A\u001b[A"
     ]
    },
    {
     "name": "stdout",
     "output_type": "stream",
     "text": [
      "5\n",
      "5\n",
      "5\n",
      "5\n",
      "5\n",
      "5\n",
      "5\n",
      "1\n"
     ]
    },
    {
     "name": "stderr",
     "output_type": "stream",
     "text": [
      "\n",
      "\n",
      "\n",
      "t:  89%|████████▉ | 1636/1830 [01:39<00:11, 16.91it/s, now=None]\u001b[A\u001b[A\u001b[A\n",
      "\n",
      "\n",
      "t:  90%|████████▉ | 1638/1830 [01:40<00:11, 17.21it/s, now=None]\u001b[A\u001b[A\u001b[A"
     ]
    },
    {
     "name": "stdout",
     "output_type": "stream",
     "text": [
      "5\n",
      "1\n",
      "5\n",
      "1\n",
      "5\n",
      "5\n",
      "5\n",
      "5\n"
     ]
    },
    {
     "name": "stderr",
     "output_type": "stream",
     "text": [
      "\n",
      "\n",
      "\n",
      "t:  90%|████████▉ | 1640/1830 [01:40<00:11, 16.44it/s, now=None]\u001b[A\u001b[A\u001b[A\n",
      "\n",
      "\n",
      "t:  90%|████████▉ | 1642/1830 [01:40<00:11, 16.89it/s, now=None]\u001b[A\u001b[A\u001b[A"
     ]
    },
    {
     "name": "stdout",
     "output_type": "stream",
     "text": [
      "5\n",
      "5\n",
      "5\n",
      "5\n",
      "5\n",
      "5\n",
      "5\n",
      "5\n"
     ]
    },
    {
     "name": "stderr",
     "output_type": "stream",
     "text": [
      "\n",
      "\n",
      "\n",
      "t:  90%|████████▉ | 1644/1830 [01:40<00:11, 16.34it/s, now=None]\u001b[A\u001b[A\u001b[A\n",
      "\n",
      "\n",
      "t:  90%|████████▉ | 1646/1830 [01:40<00:10, 16.73it/s, now=None]\u001b[A\u001b[A\u001b[A"
     ]
    },
    {
     "name": "stdout",
     "output_type": "stream",
     "text": [
      "5\n",
      "5\n",
      "5\n",
      "5\n",
      "5\n",
      "5\n",
      "5\n",
      "5\n"
     ]
    },
    {
     "name": "stderr",
     "output_type": "stream",
     "text": [
      "\n",
      "\n",
      "\n",
      "t:  90%|█████████ | 1648/1830 [01:40<00:11, 16.52it/s, now=None]\u001b[A\u001b[A\u001b[A\n",
      "\n",
      "\n",
      "t:  90%|█████████ | 1650/1830 [01:40<00:10, 16.95it/s, now=None]\u001b[A\u001b[A\u001b[A"
     ]
    },
    {
     "name": "stdout",
     "output_type": "stream",
     "text": [
      "5\n",
      "5\n",
      "5\n",
      "5\n",
      "5\n",
      "5\n",
      "5\n",
      "5\n"
     ]
    },
    {
     "name": "stderr",
     "output_type": "stream",
     "text": [
      "\n",
      "\n",
      "\n",
      "t:  90%|█████████ | 1652/1830 [01:40<00:10, 16.20it/s, now=None]\u001b[A\u001b[A\u001b[A\n",
      "\n",
      "\n",
      "t:  90%|█████████ | 1654/1830 [01:41<00:10, 16.51it/s, now=None]\u001b[A\u001b[A\u001b[A"
     ]
    },
    {
     "name": "stdout",
     "output_type": "stream",
     "text": [
      "5\n",
      "5\n",
      "5\n",
      "5\n",
      "5\n",
      "5\n",
      "5\n",
      "5\n"
     ]
    },
    {
     "name": "stderr",
     "output_type": "stream",
     "text": [
      "\n",
      "\n",
      "\n",
      "t:  90%|█████████ | 1656/1830 [01:41<00:10, 15.87it/s, now=None]\u001b[A\u001b[A\u001b[A\n",
      "\n",
      "\n",
      "t:  91%|█████████ | 1658/1830 [01:41<00:10, 16.40it/s, now=None]\u001b[A\u001b[A\u001b[A"
     ]
    },
    {
     "name": "stdout",
     "output_type": "stream",
     "text": [
      "5\n",
      "5\n",
      "5\n",
      "5\n",
      "5\n",
      "5\n",
      "5\n",
      "5\n"
     ]
    },
    {
     "name": "stderr",
     "output_type": "stream",
     "text": [
      "\n",
      "\n",
      "\n",
      "t:  91%|█████████ | 1660/1830 [01:41<00:10, 16.13it/s, now=None]\u001b[A\u001b[A\u001b[A\n",
      "\n",
      "\n",
      "t:  91%|█████████ | 1662/1830 [01:41<00:10, 16.47it/s, now=None]\u001b[A\u001b[A\u001b[A"
     ]
    },
    {
     "name": "stdout",
     "output_type": "stream",
     "text": [
      "5\n",
      "5\n",
      "5\n",
      "5\n",
      "5\n",
      "5\n",
      "5\n",
      "5\n"
     ]
    },
    {
     "name": "stderr",
     "output_type": "stream",
     "text": [
      "\n",
      "\n",
      "\n",
      "t:  91%|█████████ | 1664/1830 [01:41<00:10, 15.68it/s, now=None]\u001b[A\u001b[A\u001b[A\n",
      "\n",
      "\n",
      "t:  91%|█████████ | 1666/1830 [01:41<00:10, 15.92it/s, now=None]\u001b[A\u001b[A\u001b[A"
     ]
    },
    {
     "name": "stdout",
     "output_type": "stream",
     "text": [
      "5\n",
      "5\n",
      "5\n",
      "5\n",
      "5\n",
      "5\n",
      "5\n",
      "5\n"
     ]
    },
    {
     "name": "stderr",
     "output_type": "stream",
     "text": [
      "\n",
      "\n",
      "\n",
      "t:  91%|█████████ | 1668/1830 [01:41<00:10, 14.74it/s, now=None]\u001b[A\u001b[A\u001b[A\n",
      "\n",
      "\n",
      "t:  91%|█████████▏| 1670/1830 [01:42<00:10, 15.18it/s, now=None]\u001b[A\u001b[A\u001b[A"
     ]
    },
    {
     "name": "stdout",
     "output_type": "stream",
     "text": [
      "5\n",
      "5\n",
      "5\n",
      "5\n",
      "5\n",
      "5\n",
      "5\n",
      "5\n"
     ]
    },
    {
     "name": "stderr",
     "output_type": "stream",
     "text": [
      "\n",
      "\n",
      "\n",
      "t:  91%|█████████▏| 1672/1830 [01:42<00:10, 15.56it/s, now=None]\u001b[A\u001b[A\u001b[A"
     ]
    },
    {
     "name": "stdout",
     "output_type": "stream",
     "text": [
      "5\n",
      "5\n",
      "5\n",
      "5\n",
      "5\n",
      "5\n",
      "5\n",
      "5\n"
     ]
    },
    {
     "name": "stderr",
     "output_type": "stream",
     "text": [
      "\n",
      "\n",
      "\n",
      "t:  91%|█████████▏| 1674/1830 [01:42<00:10, 15.23it/s, now=None]\u001b[A\u001b[A\u001b[A\n",
      "\n",
      "\n",
      "t:  92%|█████████▏| 1676/1830 [01:42<00:10, 15.37it/s, now=None]\u001b[A\u001b[A\u001b[A\n",
      "\n",
      "\n",
      "t:  92%|█████████▏| 1678/1830 [01:42<00:09, 15.84it/s, now=None]\u001b[A\u001b[A\u001b[A"
     ]
    },
    {
     "name": "stdout",
     "output_type": "stream",
     "text": [
      "5\n",
      "5\n",
      "5\n",
      "5\n",
      "5\n",
      "5\n",
      "5\n",
      "5\n"
     ]
    },
    {
     "name": "stderr",
     "output_type": "stream",
     "text": [
      "\n",
      "\n",
      "\n",
      "t:  92%|█████████▏| 1680/1830 [01:42<00:09, 15.12it/s, now=None]\u001b[A\u001b[A\u001b[A\n",
      "\n",
      "\n"
     ]
    },
    {
     "name": "stdout",
     "output_type": "stream",
     "text": [
      "5\n",
      "5\n",
      "5\n",
      "5\n",
      "5\n",
      "5\n",
      "5\n",
      "5\n"
     ]
    },
    {
     "name": "stderr",
     "output_type": "stream",
     "text": [
      "t:  92%|█████████▏| 1682/1830 [01:42<00:09, 15.46it/s, now=None]\u001b[A\u001b[A\u001b[A\n",
      "\n",
      "\n",
      "t:  92%|█████████▏| 1684/1830 [01:42<00:09, 15.45it/s, now=None]\u001b[A\u001b[A\u001b[A\n",
      "\n",
      "\n",
      "t:  92%|█████████▏| 1686/1830 [01:43<00:09, 15.61it/s, now=None]\u001b[A\u001b[A\u001b[A"
     ]
    },
    {
     "name": "stdout",
     "output_type": "stream",
     "text": [
      "5\n",
      "5\n",
      "5\n",
      "5\n",
      "5\n",
      "5\n",
      "5\n",
      "5\n"
     ]
    },
    {
     "name": "stderr",
     "output_type": "stream",
     "text": [
      "\n",
      "\n",
      "\n",
      "t:  92%|█████████▏| 1688/1830 [01:43<00:09, 14.49it/s, now=None]\u001b[A\u001b[A\u001b[A"
     ]
    },
    {
     "name": "stdout",
     "output_type": "stream",
     "text": [
      "5\n",
      "5\n",
      "5\n",
      "5\n",
      "5\n",
      "5\n",
      "5\n",
      "5\n"
     ]
    },
    {
     "name": "stderr",
     "output_type": "stream",
     "text": [
      "\n",
      "\n",
      "\n",
      "t:  92%|█████████▏| 1691/1830 [01:43<00:08, 16.33it/s, now=None]\u001b[A\u001b[A\u001b[A\n",
      "\n",
      "\n",
      "t:  93%|█████████▎| 1693/1830 [01:43<00:09, 15.08it/s, now=None]\u001b[A\u001b[A\u001b[A"
     ]
    },
    {
     "name": "stdout",
     "output_type": "stream",
     "text": [
      "5\n",
      "5\n",
      "5\n",
      "5\n",
      "5\n",
      "5\n"
     ]
    },
    {
     "name": "stderr",
     "output_type": "stream",
     "text": [
      "\n",
      "\n",
      "\n",
      "t:  93%|█████████▎| 1695/1830 [01:43<00:08, 16.09it/s, now=None]\u001b[A\u001b[A\u001b[A"
     ]
    },
    {
     "name": "stdout",
     "output_type": "stream",
     "text": [
      "5\n",
      "5\n",
      "5\n",
      "5\n",
      "5\n",
      "5\n"
     ]
    },
    {
     "name": "stderr",
     "output_type": "stream",
     "text": [
      "\n",
      "\n",
      "\n",
      "t:  93%|█████████▎| 1697/1830 [01:43<00:09, 14.61it/s, now=None]\u001b[A\u001b[A\u001b[A\n",
      "\n",
      "\n",
      "t:  93%|█████████▎| 1700/1830 [01:44<00:08, 15.29it/s, now=None]"
     ]
    },
    {
     "name": "stdout",
     "output_type": "stream",
     "text": [
      "5\n",
      "5\n",
      "5\n",
      "5\n",
      "5\n",
      "5\n",
      "5\n",
      "5\n"
     ]
    },
    {
     "name": "stderr",
     "output_type": "stream",
     "text": [
      "\u001b[A\u001b[A\u001b[A\n",
      "\n",
      "\n",
      "t:  93%|█████████▎| 1702/1830 [01:44<00:07, 16.25it/s, now=None]\u001b[A\u001b[A\u001b[A\n",
      "\n",
      "\n",
      "t:  93%|█████████▎| 1704/1830 [01:44<00:07, 16.26it/s, now=None]\u001b[A\u001b[A\u001b[A"
     ]
    },
    {
     "name": "stdout",
     "output_type": "stream",
     "text": [
      "5\n",
      "5\n",
      "5\n",
      "5\n",
      "5\n",
      "5\n",
      "5\n",
      "5\n"
     ]
    },
    {
     "name": "stderr",
     "output_type": "stream",
     "text": [
      "\n",
      "\n",
      "\n",
      "t:  93%|█████████▎| 1706/1830 [01:44<00:07, 16.28it/s, now=None]\u001b[A\u001b[A\u001b[A\n",
      "\n",
      "\n",
      "t:  93%|█████████▎| 1708/1830 [01:44<00:07, 16.92it/s, now=None]\u001b[A\u001b[A\u001b[A"
     ]
    },
    {
     "name": "stdout",
     "output_type": "stream",
     "text": [
      "5\n",
      "5\n",
      "5\n",
      "5\n",
      "5\n",
      "5\n",
      "5\n",
      "5\n"
     ]
    },
    {
     "name": "stderr",
     "output_type": "stream",
     "text": [
      "\n",
      "\n",
      "\n",
      "t:  93%|█████████▎| 1710/1830 [01:44<00:07, 16.66it/s, now=None]\u001b[A\u001b[A\u001b[A\n",
      "\n",
      "\n",
      "t:  94%|█████████▎| 1712/1830 [01:44<00:06, 17.05it/s, now=None]\u001b[A\u001b[A\u001b[A"
     ]
    },
    {
     "name": "stdout",
     "output_type": "stream",
     "text": [
      "5\n",
      "5\n",
      "5\n",
      "5\n",
      "5\n",
      "5\n",
      "5\n",
      "5\n"
     ]
    },
    {
     "name": "stderr",
     "output_type": "stream",
     "text": [
      "\n",
      "\n",
      "\n",
      "t:  94%|█████████▎| 1714/1830 [01:44<00:06, 17.24it/s, now=None]\u001b[A\u001b[A\u001b[A\n",
      "\n",
      "\n",
      "t:  94%|█████████▍| 1716/1830 [01:44<00:06, 17.24it/s, now=None]\u001b[A\u001b[A\u001b[A"
     ]
    },
    {
     "name": "stdout",
     "output_type": "stream",
     "text": [
      "5\n",
      "5\n",
      "5\n",
      "5\n",
      "5\n",
      "5\n",
      "5\n",
      "5\n"
     ]
    },
    {
     "name": "stderr",
     "output_type": "stream",
     "text": [
      "\n",
      "\n",
      "\n",
      "t:  94%|█████████▍| 1718/1830 [01:45<00:06, 16.09it/s, now=None]\u001b[A\u001b[A\u001b[A\n",
      "\n",
      "\n",
      "t:  94%|█████████▍| 1720/1830 [01:45<00:06, 16.66it/s, now=None]\u001b[A\u001b[A\u001b[A"
     ]
    },
    {
     "name": "stdout",
     "output_type": "stream",
     "text": [
      "5\n",
      "5\n",
      "5\n",
      "5\n",
      "5\n",
      "5\n",
      "5\n",
      "5\n"
     ]
    },
    {
     "name": "stderr",
     "output_type": "stream",
     "text": [
      "\n",
      "\n",
      "\n",
      "t:  94%|█████████▍| 1722/1830 [01:45<00:07, 14.89it/s, now=None]\u001b[A\u001b[A\u001b[A\n",
      "\n",
      "\n",
      "t:  94%|█████████▍| 1724/1830 [01:45<00:06, 15.34it/s, now=None]\u001b[A\u001b[A\u001b[A"
     ]
    },
    {
     "name": "stdout",
     "output_type": "stream",
     "text": [
      "5\n",
      "5\n",
      "5\n",
      "5\n",
      "5\n",
      "5\n",
      "5\n",
      "5\n"
     ]
    },
    {
     "name": "stderr",
     "output_type": "stream",
     "text": [
      "\n",
      "\n",
      "\n",
      "t:  94%|█████████▍| 1726/1830 [01:45<00:07, 14.46it/s, now=None]\u001b[A\u001b[A\u001b[A"
     ]
    },
    {
     "name": "stdout",
     "output_type": "stream",
     "text": [
      "5\n",
      "5\n",
      "5\n",
      "5\n",
      "5\n",
      "5\n",
      "5\n",
      "5\n"
     ]
    },
    {
     "name": "stderr",
     "output_type": "stream",
     "text": [
      "\n",
      "\n",
      "\n",
      "t:  94%|█████████▍| 1728/1830 [01:45<00:06, 14.66it/s, now=None]\u001b[A\u001b[A\u001b[A\n",
      "\n",
      "\n",
      "t:  95%|█████████▍| 1730/1830 [01:45<00:06, 14.92it/s, now=None]\u001b[A\u001b[A\u001b[A\n",
      "\n",
      "\n",
      "t:  95%|█████████▍| 1732/1830 [01:46<00:06, 15.42it/s, now=None]\u001b[A\u001b[A\u001b[A"
     ]
    },
    {
     "name": "stdout",
     "output_type": "stream",
     "text": [
      "5\n",
      "5\n",
      "5\n",
      "5\n",
      "5\n",
      "5\n",
      "5\n",
      "5\n"
     ]
    },
    {
     "name": "stderr",
     "output_type": "stream",
     "text": [
      "\n",
      "\n",
      "\n",
      "t:  95%|█████████▍| 1734/1830 [01:46<00:05, 16.07it/s, now=None]\u001b[A\u001b[A\u001b[A\n",
      "\n",
      "\n",
      "t:  95%|█████████▍| 1736/1830 [01:46<00:05, 16.64it/s, now=None]\u001b[A\u001b[A\u001b[A"
     ]
    },
    {
     "name": "stdout",
     "output_type": "stream",
     "text": [
      "5\n",
      "5\n",
      "5\n",
      "5\n",
      "5\n",
      "5\n",
      "5\n",
      "5\n"
     ]
    },
    {
     "name": "stderr",
     "output_type": "stream",
     "text": [
      "\n",
      "\n",
      "\n",
      "t:  95%|█████████▍| 1738/1830 [01:46<00:05, 17.09it/s, now=None]\u001b[A\u001b[A\u001b[A\n",
      "\n",
      "\n",
      "t:  95%|█████████▌| 1740/1830 [01:46<00:05, 17.19it/s, now=None]\u001b[A\u001b[A\u001b[A"
     ]
    },
    {
     "name": "stdout",
     "output_type": "stream",
     "text": [
      "5\n",
      "5\n",
      "5\n",
      "5\n",
      "5\n",
      "5\n",
      "5\n",
      "5\n"
     ]
    },
    {
     "name": "stderr",
     "output_type": "stream",
     "text": [
      "\n",
      "\n",
      "\n",
      "t:  95%|█████████▌| 1742/1830 [01:46<00:05, 17.31it/s, now=None]\u001b[A\u001b[A\u001b[A\n",
      "\n",
      "\n",
      "t:  95%|█████████▌| 1744/1830 [01:46<00:04, 17.33it/s, now=None]\u001b[A\u001b[A\u001b[A"
     ]
    },
    {
     "name": "stdout",
     "output_type": "stream",
     "text": [
      "5\n",
      "5\n",
      "5\n",
      "5\n",
      "5\n",
      "5\n",
      "5\n",
      "5\n"
     ]
    },
    {
     "name": "stderr",
     "output_type": "stream",
     "text": [
      "\n",
      "\n",
      "\n",
      "t:  95%|█████████▌| 1746/1830 [01:46<00:05, 16.39it/s, now=None]\u001b[A\u001b[A\u001b[A\n",
      "\n",
      "\n"
     ]
    },
    {
     "name": "stdout",
     "output_type": "stream",
     "text": [
      "5\n",
      "5\n",
      "5\n",
      "5\n",
      "5\n",
      "5\n",
      "5\n",
      "5\n"
     ]
    },
    {
     "name": "stderr",
     "output_type": "stream",
     "text": [
      "t:  96%|█████████▌| 1748/1830 [01:46<00:05, 15.82it/s, now=None]\u001b[A\u001b[A\u001b[A\n",
      "\n",
      "\n",
      "t:  96%|█████████▌| 1750/1830 [01:47<00:05, 15.51it/s, now=None]\u001b[A\u001b[A\u001b[A\n",
      "\n",
      "\n",
      "t:  96%|█████████▌| 1752/1830 [01:47<00:05, 15.19it/s, now=None]\u001b[A\u001b[A\u001b[A"
     ]
    },
    {
     "name": "stdout",
     "output_type": "stream",
     "text": [
      "5\n",
      "5\n",
      "5\n",
      "5\n",
      "5\n",
      "5\n",
      "5\n",
      "5\n"
     ]
    },
    {
     "name": "stderr",
     "output_type": "stream",
     "text": [
      "\n",
      "\n",
      "\n",
      "t:  96%|█████████▌| 1754/1830 [01:47<00:04, 15.21it/s, now=None]\u001b[A\u001b[A\u001b[A"
     ]
    },
    {
     "name": "stdout",
     "output_type": "stream",
     "text": [
      "5\n",
      "5\n",
      "5\n",
      "5\n",
      "5\n",
      "5\n"
     ]
    },
    {
     "name": "stderr",
     "output_type": "stream",
     "text": [
      "\n",
      "\n",
      "\n",
      "t:  96%|█████████▌| 1756/1830 [01:47<00:05, 14.09it/s, now=None]\u001b[A\u001b[A\u001b[A\n",
      "\n",
      "\n",
      "t:  96%|█████████▌| 1758/1830 [01:47<00:04, 14.65it/s, now=None]\u001b[A\u001b[A\u001b[A"
     ]
    },
    {
     "name": "stdout",
     "output_type": "stream",
     "text": [
      "5\n",
      "5\n",
      "5\n",
      "5\n",
      "5\n",
      "5\n",
      "5\n",
      "5\n"
     ]
    },
    {
     "name": "stderr",
     "output_type": "stream",
     "text": [
      "\n",
      "\n",
      "\n",
      "t:  96%|█████████▌| 1760/1830 [01:47<00:04, 14.39it/s, now=None]\u001b[A\u001b[A\u001b[A\n",
      "\n",
      "\n",
      "t:  96%|█████████▋| 1762/1830 [01:47<00:05, 13.37it/s, now=None]\u001b[A\u001b[A\u001b[A"
     ]
    },
    {
     "name": "stdout",
     "output_type": "stream",
     "text": [
      "5\n",
      "5\n",
      "5\n",
      "5\n",
      "5\n",
      "5\n"
     ]
    },
    {
     "name": "stderr",
     "output_type": "stream",
     "text": [
      "\n",
      "\n",
      "\n",
      "t:  96%|█████████▋| 1764/1830 [01:48<00:04, 13.37it/s, now=None]\u001b[A\u001b[A\u001b[A\n",
      "\n",
      "\n",
      "t:  97%|█████████▋| 1766/1830 [01:48<00:04, 13.93it/s, now=None]"
     ]
    },
    {
     "name": "stdout",
     "output_type": "stream",
     "text": [
      "5\n",
      "5\n",
      "5\n",
      "5\n",
      "5\n",
      "5\n",
      "5\n",
      "5\n"
     ]
    },
    {
     "name": "stderr",
     "output_type": "stream",
     "text": [
      "\u001b[A\u001b[A\u001b[A\n",
      "\n",
      "\n",
      "t:  97%|█████████▋| 1768/1830 [01:48<00:04, 13.64it/s, now=None]\u001b[A\u001b[A\u001b[A"
     ]
    },
    {
     "name": "stdout",
     "output_type": "stream",
     "text": [
      "5\n",
      "5\n",
      "5\n",
      "5\n",
      "5\n",
      "5\n",
      "5"
     ]
    },
    {
     "name": "stderr",
     "output_type": "stream",
     "text": [
      "\n",
      "\n",
      "\n",
      "t:  97%|█████████▋| 1770/1830 [01:48<00:04, 13.95it/s, now=None]\u001b[A\u001b[A\u001b[A\n",
      "\n",
      "\n",
      "t:  97%|█████████▋| 1772/1830 [01:48<00:04, 13.53it/s, now=None]\u001b[A\u001b[A\u001b[A"
     ]
    },
    {
     "name": "stdout",
     "output_type": "stream",
     "text": [
      "\n",
      "5\n",
      "5\n",
      "5\n",
      "5\n",
      "5\n"
     ]
    },
    {
     "name": "stderr",
     "output_type": "stream",
     "text": [
      "\n",
      "\n",
      "\n",
      "t:  97%|█████████▋| 1774/1830 [01:48<00:04, 13.71it/s, now=None]\u001b[A\u001b[A\u001b[A"
     ]
    },
    {
     "name": "stdout",
     "output_type": "stream",
     "text": [
      "5\n",
      "5\n",
      "5\n",
      "5\n",
      "5\n",
      "5\n",
      "5"
     ]
    },
    {
     "name": "stderr",
     "output_type": "stream",
     "text": [
      "\n",
      "\n",
      "\n",
      "t:  97%|█████████▋| 1776/1830 [01:49<00:04, 13.23it/s, now=None]\u001b[A\u001b[A\u001b[A\n",
      "\n",
      "\n",
      "t:  97%|█████████▋| 1778/1830 [01:49<00:03, 13.42it/s, now=None]\u001b[A\u001b[A\u001b[A"
     ]
    },
    {
     "name": "stdout",
     "output_type": "stream",
     "text": [
      "\n",
      "5\n",
      "5\n",
      "5\n",
      "5\n",
      "5\n"
     ]
    },
    {
     "name": "stderr",
     "output_type": "stream",
     "text": [
      "\n",
      "\n",
      "\n",
      "t:  97%|█████████▋| 1780/1830 [01:49<00:03, 13.06it/s, now=None]\u001b[A\u001b[A\u001b[A"
     ]
    },
    {
     "name": "stdout",
     "output_type": "stream",
     "text": [
      "5\n",
      "5\n",
      "5\n",
      "5\n",
      "5\n",
      "5\n"
     ]
    },
    {
     "name": "stderr",
     "output_type": "stream",
     "text": [
      "\n",
      "\n",
      "\n",
      "t:  97%|█████████▋| 1782/1830 [01:49<00:03, 13.14it/s, now=None]\u001b[A\u001b[A\u001b[A\n",
      "\n",
      "\n",
      "t:  97%|█████████▋| 1784/1830 [01:49<00:03, 13.19it/s, now=None]\u001b[A\u001b[A\u001b[A"
     ]
    },
    {
     "name": "stdout",
     "output_type": "stream",
     "text": [
      "5\n",
      "5\n",
      "5\n",
      "5\n",
      "5\n",
      "5\n"
     ]
    },
    {
     "name": "stderr",
     "output_type": "stream",
     "text": [
      "\n",
      "\n",
      "\n",
      "t:  98%|█████████▊| 1786/1830 [01:49<00:03, 12.99it/s, now=None]\u001b[A\u001b[A\u001b[A"
     ]
    },
    {
     "name": "stdout",
     "output_type": "stream",
     "text": [
      "5\n",
      "5\n",
      "5\n",
      "5\n",
      "5\n",
      "5\n"
     ]
    },
    {
     "name": "stderr",
     "output_type": "stream",
     "text": [
      "\n",
      "\n",
      "\n",
      "t:  98%|█████████▊| 1788/1830 [01:49<00:03, 12.63it/s, now=None]\u001b[A\u001b[A\u001b[A"
     ]
    },
    {
     "name": "stdout",
     "output_type": "stream",
     "text": [
      "5\n",
      "5\n",
      "5\n",
      "5\n"
     ]
    },
    {
     "name": "stderr",
     "output_type": "stream",
     "text": [
      "\n",
      "\n",
      "\n",
      "t:  98%|█████████▊| 1790/1830 [01:50<00:03, 11.71it/s, now=None]\u001b[A\u001b[A\u001b[A\n",
      "\n",
      "\n",
      "t:  98%|█████████▊| 1792/1830 [01:50<00:03, 12.11it/s, now=None]\u001b[A\u001b[A\u001b[A"
     ]
    },
    {
     "name": "stdout",
     "output_type": "stream",
     "text": [
      "5\n",
      "5\n",
      "5\n",
      "5\n",
      "5\n",
      "5\n"
     ]
    },
    {
     "name": "stderr",
     "output_type": "stream",
     "text": [
      "\n",
      "\n",
      "\n",
      "t:  98%|█████████▊| 1794/1830 [01:50<00:02, 12.60it/s, now=None]\u001b[A\u001b[A\u001b[A"
     ]
    },
    {
     "name": "stdout",
     "output_type": "stream",
     "text": [
      "5\n",
      "5\n",
      "5\n",
      "5\n",
      "5\n",
      "5\n"
     ]
    },
    {
     "name": "stderr",
     "output_type": "stream",
     "text": [
      "\n",
      "\n",
      "\n",
      "t:  98%|█████████▊| 1796/1830 [01:50<00:02, 12.26it/s, now=None]\u001b[A\u001b[A\u001b[A\n",
      "\n",
      "\n",
      "t:  98%|█████████▊| 1798/1830 [01:50<00:02, 12.79it/s, now=None]\u001b[A\u001b[A\u001b[A"
     ]
    },
    {
     "name": "stdout",
     "output_type": "stream",
     "text": [
      "5\n",
      "5\n",
      "5\n",
      "5\n",
      "5\n",
      "5\n"
     ]
    },
    {
     "name": "stderr",
     "output_type": "stream",
     "text": [
      "\n",
      "\n",
      "\n",
      "t:  98%|█████████▊| 1800/1830 [01:50<00:02, 12.72it/s, now=None]\u001b[A\u001b[A\u001b[A\n",
      "\n",
      "\n",
      "t:  98%|█████████▊| 1802/1830 [01:51<00:02, 13.57it/s, now=None]\u001b[A\u001b[A\u001b[A"
     ]
    },
    {
     "name": "stdout",
     "output_type": "stream",
     "text": [
      "5\n",
      "5\n",
      "5\n",
      "5\n",
      "5\n",
      "5\n",
      "5\n",
      "5\n"
     ]
    },
    {
     "name": "stderr",
     "output_type": "stream",
     "text": [
      "\n",
      "\n",
      "\n",
      "t:  99%|█████████▊| 1804/1830 [01:51<00:01, 13.32it/s, now=None]\u001b[A\u001b[A\u001b[A"
     ]
    },
    {
     "name": "stdout",
     "output_type": "stream",
     "text": [
      "5\n",
      "5\n",
      "5\n",
      "5\n",
      "5\n",
      "5\n"
     ]
    },
    {
     "name": "stderr",
     "output_type": "stream",
     "text": [
      "\n",
      "\n",
      "\n",
      "t:  99%|█████████▊| 1806/1830 [01:51<00:01, 13.26it/s, now=None]\u001b[A\u001b[A\u001b[A\n",
      "\n",
      "\n",
      "t:  99%|█████████▉| 1808/1830 [01:51<00:01, 12.73it/s, now=None]\u001b[A\u001b[A\u001b[A"
     ]
    },
    {
     "name": "stdout",
     "output_type": "stream",
     "text": [
      "5\n",
      "5\n",
      "5\n",
      "5\n",
      "5\n",
      "5\n"
     ]
    },
    {
     "name": "stderr",
     "output_type": "stream",
     "text": [
      "\n",
      "\n",
      "\n",
      "t:  99%|█████████▉| 1810/1830 [01:51<00:01, 12.67it/s, now=None]\u001b[A\u001b[A\u001b[A"
     ]
    },
    {
     "name": "stdout",
     "output_type": "stream",
     "text": [
      "5\n",
      "5\n",
      "5\n",
      "5\n",
      "5\n",
      "5\n"
     ]
    },
    {
     "name": "stderr",
     "output_type": "stream",
     "text": [
      "\n",
      "\n",
      "\n",
      "t:  99%|█████████▉| 1812/1830 [01:51<00:01, 12.59it/s, now=None]\u001b[A\u001b[A\u001b[A\n",
      "\n",
      "\n",
      "t:  99%|█████████▉| 1814/1830 [01:52<00:01, 12.03it/s, now=None]"
     ]
    },
    {
     "name": "stdout",
     "output_type": "stream",
     "text": [
      "5\n",
      "5\n",
      "5\n",
      "5\n",
      "5\n",
      "5\n"
     ]
    },
    {
     "name": "stderr",
     "output_type": "stream",
     "text": [
      "\u001b[A\u001b[A\u001b[A\n",
      "\n",
      "\n",
      "t:  99%|█████████▉| 1816/1830 [01:52<00:01, 12.14it/s, now=None]\u001b[A\u001b[A\u001b[A"
     ]
    },
    {
     "name": "stdout",
     "output_type": "stream",
     "text": [
      "5\n",
      "5\n",
      "5\n",
      "5\n",
      "5\n",
      "5\n"
     ]
    },
    {
     "name": "stderr",
     "output_type": "stream",
     "text": [
      "\n",
      "\n",
      "\n",
      "t:  99%|█████████▉| 1818/1830 [01:52<00:00, 12.61it/s, now=None]\u001b[A\u001b[A\u001b[A"
     ]
    },
    {
     "name": "stdout",
     "output_type": "stream",
     "text": [
      "5\n",
      "5\n",
      "5\n",
      "5\n",
      "5\n",
      "5\n"
     ]
    },
    {
     "name": "stderr",
     "output_type": "stream",
     "text": [
      "\n",
      "\n",
      "\n",
      "t:  99%|█████████▉| 1820/1830 [01:52<00:00, 11.75it/s, now=None]\u001b[A\u001b[A\u001b[A\n",
      "\n",
      "\n",
      "t: 100%|█████████▉| 1822/1830 [01:52<00:00, 13.03it/s, now=None]\u001b[A\u001b[A\u001b[A"
     ]
    },
    {
     "name": "stdout",
     "output_type": "stream",
     "text": [
      "5\n",
      "5\n",
      "5\n",
      "5\n",
      "5\n",
      "5\n"
     ]
    },
    {
     "name": "stderr",
     "output_type": "stream",
     "text": [
      "\n",
      "\n",
      "\n",
      "t: 100%|█████████▉| 1824/1830 [01:52<00:00, 13.88it/s, now=None]\u001b[A\u001b[A\u001b[A\n",
      "\n",
      "\n",
      "t: 100%|█████████▉| 1826/1830 [01:52<00:00, 13.69it/s, now=None]\u001b[A\u001b[A\u001b[A"
     ]
    },
    {
     "name": "stdout",
     "output_type": "stream",
     "text": [
      "5\n",
      "5\n",
      "5\n",
      "5\n",
      "5\n",
      "5\n"
     ]
    },
    {
     "name": "stderr",
     "output_type": "stream",
     "text": [
      "\n",
      "\n",
      "\n",
      "t: 100%|█████████▉| 1828/1830 [01:53<00:00, 14.03it/s, now=None]\u001b[A\u001b[A\u001b[A"
     ]
    },
    {
     "name": "stdout",
     "output_type": "stream",
     "text": [
      "5\n",
      "5\n",
      "5\n",
      "5\n",
      "5\n",
      "5\n",
      "5\n",
      "5\n"
     ]
    },
    {
     "name": "stderr",
     "output_type": "stream",
     "text": [
      "\n",
      "\n",
      "\n",
      "t: 100%|██████████| 1830/1830 [01:53<00:00, 13.73it/s, now=None]\u001b[A\u001b[A\u001b[A\n",
      "\n",
      "\n",
      "                                                                \u001b[A\u001b[A\u001b[A"
     ]
    },
    {
     "name": "stdout",
     "output_type": "stream",
     "text": [
      "5\n",
      "5\n"
     ]
    },
    {
     "name": "stderr",
     "output_type": "stream",
     "text": [
      "                                                             \n",
      "\u001b[A                                                          \n",
      "\n",
      "t:  39%|███▉      | 99/251 [33:35<00:08, 17.49it/s, now=None]\n",
      "t:  39%|███▉      | 99/251 [29:03<00:09, 16.54it/s, now=None]\u001b[A\n",
      "\n",
      "                                                             \u001b[A\u001b[A\n",
      "\u001b[A                                                          \n",
      "\n",
      "t:  39%|███▉      | 99/251 [33:35<00:08, 17.49it/s, now=None]\n",
      "t:  39%|███▉      | 99/251 [29:03<00:09, 16.54it/s, now=None]\u001b[A\n",
      "\n",
      "t:  39%|███▉      | 99/251 [23:18<00:10, 14.26it/s, now=None]\u001b[A\u001b[A"
     ]
    },
    {
     "name": "stdout",
     "output_type": "stream",
     "text": [
      "Moviepy - Done !\n",
      "Moviepy - video ready test_videos_output/20160330_184352_NF.mp4\n",
      "CPU times: user 1min 8s, sys: 12.2 s, total: 1min 20s\n",
      "Wall time: 1min 55s\n"
     ]
    }
   ],
   "source": [
    "challenge_output = 'test_videos_output/20160330_184352_NF.mp4'\n",
    "## To speed up the testing process you may want to try your pipeline on a shorter subclip of the video\n",
    "## To do so add .subclip(start_second,end_second) to the end of the line below\n",
    "## Where start_second and end_second are integer values representing the start and end of the subclip\n",
    "## You may also uncomment the following line for a subclip of the first 5 seconds\n",
    "##clip3 = VideoFileClip('test_videos/challenge.mp4').subclip(0,5)\n",
    "clip3 = VideoFileClip('test_videos/20160330_184352_NF.mp4')\n",
    "challenge_clip = clip3.fl_image(process_image)\n",
    "%time challenge_clip.write_videofile(challenge_output, audio=False)"
   ]
  },
  {
   "cell_type": "code",
   "execution_count": null,
   "metadata": {
    "collapsed": true
   },
   "outputs": [],
   "source": [
    "HTML(\"\"\"\n",
    "<video width=\"960\" height=\"540\" controls>\n",
    "  <source src=\"{0}\">\n",
    "</video>\n",
    "\"\"\".format(challenge_output))"
   ]
  }
 ],
 "metadata": {
  "anaconda-cloud": {},
  "kernelspec": {
   "display_name": "Python 3",
   "language": "python",
   "name": "python3"
  },
  "language_info": {
   "codemirror_mode": {
    "name": "ipython",
    "version": 3
   },
   "file_extension": ".py",
   "mimetype": "text/x-python",
   "name": "python",
   "nbconvert_exporter": "python",
   "pygments_lexer": "ipython3",
   "version": "3.6.2"
  }
 },
 "nbformat": 4,
 "nbformat_minor": 1
}
